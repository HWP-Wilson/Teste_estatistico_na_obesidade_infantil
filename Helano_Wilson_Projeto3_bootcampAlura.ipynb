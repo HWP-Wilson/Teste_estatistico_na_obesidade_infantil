{
  "nbformat": 4,
  "nbformat_minor": 0,
  "metadata": {
    "colab": {
      "name": "Helano_Wilson_Projeto3_bootcampAlura.ipynb",
      "provenance": [],
      "collapsed_sections": [
        "qBWr1UD9OvWr",
        "MjEynGKYX5cR",
        "6cyeVNjhX9Vh"
      ],
      "authorship_tag": "ABX9TyPo6Rbl+62LO2CIF1qt/5gk",
      "include_colab_link": true
    },
    "kernelspec": {
      "display_name": "Python 3",
      "name": "python3"
    }
  },
  "cells": [
    {
      "cell_type": "markdown",
      "metadata": {
        "id": "view-in-github",
        "colab_type": "text"
      },
      "source": [
        "<a href=\"https://colab.research.google.com/github/HWP-Wilson/Teste_estatistico_na_obesidade_infantil/blob/main/Helano_Wilson_Projeto3_bootcampAlura.ipynb\" target=\"_parent\"><img src=\"https://colab.research.google.com/assets/colab-badge.svg\" alt=\"Open In Colab\"/></a>"
      ]
    },
    {
      "cell_type": "markdown",
      "metadata": {
        "id": "dx2GPkIQNlHF"
      },
      "source": [
        "# <font color='blue'>Obesidade infanto-juvenil nas escolas \r\n",
        "helanowilson@ufc.br\r\n",
        "\r\n",
        "Helano Wilson\r\n",
        "##Sumário\r\n",
        "1.\tIntrodução\r\n",
        "2.\tImportação de bibliotecas\r\n",
        "3.\tDataset (exploração e análise das variáveis)\r\n",
        "4.\tDataset (Exploração estatística sobre obesidade)\r\n",
        "5.\tHipótese analisada atráves de teste estatístico \r\n",
        "7.\tConclusão\r\n",
        "\r\n",
        "\r\n"
      ]
    },
    {
      "cell_type": "markdown",
      "metadata": {
        "id": "qBWr1UD9OvWr"
      },
      "source": [
        "## 1. Introdução\r\n",
        "Em 2009, o Ministério da Saúde, em parceria com o Ministério da Educação, realizou a primeira edição do PeNSE - Pesquisa Nacional de Saúde do Escolar. Nessa edição, os escolares do 9o ano do ensino fundamental (antiga 8a série) das escolas públicas e privadas dos Municípios das Capitais constituíram sua população-alvo. Em 2012, manteve-se o público-alvo, no entanto foram acrescentados dados do ambiente escolar e entorno. Já na edição de 2015, a pesquisa ampliou o público investigado: de 11 anos até os 18 anos. Importante destacar que a justificativa para o público das edições de 2009 e 2012 ser alunos do 9º ano é ter capacidade de responder o questionário autoaplicável. Analisar, explorar, buscar respostas com os dados do PeNSE – 2015 (alunos) é objetivo desse projeto. \r\n",
        "O projeto pretende focar na relação Atividade física x Obesidade infanto-juvenil, sendo dividido em três momentos.\r\n",
        "\r\n",
        "•\tNo primeiro momento será explorado dados relativos ao Dataset disponibilizado no site do IBGE, como tamanho do arquivo, colunas disponíveis, interpretação e entendimento de variáveis e processamento das informações úteis para o projeto.\r\n",
        "\r\n",
        "•\tNo segundo momento o trabalho foca em exploração estatística dos dados. Onde estão os obesos? Como está dividido as condições nutricionais nas regiões? A obesidade é heterogênea nas idades pesquisadas? Existe diferença nesse quesito em relação ao sexo? Escolas particulares ou públicas possuem maior proporção de obesos? \r\n",
        "\r\n",
        "•\tNo terceiro momento levanta-se a hipótese (analisado com teste estatístico) que alunos que não praticam atividade física são mais propensos a serem obesos que alunos que praticam atividade física. \r\n"
      ]
    },
    {
      "cell_type": "markdown",
      "metadata": {
        "id": "RGXuCg3bPBo8"
      },
      "source": [
        "## 2. Importação de bibliotecas \r\n",
        "Essas são as bibliotecas que serão usadas no projeto: Numpy; Pandas; Matplotlib; Seaborn e Scipy. \r\n"
      ]
    },
    {
      "cell_type": "code",
      "metadata": {
        "id": "0VItXuNOEI4Z"
      },
      "source": [
        "#Importando bibliotecas; baixando arquivos e tratando os dados\r\n",
        "import numpy as np\r\n",
        "import pandas as pd\r\n",
        "import matplotlib.pyplot as plt\r\n",
        "import matplotlib.ticker as ticker\r\n",
        "import seaborn as sns\r\n",
        "plt.style.use('ggplot')\r\n",
        "from scipy.stats import norm\r\n",
        "\r\n",
        "\r\n",
        "\r\n",
        "%matplotlib inline"
      ],
      "execution_count": null,
      "outputs": []
    },
    {
      "cell_type": "code",
      "metadata": {
        "colab": {
          "base_uri": "https://localhost:8080/"
        },
        "id": "NARKjsuvNZbc",
        "outputId": "37417113-f30e-425a-f74a-b63489d72a46"
      },
      "source": [
        "# Montando o Google Drive\r\n",
        "from google.colab import drive\r\n",
        "drive.mount('/content/drive')"
      ],
      "execution_count": null,
      "outputs": [
        {
          "output_type": "stream",
          "text": [
            "Mounted at /content/drive\n"
          ],
          "name": "stdout"
        }
      ]
    },
    {
      "cell_type": "markdown",
      "metadata": {
        "id": "fpuvarXATFbc"
      },
      "source": [
        "##3. Dataset (Análise exploratória sobre o Dataset)"
      ]
    },
    {
      "cell_type": "markdown",
      "metadata": {
        "id": "p2CjSZFPSIpJ"
      },
      "source": [
        "### 3.1 Importação do arquivo Pense2015 (base para esse projeto)"
      ]
    },
    {
      "cell_type": "code",
      "metadata": {
        "id": "e6SiXSxBFfbj"
      },
      "source": [
        "###Importação do Dataset utilizado como base \r\n",
        "dados =  pd.read_csv('/content/drive/MyDrive/Helano_Wilson_Projeto3_bootcampAlura/PENSE_AMOSTRA2_ALUNO.CSV', sep = \";\", thousands = \".\", decimal = \",\")\r\n"
      ],
      "execution_count": null,
      "outputs": []
    },
    {
      "cell_type": "code",
      "metadata": {
        "id": "85eDnP8_GKcR",
        "colab": {
          "base_uri": "https://localhost:8080/",
          "height": 253
        },
        "outputId": "0feb6872-3f14-4805-84ca-bcc5fdec04bb"
      },
      "source": [
        "###Visualização do Dataset (as 5 primeiras linhas)\r\n",
        "dados.head()"
      ],
      "execution_count": null,
      "outputs": [
        {
          "output_type": "execute_result",
          "data": {
            "text/html": [
              "<div>\n",
              "<style scoped>\n",
              "    .dataframe tbody tr th:only-of-type {\n",
              "        vertical-align: middle;\n",
              "    }\n",
              "\n",
              "    .dataframe tbody tr th {\n",
              "        vertical-align: top;\n",
              "    }\n",
              "\n",
              "    .dataframe thead th {\n",
              "        text-align: right;\n",
              "    }\n",
              "</style>\n",
              "<table border=\"1\" class=\"dataframe\">\n",
              "  <thead>\n",
              "    <tr style=\"text-align: right;\">\n",
              "      <th></th>\n",
              "      <th>ANOPESQ</th>\n",
              "      <th>PAIS</th>\n",
              "      <th>REGEOGR</th>\n",
              "      <th>VB00004</th>\n",
              "      <th>VB01001</th>\n",
              "      <th>VB01002</th>\n",
              "      <th>VB01003</th>\n",
              "      <th>VB01004</th>\n",
              "      <th>VB01005</th>\n",
              "      <th>VB01006</th>\n",
              "      <th>VB01007</th>\n",
              "      <th>VB01008A</th>\n",
              "      <th>VB01010A</th>\n",
              "      <th>VB01011</th>\n",
              "      <th>VB01012</th>\n",
              "      <th>VB01013</th>\n",
              "      <th>VB01014</th>\n",
              "      <th>VB01015A</th>\n",
              "      <th>VB01016</th>\n",
              "      <th>VB01017</th>\n",
              "      <th>VB01018</th>\n",
              "      <th>VB01019</th>\n",
              "      <th>VB01020A</th>\n",
              "      <th>VB01021</th>\n",
              "      <th>VB01022</th>\n",
              "      <th>VB01023</th>\n",
              "      <th>VB01024</th>\n",
              "      <th>VB01025</th>\n",
              "      <th>VB01026</th>\n",
              "      <th>VB02001</th>\n",
              "      <th>VB02002</th>\n",
              "      <th>VB02004A</th>\n",
              "      <th>VB02010</th>\n",
              "      <th>VB02011</th>\n",
              "      <th>VB02013</th>\n",
              "      <th>VB02017A</th>\n",
              "      <th>VB02018A</th>\n",
              "      <th>VB02019A</th>\n",
              "      <th>VB02020A</th>\n",
              "      <th>VB02021</th>\n",
              "      <th>...</th>\n",
              "      <th>VB11005</th>\n",
              "      <th>VB11006</th>\n",
              "      <th>VB11007</th>\n",
              "      <th>VB12001</th>\n",
              "      <th>VB12002</th>\n",
              "      <th>VB12003</th>\n",
              "      <th>VB13001</th>\n",
              "      <th>VB13002A</th>\n",
              "      <th>VB13004A</th>\n",
              "      <th>VB13005</th>\n",
              "      <th>VB13006</th>\n",
              "      <th>VB13007</th>\n",
              "      <th>VB13008</th>\n",
              "      <th>VB13009</th>\n",
              "      <th>VB14001</th>\n",
              "      <th>VB14002</th>\n",
              "      <th>VB16001A01</th>\n",
              "      <th>VB16001A02</th>\n",
              "      <th>VB16001A03</th>\n",
              "      <th>VB16001A04</th>\n",
              "      <th>VB16001A05</th>\n",
              "      <th>VB16001A06</th>\n",
              "      <th>VB16001A07</th>\n",
              "      <th>VB16001A08</th>\n",
              "      <th>VB17001</th>\n",
              "      <th>VB17002</th>\n",
              "      <th>VB17003</th>\n",
              "      <th>VB17004</th>\n",
              "      <th>VB17005</th>\n",
              "      <th>VB17006</th>\n",
              "      <th>ESTRATO_EXP</th>\n",
              "      <th>ESTRATOGEOREG</th>\n",
              "      <th>PESO</th>\n",
              "      <th>V0006</th>\n",
              "      <th>V0007</th>\n",
              "      <th>V0008</th>\n",
              "      <th>V0041</th>\n",
              "      <th>aluno</th>\n",
              "      <th>escola</th>\n",
              "      <th>turma</th>\n",
              "    </tr>\n",
              "  </thead>\n",
              "  <tbody>\n",
              "    <tr>\n",
              "      <th>0</th>\n",
              "      <td>2015</td>\n",
              "      <td>76</td>\n",
              "      <td>1</td>\n",
              "      <td>1</td>\n",
              "      <td>2</td>\n",
              "      <td>1</td>\n",
              "      <td>13</td>\n",
              "      <td>7</td>\n",
              "      <td>7</td>\n",
              "      <td>1</td>\n",
              "      <td>2</td>\n",
              "      <td>7</td>\n",
              "      <td>3</td>\n",
              "      <td>2</td>\n",
              "      <td>-1</td>\n",
              "      <td>1</td>\n",
              "      <td>1</td>\n",
              "      <td>1</td>\n",
              "      <td>1</td>\n",
              "      <td>1</td>\n",
              "      <td>2</td>\n",
              "      <td>4</td>\n",
              "      <td>2</td>\n",
              "      <td>4</td>\n",
              "      <td>1</td>\n",
              "      <td>2</td>\n",
              "      <td>2</td>\n",
              "      <td>5</td>\n",
              "      <td>1</td>\n",
              "      <td>8</td>\n",
              "      <td>3</td>\n",
              "      <td>4</td>\n",
              "      <td>3</td>\n",
              "      <td>6</td>\n",
              "      <td>6</td>\n",
              "      <td>1</td>\n",
              "      <td>6</td>\n",
              "      <td>1</td>\n",
              "      <td>-1</td>\n",
              "      <td>2</td>\n",
              "      <td>...</td>\n",
              "      <td>2</td>\n",
              "      <td>1</td>\n",
              "      <td>2</td>\n",
              "      <td>1</td>\n",
              "      <td>1</td>\n",
              "      <td>4</td>\n",
              "      <td>2</td>\n",
              "      <td>-1</td>\n",
              "      <td>3</td>\n",
              "      <td>1</td>\n",
              "      <td>1</td>\n",
              "      <td>-1</td>\n",
              "      <td>1</td>\n",
              "      <td>1</td>\n",
              "      <td>2</td>\n",
              "      <td>2</td>\n",
              "      <td>1</td>\n",
              "      <td>2</td>\n",
              "      <td>2</td>\n",
              "      <td>2</td>\n",
              "      <td>2</td>\n",
              "      <td>2</td>\n",
              "      <td>2</td>\n",
              "      <td>2</td>\n",
              "      <td>371.0</td>\n",
              "      <td>1570.0</td>\n",
              "      <td>37.1</td>\n",
              "      <td>157.0</td>\n",
              "      <td>2</td>\n",
              "      <td>1</td>\n",
              "      <td>1223</td>\n",
              "      <td>1</td>\n",
              "      <td>299.735235</td>\n",
              "      <td>1</td>\n",
              "      <td>2</td>\n",
              "      <td>4</td>\n",
              "      <td>1</td>\n",
              "      <td>1</td>\n",
              "      <td>1</td>\n",
              "      <td>296</td>\n",
              "    </tr>\n",
              "    <tr>\n",
              "      <th>1</th>\n",
              "      <td>2015</td>\n",
              "      <td>76</td>\n",
              "      <td>1</td>\n",
              "      <td>1</td>\n",
              "      <td>2</td>\n",
              "      <td>1</td>\n",
              "      <td>14</td>\n",
              "      <td>4</td>\n",
              "      <td>7</td>\n",
              "      <td>1</td>\n",
              "      <td>1</td>\n",
              "      <td>7</td>\n",
              "      <td>3</td>\n",
              "      <td>2</td>\n",
              "      <td>-1</td>\n",
              "      <td>1</td>\n",
              "      <td>1</td>\n",
              "      <td>1</td>\n",
              "      <td>1</td>\n",
              "      <td>1</td>\n",
              "      <td>2</td>\n",
              "      <td>2</td>\n",
              "      <td>2</td>\n",
              "      <td>4</td>\n",
              "      <td>1</td>\n",
              "      <td>2</td>\n",
              "      <td>2</td>\n",
              "      <td>5</td>\n",
              "      <td>3</td>\n",
              "      <td>8</td>\n",
              "      <td>2</td>\n",
              "      <td>1</td>\n",
              "      <td>8</td>\n",
              "      <td>8</td>\n",
              "      <td>6</td>\n",
              "      <td>1</td>\n",
              "      <td>1</td>\n",
              "      <td>5</td>\n",
              "      <td>-1</td>\n",
              "      <td>2</td>\n",
              "      <td>...</td>\n",
              "      <td>2</td>\n",
              "      <td>3</td>\n",
              "      <td>2</td>\n",
              "      <td>4</td>\n",
              "      <td>4</td>\n",
              "      <td>4</td>\n",
              "      <td>1</td>\n",
              "      <td>2</td>\n",
              "      <td>3</td>\n",
              "      <td>3</td>\n",
              "      <td>1</td>\n",
              "      <td>-1</td>\n",
              "      <td>1</td>\n",
              "      <td>1</td>\n",
              "      <td>2</td>\n",
              "      <td>2</td>\n",
              "      <td>2</td>\n",
              "      <td>2</td>\n",
              "      <td>2</td>\n",
              "      <td>1</td>\n",
              "      <td>2</td>\n",
              "      <td>2</td>\n",
              "      <td>2</td>\n",
              "      <td>2</td>\n",
              "      <td>502.0</td>\n",
              "      <td>1520.0</td>\n",
              "      <td>50.2</td>\n",
              "      <td>152.0</td>\n",
              "      <td>2</td>\n",
              "      <td>2</td>\n",
              "      <td>1223</td>\n",
              "      <td>1</td>\n",
              "      <td>355.170081</td>\n",
              "      <td>1</td>\n",
              "      <td>2</td>\n",
              "      <td>4</td>\n",
              "      <td>1</td>\n",
              "      <td>2</td>\n",
              "      <td>1</td>\n",
              "      <td>296</td>\n",
              "    </tr>\n",
              "    <tr>\n",
              "      <th>2</th>\n",
              "      <td>2015</td>\n",
              "      <td>76</td>\n",
              "      <td>1</td>\n",
              "      <td>1</td>\n",
              "      <td>1</td>\n",
              "      <td>4</td>\n",
              "      <td>13</td>\n",
              "      <td>6</td>\n",
              "      <td>7</td>\n",
              "      <td>1</td>\n",
              "      <td>1</td>\n",
              "      <td>5</td>\n",
              "      <td>5</td>\n",
              "      <td>2</td>\n",
              "      <td>-1</td>\n",
              "      <td>2</td>\n",
              "      <td>1</td>\n",
              "      <td>1</td>\n",
              "      <td>1</td>\n",
              "      <td>1</td>\n",
              "      <td>2</td>\n",
              "      <td>3</td>\n",
              "      <td>1</td>\n",
              "      <td>4</td>\n",
              "      <td>1</td>\n",
              "      <td>2</td>\n",
              "      <td>2</td>\n",
              "      <td>5</td>\n",
              "      <td>3</td>\n",
              "      <td>2</td>\n",
              "      <td>3</td>\n",
              "      <td>1</td>\n",
              "      <td>8</td>\n",
              "      <td>2</td>\n",
              "      <td>8</td>\n",
              "      <td>1</td>\n",
              "      <td>1</td>\n",
              "      <td>5</td>\n",
              "      <td>5</td>\n",
              "      <td>1</td>\n",
              "      <td>...</td>\n",
              "      <td>2</td>\n",
              "      <td>1</td>\n",
              "      <td>2</td>\n",
              "      <td>1</td>\n",
              "      <td>2</td>\n",
              "      <td>3</td>\n",
              "      <td>1</td>\n",
              "      <td>2</td>\n",
              "      <td>1</td>\n",
              "      <td>2</td>\n",
              "      <td>5</td>\n",
              "      <td>99</td>\n",
              "      <td>1</td>\n",
              "      <td>-1</td>\n",
              "      <td>2</td>\n",
              "      <td>2</td>\n",
              "      <td>1</td>\n",
              "      <td>1</td>\n",
              "      <td>1</td>\n",
              "      <td>1</td>\n",
              "      <td>1</td>\n",
              "      <td>1</td>\n",
              "      <td>1</td>\n",
              "      <td>1</td>\n",
              "      <td>482.0</td>\n",
              "      <td>1614.0</td>\n",
              "      <td>48.2</td>\n",
              "      <td>161.4</td>\n",
              "      <td>2</td>\n",
              "      <td>2</td>\n",
              "      <td>1223</td>\n",
              "      <td>1</td>\n",
              "      <td>299.735235</td>\n",
              "      <td>1</td>\n",
              "      <td>2</td>\n",
              "      <td>4</td>\n",
              "      <td>1</td>\n",
              "      <td>3</td>\n",
              "      <td>1</td>\n",
              "      <td>296</td>\n",
              "    </tr>\n",
              "    <tr>\n",
              "      <th>3</th>\n",
              "      <td>2015</td>\n",
              "      <td>76</td>\n",
              "      <td>1</td>\n",
              "      <td>1</td>\n",
              "      <td>1</td>\n",
              "      <td>1</td>\n",
              "      <td>14</td>\n",
              "      <td>6</td>\n",
              "      <td>7</td>\n",
              "      <td>1</td>\n",
              "      <td>1</td>\n",
              "      <td>7</td>\n",
              "      <td>4</td>\n",
              "      <td>2</td>\n",
              "      <td>-1</td>\n",
              "      <td>1</td>\n",
              "      <td>1</td>\n",
              "      <td>1</td>\n",
              "      <td>1</td>\n",
              "      <td>1</td>\n",
              "      <td>2</td>\n",
              "      <td>4</td>\n",
              "      <td>2</td>\n",
              "      <td>4</td>\n",
              "      <td>1</td>\n",
              "      <td>2</td>\n",
              "      <td>2</td>\n",
              "      <td>6</td>\n",
              "      <td>3</td>\n",
              "      <td>2</td>\n",
              "      <td>4</td>\n",
              "      <td>1</td>\n",
              "      <td>3</td>\n",
              "      <td>2</td>\n",
              "      <td>7</td>\n",
              "      <td>1</td>\n",
              "      <td>5</td>\n",
              "      <td>1</td>\n",
              "      <td>-1</td>\n",
              "      <td>2</td>\n",
              "      <td>...</td>\n",
              "      <td>2</td>\n",
              "      <td>1</td>\n",
              "      <td>2</td>\n",
              "      <td>2</td>\n",
              "      <td>2</td>\n",
              "      <td>4</td>\n",
              "      <td>1</td>\n",
              "      <td>10</td>\n",
              "      <td>3</td>\n",
              "      <td>1</td>\n",
              "      <td>2</td>\n",
              "      <td>-1</td>\n",
              "      <td>1</td>\n",
              "      <td>-1</td>\n",
              "      <td>2</td>\n",
              "      <td>2</td>\n",
              "      <td>1</td>\n",
              "      <td>2</td>\n",
              "      <td>2</td>\n",
              "      <td>2</td>\n",
              "      <td>1</td>\n",
              "      <td>2</td>\n",
              "      <td>2</td>\n",
              "      <td>2</td>\n",
              "      <td>694.0</td>\n",
              "      <td>1725.0</td>\n",
              "      <td>69.4</td>\n",
              "      <td>172.5</td>\n",
              "      <td>2</td>\n",
              "      <td>3</td>\n",
              "      <td>1223</td>\n",
              "      <td>1</td>\n",
              "      <td>355.170081</td>\n",
              "      <td>1</td>\n",
              "      <td>2</td>\n",
              "      <td>4</td>\n",
              "      <td>1</td>\n",
              "      <td>4</td>\n",
              "      <td>1</td>\n",
              "      <td>296</td>\n",
              "    </tr>\n",
              "    <tr>\n",
              "      <th>4</th>\n",
              "      <td>2015</td>\n",
              "      <td>76</td>\n",
              "      <td>1</td>\n",
              "      <td>1</td>\n",
              "      <td>1</td>\n",
              "      <td>1</td>\n",
              "      <td>13</td>\n",
              "      <td>9</td>\n",
              "      <td>7</td>\n",
              "      <td>1</td>\n",
              "      <td>2</td>\n",
              "      <td>5</td>\n",
              "      <td>4</td>\n",
              "      <td>2</td>\n",
              "      <td>-1</td>\n",
              "      <td>2</td>\n",
              "      <td>1</td>\n",
              "      <td>1</td>\n",
              "      <td>1</td>\n",
              "      <td>1</td>\n",
              "      <td>2</td>\n",
              "      <td>5</td>\n",
              "      <td>1</td>\n",
              "      <td>4</td>\n",
              "      <td>1</td>\n",
              "      <td>2</td>\n",
              "      <td>2</td>\n",
              "      <td>6</td>\n",
              "      <td>5</td>\n",
              "      <td>6</td>\n",
              "      <td>3</td>\n",
              "      <td>5</td>\n",
              "      <td>2</td>\n",
              "      <td>6</td>\n",
              "      <td>2</td>\n",
              "      <td>1</td>\n",
              "      <td>5</td>\n",
              "      <td>1</td>\n",
              "      <td>5</td>\n",
              "      <td>1</td>\n",
              "      <td>...</td>\n",
              "      <td>2</td>\n",
              "      <td>1</td>\n",
              "      <td>4</td>\n",
              "      <td>2</td>\n",
              "      <td>2</td>\n",
              "      <td>4</td>\n",
              "      <td>1</td>\n",
              "      <td>3</td>\n",
              "      <td>2</td>\n",
              "      <td>2</td>\n",
              "      <td>2</td>\n",
              "      <td>13</td>\n",
              "      <td>1</td>\n",
              "      <td>-1</td>\n",
              "      <td>1</td>\n",
              "      <td>2</td>\n",
              "      <td>1</td>\n",
              "      <td>1</td>\n",
              "      <td>1</td>\n",
              "      <td>1</td>\n",
              "      <td>1</td>\n",
              "      <td>1</td>\n",
              "      <td>1</td>\n",
              "      <td>1</td>\n",
              "      <td>789.0</td>\n",
              "      <td>1675.0</td>\n",
              "      <td>78.9</td>\n",
              "      <td>167.5</td>\n",
              "      <td>2</td>\n",
              "      <td>4</td>\n",
              "      <td>1223</td>\n",
              "      <td>1</td>\n",
              "      <td>299.735235</td>\n",
              "      <td>1</td>\n",
              "      <td>2</td>\n",
              "      <td>4</td>\n",
              "      <td>1</td>\n",
              "      <td>5</td>\n",
              "      <td>1</td>\n",
              "      <td>296</td>\n",
              "    </tr>\n",
              "  </tbody>\n",
              "</table>\n",
              "<p>5 rows × 181 columns</p>\n",
              "</div>"
            ],
            "text/plain": [
              "   ANOPESQ  PAIS  REGEOGR  VB00004  VB01001  ...  V0008  V0041  aluno  escola  turma\n",
              "0     2015    76        1        1        2  ...      4      1      1       1    296\n",
              "1     2015    76        1        1        2  ...      4      1      2       1    296\n",
              "2     2015    76        1        1        1  ...      4      1      3       1    296\n",
              "3     2015    76        1        1        1  ...      4      1      4       1    296\n",
              "4     2015    76        1        1        1  ...      4      1      5       1    296\n",
              "\n",
              "[5 rows x 181 columns]"
            ]
          },
          "metadata": {
            "tags": []
          },
          "execution_count": 7
        }
      ]
    },
    {
      "cell_type": "code",
      "metadata": {
        "id": "wFBCjCf2UxJG",
        "colab": {
          "base_uri": "https://localhost:8080/"
        },
        "outputId": "fb4a8812-db3e-405a-d067-9142d720b324"
      },
      "source": [
        "### Qual o tamanho do arquivo? Quantos alunos participaram da pesquisa? Quantas colunas existem no DataSet?\r\n",
        "\r\n",
        "# Tamanho do dataset\r\n",
        "dados.shape\r\n",
        "\r\n",
        "print('O dataset possui {} linhas (alunos) e {} colunas'.format(dados.shape[0], dados.shape[1]))\r\n"
      ],
      "execution_count": null,
      "outputs": [
        {
          "output_type": "stream",
          "text": [
            "O dataset possui 16556 linhas (alunos) e 181 colunas\n"
          ],
          "name": "stdout"
        }
      ]
    },
    {
      "cell_type": "code",
      "metadata": {
        "colab": {
          "base_uri": "https://localhost:8080/"
        },
        "id": "UJnRwk-KeyWm",
        "outputId": "92097313-7e65-4ded-a848-46f70693f3b7"
      },
      "source": [
        "### Quais as variáveis (e seus códigos) utilizados no questionário? Quais variáveis serão importantes para esse projeto sobre Obesidade?\r\n",
        "# Verificando as colunas existentes\r\n",
        "dados.columns.values"
      ],
      "execution_count": null,
      "outputs": [
        {
          "output_type": "execute_result",
          "data": {
            "text/plain": [
              "array(['ANOPESQ', 'PAIS', 'REGEOGR', 'VB00004', 'VB01001', 'VB01002',\n",
              "       'VB01003', 'VB01004', 'VB01005', 'VB01006', 'VB01007', 'VB01008A',\n",
              "       'VB01010A', 'VB01011', 'VB01012', 'VB01013', 'VB01014', 'VB01015A',\n",
              "       'VB01016', 'VB01017', 'VB01018', 'VB01019', 'VB01020A', 'VB01021',\n",
              "       'VB01022', 'VB01023', 'VB01024', 'VB01025', 'VB01026', 'VB02001',\n",
              "       'VB02002', 'VB02004A', 'VB02010', 'VB02011', 'VB02013', 'VB02017A',\n",
              "       'VB02018A', 'VB02019A', 'VB02020A', 'VB02021', 'VB02022',\n",
              "       'VB02023', 'VB02024', 'VB02025', 'VB02026', 'VB02027', 'VB03001A1',\n",
              "       'VB03001A2', 'VB03002A1', 'VB03002A2', 'VB03003A', 'VB03005A',\n",
              "       'VB03006A', 'VB03007', 'VB03008', 'VB03009A', 'VB03010A',\n",
              "       'VB03011A', 'TEMPODESLOC', 'TEMPOTOTAL', 'TEMPOEDFIS',\n",
              "       'TEMPOEXTRA', 'TEMPOEST', 'VB04001', 'VB04002', 'VB04003',\n",
              "       'VB04005', 'VB04006A', 'VB04008A', 'VB04009', 'VB04010', 'VB04011',\n",
              "       'VB05002', 'VB05003', 'VB05004', 'VB05005', 'VB05006A', 'VB05007',\n",
              "       'VB05009', 'VB05010', 'VB06001', 'VB06002', 'VB06003A', 'VB06004A',\n",
              "       'VB06005A', 'VB06006', 'VB07001', 'VB07002', 'VB07003', 'VB07004',\n",
              "       'VB07005', 'VB07006', 'VB07007', 'VB07008', 'VB07009', 'VB07010',\n",
              "       'VB08001', 'VB08002', 'VB08003A', 'VB08005', 'VB08006', 'VB08007',\n",
              "       'VB08008', 'VB08009', 'VB08010', 'VB08011', 'VB08012', 'VB08013',\n",
              "       'VB09001', 'VB09002', 'VB09003', 'VB09004', 'VB09005', 'VB09006A1',\n",
              "       'VB09006A2', 'VB09007A', 'VB09008', 'VB09009', 'VB09010',\n",
              "       'VB09011', 'VB09012', 'VB09013A', 'VB09014A', 'VB09015', 'VB09016',\n",
              "       'VB0901701', 'VB0901702', 'VB0901703', 'VB0901704', 'VB0901705',\n",
              "       'VB0901706', 'VB10001A', 'VB10002', 'VB10003', 'VB10004',\n",
              "       'VB10005', 'VB10006', 'VB11001', 'VB11002', 'VB11003', 'VB11004A',\n",
              "       'VB11005', 'VB11006', 'VB11007', 'VB12001', 'VB12002', 'VB12003',\n",
              "       'VB13001', 'VB13002A', 'VB13004A', 'VB13005', 'VB13006', 'VB13007',\n",
              "       'VB13008', 'VB13009', 'VB14001', 'VB14002', 'VB16001A01',\n",
              "       'VB16001A02', 'VB16001A03', 'VB16001A04', 'VB16001A05',\n",
              "       'VB16001A06', 'VB16001A07', 'VB16001A08', 'VB17001', 'VB17002',\n",
              "       'VB17003', 'VB17004', 'VB17005', 'VB17006', 'ESTRATO_EXP',\n",
              "       'ESTRATOGEOREG', 'PESO', 'V0006', 'V0007', 'V0008', 'V0041',\n",
              "       'aluno', 'escola', 'turma'], dtype=object)"
            ]
          },
          "metadata": {
            "tags": []
          },
          "execution_count": 9
        }
      ]
    },
    {
      "cell_type": "markdown",
      "metadata": {
        "id": "FtjxbgG-RSsq"
      },
      "source": [
        " \r\n",
        "\r\n",
        "###3.2 Variáveis utilizadas\r\n",
        "Vou selecionar as variáveis importantes para a análise. Como os microdados apresentam 181 variáveis, vou me concentrar em apenas algumas delas.\r\n",
        "\r\n",
        "REGEOGR: Região do País\r\n",
        "\r\n",
        "•\t1: Norte\r\n",
        "\r\n",
        "•\t2: Nordeste\r\n",
        "\r\n",
        "•\t3: Sudeste\r\n",
        "\r\n",
        "•\t4: Sul\r\n",
        "\r\n",
        "•\t5: Centro-Oeste\r\n",
        "\r\n",
        "VB01001: Sexo\r\n",
        "\r\n",
        "•\t1: Masculino\r\n",
        "\r\n",
        "•\t2: Feminino\r\n",
        "\r\n",
        "VB01002: Raça\r\n",
        "\r\n",
        "•\t1: Branca\r\n",
        "\r\n",
        "•\t2: Preta\r\n",
        "\r\n",
        "•\t3: Amarela\r\n",
        "\r\n",
        "•\t4: Parda\r\n",
        "\r\n",
        "•\t5: Indígena\r\n",
        "\r\n",
        "VB01003: Idade\r\n",
        "\r\n",
        "•\t11: 11 anos ou menos\r\n",
        "\r\n",
        "•\t12: 12 anos\r\n",
        "\r\n",
        "•\t13: 13 anos\r\n",
        "\r\n",
        "•\t14: 14 anos\r\n",
        "\r\n",
        "•\t15: 15 anos\r\n",
        "\r\n",
        "•\t16: 16 anos \r\n",
        "\r\n",
        "•\t17: 17 anos\r\n",
        "\r\n",
        "•\t18: 18 anos\r\n",
        "\r\n",
        "•\t19: 19 anos ou mais\r\n",
        "\r\n",
        "VB17006: Estado Nutricional\r\n",
        "\r\n",
        "•\t1: Deficit de peso\r\n",
        "\r\n",
        "•\t2: Eutrofia\r\n",
        "\r\n",
        "•\t3: Sobrepeso\r\n",
        "\r\n",
        "•\t4: Obesidade\r\n",
        "\r\n",
        "VB0007: Classe administrativa da Escola\r\n",
        "\r\n",
        "•\t1: Pública\r\n",
        "\r\n",
        "•\t2: Particular"
      ]
    },
    {
      "cell_type": "code",
      "metadata": {
        "colab": {
          "base_uri": "https://localhost:8080/",
          "height": 270
        },
        "id": "qB5toh7Hl7eW",
        "outputId": "c1a2cd0a-65bf-47d9-a5ad-4125a2a04415"
      },
      "source": [
        "### Criação de dicionários para melhor apresentação e análise gráfica.\r\n",
        "Raça = {1: 'Branca', 2: 'Preta', 3: 'Amarela', 4: 'Parda', 5: 'Indigena', 99: 'Não Informado'}\r\n",
        "dados['Raça']= dados['VB01002'].map(Raça)\r\n",
        "Nutricional = {1: 'Déficit de peso', 2: 'Eutrofia', 3: 'Sobrepeso', 4: 'Obesidade'}\r\n",
        "dados['Nutricional']= dados['VB17006'].map(Nutricional)\r\n",
        "Região = {1: 'Norte', 2: 'Nordeste', 3: 'Sudeste', 4: 'Sul', 5: 'Centro-Oeste'}\r\n",
        "dados['Região']= dados['REGEOGR'].map(Região)\r\n",
        "Sexo = {1: 'Masculino', 2: 'Feminino'}\r\n",
        "dados['Sexo']= dados['VB01001'].map(Sexo)\r\n",
        "Admistração = {1: 'Pública', 2: 'Particular'}\r\n",
        "dados['Administração']= dados['V0007'].map(Admistração)\r\n",
        "dados.head()\r\n"
      ],
      "execution_count": null,
      "outputs": [
        {
          "output_type": "execute_result",
          "data": {
            "text/html": [
              "<div>\n",
              "<style scoped>\n",
              "    .dataframe tbody tr th:only-of-type {\n",
              "        vertical-align: middle;\n",
              "    }\n",
              "\n",
              "    .dataframe tbody tr th {\n",
              "        vertical-align: top;\n",
              "    }\n",
              "\n",
              "    .dataframe thead th {\n",
              "        text-align: right;\n",
              "    }\n",
              "</style>\n",
              "<table border=\"1\" class=\"dataframe\">\n",
              "  <thead>\n",
              "    <tr style=\"text-align: right;\">\n",
              "      <th></th>\n",
              "      <th>ANOPESQ</th>\n",
              "      <th>PAIS</th>\n",
              "      <th>REGEOGR</th>\n",
              "      <th>VB00004</th>\n",
              "      <th>VB01001</th>\n",
              "      <th>VB01002</th>\n",
              "      <th>VB01003</th>\n",
              "      <th>VB01004</th>\n",
              "      <th>VB01005</th>\n",
              "      <th>VB01006</th>\n",
              "      <th>VB01007</th>\n",
              "      <th>VB01008A</th>\n",
              "      <th>VB01010A</th>\n",
              "      <th>VB01011</th>\n",
              "      <th>VB01012</th>\n",
              "      <th>VB01013</th>\n",
              "      <th>VB01014</th>\n",
              "      <th>VB01015A</th>\n",
              "      <th>VB01016</th>\n",
              "      <th>VB01017</th>\n",
              "      <th>VB01018</th>\n",
              "      <th>VB01019</th>\n",
              "      <th>VB01020A</th>\n",
              "      <th>VB01021</th>\n",
              "      <th>VB01022</th>\n",
              "      <th>VB01023</th>\n",
              "      <th>VB01024</th>\n",
              "      <th>VB01025</th>\n",
              "      <th>VB01026</th>\n",
              "      <th>VB02001</th>\n",
              "      <th>VB02002</th>\n",
              "      <th>VB02004A</th>\n",
              "      <th>VB02010</th>\n",
              "      <th>VB02011</th>\n",
              "      <th>VB02013</th>\n",
              "      <th>VB02017A</th>\n",
              "      <th>VB02018A</th>\n",
              "      <th>VB02019A</th>\n",
              "      <th>VB02020A</th>\n",
              "      <th>VB02021</th>\n",
              "      <th>...</th>\n",
              "      <th>VB12003</th>\n",
              "      <th>VB13001</th>\n",
              "      <th>VB13002A</th>\n",
              "      <th>VB13004A</th>\n",
              "      <th>VB13005</th>\n",
              "      <th>VB13006</th>\n",
              "      <th>VB13007</th>\n",
              "      <th>VB13008</th>\n",
              "      <th>VB13009</th>\n",
              "      <th>VB14001</th>\n",
              "      <th>VB14002</th>\n",
              "      <th>VB16001A01</th>\n",
              "      <th>VB16001A02</th>\n",
              "      <th>VB16001A03</th>\n",
              "      <th>VB16001A04</th>\n",
              "      <th>VB16001A05</th>\n",
              "      <th>VB16001A06</th>\n",
              "      <th>VB16001A07</th>\n",
              "      <th>VB16001A08</th>\n",
              "      <th>VB17001</th>\n",
              "      <th>VB17002</th>\n",
              "      <th>VB17003</th>\n",
              "      <th>VB17004</th>\n",
              "      <th>VB17005</th>\n",
              "      <th>VB17006</th>\n",
              "      <th>ESTRATO_EXP</th>\n",
              "      <th>ESTRATOGEOREG</th>\n",
              "      <th>PESO</th>\n",
              "      <th>V0006</th>\n",
              "      <th>V0007</th>\n",
              "      <th>V0008</th>\n",
              "      <th>V0041</th>\n",
              "      <th>aluno</th>\n",
              "      <th>escola</th>\n",
              "      <th>turma</th>\n",
              "      <th>Raça</th>\n",
              "      <th>Nutricional</th>\n",
              "      <th>Região</th>\n",
              "      <th>Sexo</th>\n",
              "      <th>Administração</th>\n",
              "    </tr>\n",
              "  </thead>\n",
              "  <tbody>\n",
              "    <tr>\n",
              "      <th>0</th>\n",
              "      <td>2015</td>\n",
              "      <td>76</td>\n",
              "      <td>1</td>\n",
              "      <td>1</td>\n",
              "      <td>2</td>\n",
              "      <td>1</td>\n",
              "      <td>13</td>\n",
              "      <td>7</td>\n",
              "      <td>7</td>\n",
              "      <td>1</td>\n",
              "      <td>2</td>\n",
              "      <td>7</td>\n",
              "      <td>3</td>\n",
              "      <td>2</td>\n",
              "      <td>-1</td>\n",
              "      <td>1</td>\n",
              "      <td>1</td>\n",
              "      <td>1</td>\n",
              "      <td>1</td>\n",
              "      <td>1</td>\n",
              "      <td>2</td>\n",
              "      <td>4</td>\n",
              "      <td>2</td>\n",
              "      <td>4</td>\n",
              "      <td>1</td>\n",
              "      <td>2</td>\n",
              "      <td>2</td>\n",
              "      <td>5</td>\n",
              "      <td>1</td>\n",
              "      <td>8</td>\n",
              "      <td>3</td>\n",
              "      <td>4</td>\n",
              "      <td>3</td>\n",
              "      <td>6</td>\n",
              "      <td>6</td>\n",
              "      <td>1</td>\n",
              "      <td>6</td>\n",
              "      <td>1</td>\n",
              "      <td>-1</td>\n",
              "      <td>2</td>\n",
              "      <td>...</td>\n",
              "      <td>4</td>\n",
              "      <td>2</td>\n",
              "      <td>-1</td>\n",
              "      <td>3</td>\n",
              "      <td>1</td>\n",
              "      <td>1</td>\n",
              "      <td>-1</td>\n",
              "      <td>1</td>\n",
              "      <td>1</td>\n",
              "      <td>2</td>\n",
              "      <td>2</td>\n",
              "      <td>1</td>\n",
              "      <td>2</td>\n",
              "      <td>2</td>\n",
              "      <td>2</td>\n",
              "      <td>2</td>\n",
              "      <td>2</td>\n",
              "      <td>2</td>\n",
              "      <td>2</td>\n",
              "      <td>371.0</td>\n",
              "      <td>1570.0</td>\n",
              "      <td>37.1</td>\n",
              "      <td>157.0</td>\n",
              "      <td>2</td>\n",
              "      <td>1</td>\n",
              "      <td>1223</td>\n",
              "      <td>1</td>\n",
              "      <td>299.735235</td>\n",
              "      <td>1</td>\n",
              "      <td>2</td>\n",
              "      <td>4</td>\n",
              "      <td>1</td>\n",
              "      <td>1</td>\n",
              "      <td>1</td>\n",
              "      <td>296</td>\n",
              "      <td>Branca</td>\n",
              "      <td>Déficit de peso</td>\n",
              "      <td>Norte</td>\n",
              "      <td>Feminino</td>\n",
              "      <td>Particular</td>\n",
              "    </tr>\n",
              "    <tr>\n",
              "      <th>1</th>\n",
              "      <td>2015</td>\n",
              "      <td>76</td>\n",
              "      <td>1</td>\n",
              "      <td>1</td>\n",
              "      <td>2</td>\n",
              "      <td>1</td>\n",
              "      <td>14</td>\n",
              "      <td>4</td>\n",
              "      <td>7</td>\n",
              "      <td>1</td>\n",
              "      <td>1</td>\n",
              "      <td>7</td>\n",
              "      <td>3</td>\n",
              "      <td>2</td>\n",
              "      <td>-1</td>\n",
              "      <td>1</td>\n",
              "      <td>1</td>\n",
              "      <td>1</td>\n",
              "      <td>1</td>\n",
              "      <td>1</td>\n",
              "      <td>2</td>\n",
              "      <td>2</td>\n",
              "      <td>2</td>\n",
              "      <td>4</td>\n",
              "      <td>1</td>\n",
              "      <td>2</td>\n",
              "      <td>2</td>\n",
              "      <td>5</td>\n",
              "      <td>3</td>\n",
              "      <td>8</td>\n",
              "      <td>2</td>\n",
              "      <td>1</td>\n",
              "      <td>8</td>\n",
              "      <td>8</td>\n",
              "      <td>6</td>\n",
              "      <td>1</td>\n",
              "      <td>1</td>\n",
              "      <td>5</td>\n",
              "      <td>-1</td>\n",
              "      <td>2</td>\n",
              "      <td>...</td>\n",
              "      <td>4</td>\n",
              "      <td>1</td>\n",
              "      <td>2</td>\n",
              "      <td>3</td>\n",
              "      <td>3</td>\n",
              "      <td>1</td>\n",
              "      <td>-1</td>\n",
              "      <td>1</td>\n",
              "      <td>1</td>\n",
              "      <td>2</td>\n",
              "      <td>2</td>\n",
              "      <td>2</td>\n",
              "      <td>2</td>\n",
              "      <td>2</td>\n",
              "      <td>1</td>\n",
              "      <td>2</td>\n",
              "      <td>2</td>\n",
              "      <td>2</td>\n",
              "      <td>2</td>\n",
              "      <td>502.0</td>\n",
              "      <td>1520.0</td>\n",
              "      <td>50.2</td>\n",
              "      <td>152.0</td>\n",
              "      <td>2</td>\n",
              "      <td>2</td>\n",
              "      <td>1223</td>\n",
              "      <td>1</td>\n",
              "      <td>355.170081</td>\n",
              "      <td>1</td>\n",
              "      <td>2</td>\n",
              "      <td>4</td>\n",
              "      <td>1</td>\n",
              "      <td>2</td>\n",
              "      <td>1</td>\n",
              "      <td>296</td>\n",
              "      <td>Branca</td>\n",
              "      <td>Eutrofia</td>\n",
              "      <td>Norte</td>\n",
              "      <td>Feminino</td>\n",
              "      <td>Particular</td>\n",
              "    </tr>\n",
              "    <tr>\n",
              "      <th>2</th>\n",
              "      <td>2015</td>\n",
              "      <td>76</td>\n",
              "      <td>1</td>\n",
              "      <td>1</td>\n",
              "      <td>1</td>\n",
              "      <td>4</td>\n",
              "      <td>13</td>\n",
              "      <td>6</td>\n",
              "      <td>7</td>\n",
              "      <td>1</td>\n",
              "      <td>1</td>\n",
              "      <td>5</td>\n",
              "      <td>5</td>\n",
              "      <td>2</td>\n",
              "      <td>-1</td>\n",
              "      <td>2</td>\n",
              "      <td>1</td>\n",
              "      <td>1</td>\n",
              "      <td>1</td>\n",
              "      <td>1</td>\n",
              "      <td>2</td>\n",
              "      <td>3</td>\n",
              "      <td>1</td>\n",
              "      <td>4</td>\n",
              "      <td>1</td>\n",
              "      <td>2</td>\n",
              "      <td>2</td>\n",
              "      <td>5</td>\n",
              "      <td>3</td>\n",
              "      <td>2</td>\n",
              "      <td>3</td>\n",
              "      <td>1</td>\n",
              "      <td>8</td>\n",
              "      <td>2</td>\n",
              "      <td>8</td>\n",
              "      <td>1</td>\n",
              "      <td>1</td>\n",
              "      <td>5</td>\n",
              "      <td>5</td>\n",
              "      <td>1</td>\n",
              "      <td>...</td>\n",
              "      <td>3</td>\n",
              "      <td>1</td>\n",
              "      <td>2</td>\n",
              "      <td>1</td>\n",
              "      <td>2</td>\n",
              "      <td>5</td>\n",
              "      <td>99</td>\n",
              "      <td>1</td>\n",
              "      <td>-1</td>\n",
              "      <td>2</td>\n",
              "      <td>2</td>\n",
              "      <td>1</td>\n",
              "      <td>1</td>\n",
              "      <td>1</td>\n",
              "      <td>1</td>\n",
              "      <td>1</td>\n",
              "      <td>1</td>\n",
              "      <td>1</td>\n",
              "      <td>1</td>\n",
              "      <td>482.0</td>\n",
              "      <td>1614.0</td>\n",
              "      <td>48.2</td>\n",
              "      <td>161.4</td>\n",
              "      <td>2</td>\n",
              "      <td>2</td>\n",
              "      <td>1223</td>\n",
              "      <td>1</td>\n",
              "      <td>299.735235</td>\n",
              "      <td>1</td>\n",
              "      <td>2</td>\n",
              "      <td>4</td>\n",
              "      <td>1</td>\n",
              "      <td>3</td>\n",
              "      <td>1</td>\n",
              "      <td>296</td>\n",
              "      <td>Parda</td>\n",
              "      <td>Eutrofia</td>\n",
              "      <td>Norte</td>\n",
              "      <td>Masculino</td>\n",
              "      <td>Particular</td>\n",
              "    </tr>\n",
              "    <tr>\n",
              "      <th>3</th>\n",
              "      <td>2015</td>\n",
              "      <td>76</td>\n",
              "      <td>1</td>\n",
              "      <td>1</td>\n",
              "      <td>1</td>\n",
              "      <td>1</td>\n",
              "      <td>14</td>\n",
              "      <td>6</td>\n",
              "      <td>7</td>\n",
              "      <td>1</td>\n",
              "      <td>1</td>\n",
              "      <td>7</td>\n",
              "      <td>4</td>\n",
              "      <td>2</td>\n",
              "      <td>-1</td>\n",
              "      <td>1</td>\n",
              "      <td>1</td>\n",
              "      <td>1</td>\n",
              "      <td>1</td>\n",
              "      <td>1</td>\n",
              "      <td>2</td>\n",
              "      <td>4</td>\n",
              "      <td>2</td>\n",
              "      <td>4</td>\n",
              "      <td>1</td>\n",
              "      <td>2</td>\n",
              "      <td>2</td>\n",
              "      <td>6</td>\n",
              "      <td>3</td>\n",
              "      <td>2</td>\n",
              "      <td>4</td>\n",
              "      <td>1</td>\n",
              "      <td>3</td>\n",
              "      <td>2</td>\n",
              "      <td>7</td>\n",
              "      <td>1</td>\n",
              "      <td>5</td>\n",
              "      <td>1</td>\n",
              "      <td>-1</td>\n",
              "      <td>2</td>\n",
              "      <td>...</td>\n",
              "      <td>4</td>\n",
              "      <td>1</td>\n",
              "      <td>10</td>\n",
              "      <td>3</td>\n",
              "      <td>1</td>\n",
              "      <td>2</td>\n",
              "      <td>-1</td>\n",
              "      <td>1</td>\n",
              "      <td>-1</td>\n",
              "      <td>2</td>\n",
              "      <td>2</td>\n",
              "      <td>1</td>\n",
              "      <td>2</td>\n",
              "      <td>2</td>\n",
              "      <td>2</td>\n",
              "      <td>1</td>\n",
              "      <td>2</td>\n",
              "      <td>2</td>\n",
              "      <td>2</td>\n",
              "      <td>694.0</td>\n",
              "      <td>1725.0</td>\n",
              "      <td>69.4</td>\n",
              "      <td>172.5</td>\n",
              "      <td>2</td>\n",
              "      <td>3</td>\n",
              "      <td>1223</td>\n",
              "      <td>1</td>\n",
              "      <td>355.170081</td>\n",
              "      <td>1</td>\n",
              "      <td>2</td>\n",
              "      <td>4</td>\n",
              "      <td>1</td>\n",
              "      <td>4</td>\n",
              "      <td>1</td>\n",
              "      <td>296</td>\n",
              "      <td>Branca</td>\n",
              "      <td>Sobrepeso</td>\n",
              "      <td>Norte</td>\n",
              "      <td>Masculino</td>\n",
              "      <td>Particular</td>\n",
              "    </tr>\n",
              "    <tr>\n",
              "      <th>4</th>\n",
              "      <td>2015</td>\n",
              "      <td>76</td>\n",
              "      <td>1</td>\n",
              "      <td>1</td>\n",
              "      <td>1</td>\n",
              "      <td>1</td>\n",
              "      <td>13</td>\n",
              "      <td>9</td>\n",
              "      <td>7</td>\n",
              "      <td>1</td>\n",
              "      <td>2</td>\n",
              "      <td>5</td>\n",
              "      <td>4</td>\n",
              "      <td>2</td>\n",
              "      <td>-1</td>\n",
              "      <td>2</td>\n",
              "      <td>1</td>\n",
              "      <td>1</td>\n",
              "      <td>1</td>\n",
              "      <td>1</td>\n",
              "      <td>2</td>\n",
              "      <td>5</td>\n",
              "      <td>1</td>\n",
              "      <td>4</td>\n",
              "      <td>1</td>\n",
              "      <td>2</td>\n",
              "      <td>2</td>\n",
              "      <td>6</td>\n",
              "      <td>5</td>\n",
              "      <td>6</td>\n",
              "      <td>3</td>\n",
              "      <td>5</td>\n",
              "      <td>2</td>\n",
              "      <td>6</td>\n",
              "      <td>2</td>\n",
              "      <td>1</td>\n",
              "      <td>5</td>\n",
              "      <td>1</td>\n",
              "      <td>5</td>\n",
              "      <td>1</td>\n",
              "      <td>...</td>\n",
              "      <td>4</td>\n",
              "      <td>1</td>\n",
              "      <td>3</td>\n",
              "      <td>2</td>\n",
              "      <td>2</td>\n",
              "      <td>2</td>\n",
              "      <td>13</td>\n",
              "      <td>1</td>\n",
              "      <td>-1</td>\n",
              "      <td>1</td>\n",
              "      <td>2</td>\n",
              "      <td>1</td>\n",
              "      <td>1</td>\n",
              "      <td>1</td>\n",
              "      <td>1</td>\n",
              "      <td>1</td>\n",
              "      <td>1</td>\n",
              "      <td>1</td>\n",
              "      <td>1</td>\n",
              "      <td>789.0</td>\n",
              "      <td>1675.0</td>\n",
              "      <td>78.9</td>\n",
              "      <td>167.5</td>\n",
              "      <td>2</td>\n",
              "      <td>4</td>\n",
              "      <td>1223</td>\n",
              "      <td>1</td>\n",
              "      <td>299.735235</td>\n",
              "      <td>1</td>\n",
              "      <td>2</td>\n",
              "      <td>4</td>\n",
              "      <td>1</td>\n",
              "      <td>5</td>\n",
              "      <td>1</td>\n",
              "      <td>296</td>\n",
              "      <td>Branca</td>\n",
              "      <td>Obesidade</td>\n",
              "      <td>Norte</td>\n",
              "      <td>Masculino</td>\n",
              "      <td>Particular</td>\n",
              "    </tr>\n",
              "  </tbody>\n",
              "</table>\n",
              "<p>5 rows × 186 columns</p>\n",
              "</div>"
            ],
            "text/plain": [
              "   ANOPESQ  PAIS  REGEOGR  ...  Região       Sexo  Administração\n",
              "0     2015    76        1  ...   Norte   Feminino     Particular\n",
              "1     2015    76        1  ...   Norte   Feminino     Particular\n",
              "2     2015    76        1  ...   Norte  Masculino     Particular\n",
              "3     2015    76        1  ...   Norte  Masculino     Particular\n",
              "4     2015    76        1  ...   Norte  Masculino     Particular\n",
              "\n",
              "[5 rows x 186 columns]"
            ]
          },
          "metadata": {
            "tags": []
          },
          "execution_count": 10
        }
      ]
    },
    {
      "cell_type": "markdown",
      "metadata": {
        "id": "Kw4WXxvSVWy0"
      },
      "source": [
        "##4. Dataset (Análise estatística sobre a pesquisa (Pense2015) e sobre Obesidade)"
      ]
    },
    {
      "cell_type": "code",
      "metadata": {
        "id": "vYf4LgaKe-aj",
        "colab": {
          "base_uri": "https://localhost:8080/",
          "height": 391
        },
        "outputId": "64112393-20fa-4426-dd2c-a439c6b6e2a6"
      },
      "source": [
        "### Como estão distribuidos, por raças, os 16556 alunos participantes da pesquisa?\r\n",
        "\r\n",
        "dados['Raça'].value_counts().plot(kind='bar', figsize=(12,6), grid = False, rot=0, color ='green')\r\n",
        "plt.title('Distribuição de raças entre os alunos pesquisados')\r\n",
        "plt.xlabel('')\r\n",
        "plt.ylabel('Quantidade de alunos')\r\n",
        "plt.show()"
      ],
      "execution_count": null,
      "outputs": [
        {
          "output_type": "display_data",
          "data": {
            "image/png": "[encoded data removed]",
            "text/plain": [
              "<Figure size 864x432 with 1 Axes>"
            ]
          },
          "metadata": {
            "tags": [],
            "needs_background": "light"
          }
        }
      ]
    },
    {
      "cell_type": "code",
      "metadata": {
        "id": "_jvE_bDnZTQ_",
        "colab": {
          "base_uri": "https://localhost:8080/"
        },
        "outputId": "7a01e538-eb06-4f67-d784-8dc425e9699e"
      },
      "source": [
        "### Distribuição por raças dos alunos participantes da pesquisa em porcentagem.\r\n",
        "\r\n",
        "### Verifica-se compatibilidade com a distribuição por raças na população brasileiras segundo o IBGE. \r\n",
        "dados['Raça'].value_counts(normalize=True)*100"
      ],
      "execution_count": null,
      "outputs": [
        {
          "output_type": "execute_result",
          "data": {
            "text/plain": [
              "Parda            40.625755\n",
              "Branca           39.713699\n",
              "Preta            11.711766\n",
              "Amarela           4.300556\n",
              "Indigena          3.509302\n",
              "Não Informado     0.138922\n",
              "Name: Raça, dtype: float64"
            ]
          },
          "metadata": {
            "tags": []
          },
          "execution_count": 12
        }
      ]
    },
    {
      "cell_type": "markdown",
      "metadata": {
        "id": "vpN38vyDuTtT"
      },
      "source": [
        "40,6% dos entrevistados se declararam Pardos; \r\n",
        "\r\n",
        "39,7% dos entrevistados são brancos;\r\n",
        "\r\n",
        "11,7% dos alunos são pretos;\r\n",
        "\r\n",
        "4,3% se consideram amarelos e apenas 3,5% são indigenas. "
      ]
    },
    {
      "cell_type": "markdown",
      "metadata": {
        "id": "aqXBzeEFtsUe"
      },
      "source": [
        "![Divisao raças.png](data:image/png;base64,iVBORw0KGgoAAAANSUhEUgAAAqUAAAHtCAIAAACvWZD5AAAAAXNSR0IArs4c6QAAAARnQU1BAACxjwv8YQUAAAAJcEhZcwAADsMAAA7DAcdvqGQAAFnvSURBVHhe7b0LeBPXgb+9+zx99t9+X/cr3fzT0EuSbZq0abfZ7ta9OS2JKV13SULSBLcNbmlxaRM32TihG0qLSy6EQkwuDiGumxCTOA4JggAyhIhLDDgR4JirDAYbjAwG+SrfJEvW6MZ3ZubMaHQk2bIt2zNHv/f5PTxmNJrLmTnnnTM3/cNlAAAAAPAOfA8AAADwD3wPAAAA8A98DwAAAPAPfA8AAADwD3wPAAAA8A98DwAAAPAPfA8AAADwD3wPAAAA8A98PyqCgqvXJQTp/4ZnpOMTyFcE+idBcLlcHvo3SC1Cr4tsHVevprh1gLjFpQUb2W6jV8apkKMqyShqmYr0XTHaCU4YHs18R7UkaB9AMsD3Gkitk2uamvhVzmG+PzODMLvEllSVHOn4lx3bF2aJX8jKW2GytbhcTaaCjIyC7U76MUgltmKxqAnFNjokDlRX8uYLOhtqamtram3NLun/UUSNKUHNPbLm2Gl+SF6qAnMHHWRkkirkkeGxlcwRq1XmzIKyaruz12l9blbGtJJRTr/DTKqYyEPmCa5mwqFiqbJn0go+8iVxbM6X2peckrrk2heQrsD3EWyrpGrGMCOvsLzWGdVpUBuvAktSNXKE47eY8si4M3JyZsjfkphWYOGh3R8tcqdnXHoww6vIUVkgtqezi21kATosCzXbJWdV1CGccKx4Fhk6q1g7VNhfJH59ZFsQvh8aoXYlKdTM7NnZkuooOaVJHlHHMHm+d1bSOWeWSmUz8iVRGy50CcDQwPcR4vteZvbSKgcdjeCoLil8tLBkhz3JxmVE4zu3k/q+1ErUEnTZqysKH8jNfaDQVD/KdowPaJu4KmWdQw3DqYi2v5mFu0lvXtYMkXfe0mV50l+zyurpiJeDdtM8dUwtLssicdTMxVVxTgjEB74fGlvJtIzcdXbxzw6bedXC3Lm5C1dZHaO+9jF5vr/saTCvWLhwhalWnvEolsRhLVmysLDUYscpfTAk8H0E1fdF1fL5fEfDjopC6ZyhiNy9Sy3iqd7EIpeuLwx9PVIYxQVL0lceckWSmmbciQyxOmIHPYlDFjJanCk4JI+O2ffxy3MYFTWsEXvsROsN4hcbyqT/5a4nprGb5kqfrG2Qx3TtLhT3lXkme0zp0X5/Rk5ZIx0Sn0ipDuV76ZLBiI//hKG/Qgonmd077vYZnqEKOZnVSbhPivvVkJWIMHQtk4m1bBJrKo7CLBUZRJZniC8OW85D+558fbilimU0yxmXocuEfJrcFIfZFYeeUgrnMorGMznEcmKmnExjnnjNRlflY4HvI6i+Lz5Gh4gEHSba8mbkbZT7+NrGS22XZ0U35YqiMvJMLTGNXdBZu2ah5nR9ZvachcWVDXLnz9VsrViSlz2NfkbImldYcSiq7gtNluJHc6TLfiJZsxeW1STqDNC5i1py1pYtoOc/M2cWVNRF9TbFaSqfEshMTZER6ESK9guXPXbzijxp1srlCY/dskq7Olk5jxZXtdC903moonCeuqSZ2QuKrS3yJwQ6WbFD3GIpUkebll2wRrmG4mowL8tVl4oiNYVxt5d6dlQdOFx5xmwdLUJtkfRFSfAEzQJfFqwrpP/IRyGCjZ7KPxavWgbpgUJmokMWsmkeoKsvbZoG1vfyyZ752tPXWXlLKminMAZaOOJhCtnZCujqk4Itt7m0jQ6z7WbkLFRLnqC4h6yv0GRWN1DWvCKLuhHj+0kpVTowppCTWx1x59GMkzkzr3CdTdwpg05bZfHC2ep+Ja3aqugOLlnx8sK8mcq3p2XnrTDTOhaLZi3sCdaU7lpzTWRXcB4qK5CmrJyEF88xaC/AkY1YrD2fR3bjFdqdMCvngcKK/Q4ygrrHFlRKKx+3PMXNpGxEwoy8wo2R7chUhDEtp5Zktj5huHKmi7fCKlwW7JVFedLc4156YJo1cW9cVSWWEWHc5sI0nuzmkDlG99+ogQpDFPgoGvPIWo+wyicDfB8hrj8IQo10/ZUgbVGm8XLtWCj/R+3nicjX4AlipWUaO+IJzRZUyFxZK+/Y6g4XTeRmHNJZzKEDo2CuJSsoc5+Vlzdb/ksl0t1MMM2spXvkKkUnkrnKbF6gLry0Oh5bMTtZwkJLr/g1euWbYVpuBZ2vsmzz8vI0VUImRypPdaNEMRLfD1eezNaJ5lixtPzqwRwdOdb39vXSBo9yXhS2VXRKmr1EwWOVjyo05OTQUlX79+qRZTQJbgJVCmdW3nx2w8oFKxJ/22lOZanuid1A0wqrpE08St8nsTpxd55Za6SFp0dXLJkLlDtkgg7NjqphWoFZc2EugroWs3JyEqypsiMVmLaXqGUqC0A5f8Og3IJHL/SwyP0Hdf9M6PsEmynrSXp5iKkIo19OhmS2fhLlTBdvWrFZs0GZNpYQvwlaZBHXcbznQiqF0niym0MmGd/HK3B1atEM15jLaz3CKp8M8H2EuP4QcVUV0k+KyNEj23gJ1iL5f5qm3L4+Vx62cAfZcInGL7Y6BfGEZIt40F1WJ3+VjGCrWFFhqXeI5/2Cgn2zsvvKV3+VniKppXmlloYWR0N1hXIHWdzOpTp3sqMsNR1zkNmZnlT2MVqdlGlOKzA1Sntah7VIbmKmFUmHIZqJEMgR6IqSkhVmsjr0dDdZmvkllmN2R7PNWllcsExa1F4LPRSaXWSVpOVqNBXIDcc8k1RPNZOdlleyo8HRYbeWytfFyRDxXmtXU23tOjqZjEUVtdKN8bV14uFv3O2lVrDIwKHLk9k60TSsldeuuJb2pbTn8x3m+8W/xeO83qpCcb3E4ydXo6VkSX7u3HzmeqqwX97s+bG+sZcrm4NsoJqGhmPWyAbSnM8X6iqKyskWl84KeuxqCygdfLCohUOWaulGm6PXYdu4VJkoPRqL2nb1Dke9tWIR7WbMkps/tcWXxrE2O53N1pL5dL5UvaP0/XCro+484vJbxf28xlKxpKBCuVvCuaO4uLLW3iF+XXDWKkakR2bqUbhUpOJuaX5OOUsUtZwKMWvqqDfTKiBvYrbtzsyeX1hcWlxWLU/MaVlVbK6xO11ijXbWKI243CY0m2hz8JBJ3CUEFynGiiVF8v2brGBiylPZTJkF6xvEPn3QaV0pTz6zqEaqnNEVYfTLyZDE1k+mnDW7IiEr59GiktIis9rcyUQ3a7Zmh/2Y1byqYKm0M4zTXOI2nuzmkEnK9zLRBT6SxpxZa/HbI6nyyQDfR4jrDwm1tZIbX6bxUu7hUtoa9cpu/OODYK3y37zihCfhNajjy3s27XFmZDwpTVsicgZCPJ3FoM5dc2eZx7qUDpSWUJkmbcElXLvlg5zMErHOqBPJmLXCGjnfG7QV0wN/qhAtajWQDnooikHlawGRyS6tVhY8Mk1FdUplY67fx91e6kxjNqICU57s1tSi9ODvjziaNr6zFxbT+/UySTNhWyUOzCQlUxc5wBeZLV/1l2ikVTtmwdS9RXvrn9oQRHzPcogueNw2SC0czTYVrE/SgeJ1mUg5SzeHyijXL+iOEWnxNdu3qYLaSz7dNVrfs0SvjrodtfvkEDg258vjS8WrdoxyK5rkzwnqJbZcUzMdFCHumtYrG0E+VRtp1gsqmmLqWRT0WJCur8NMF25WoVk+ntagTja+79XNJF6aET8XUXog8kljpiKMfjkZht/6SZVzxMSziqyaXSQKtVmjXVst4zCXxI0nuzlkkvX9cAWeqDGPs9bxGLLKJwN8HyGuPyTU1oqxlFJJlHaBntJXDueVU/TM+K6qxXQrE8TrZ5W2qOf9goKj3mIqLSkWu4m5uXOVSzvSLhJ/d1RrZpzjdHXu8sGHjFqFxO6mOs3MmWR2SpSLo9KM1IlEd0/V+WqMqKKWZ9ZszWSVK3BSIUcKVmM1ddlS5Pshy1OzDLFNnrIkdEyJ6JOrOatsrmb52g1ZWrJlpaEPVdiOVcjLETkSV8oqpq7GXQDlUENbMoKjYYeppLRYfGSD3UAsauGIaldQCyd/s4P1CkUtfOngVR2HXsmSiSyweNoj/nSUcYYo5CFXJ7JxD8ljx9Brr62sIH24hUPtV1HbVJ1mnO7RcGtKphNp1p+rpZ9rcDXXmstLSlaITwqQKJdspQUgR2+afUa8glttV6++szWaKU/1v9Oy5SlLidqHmYow+uVkGH7rJ1XO6n/FvS4BUXsmS+rnElVl1NWUGs/44yTp+9gCT64xT7jMI6nyyQDfR2CqTQT18Jy+zSNm/1N7Y9IxuHIyX+2uxY7vsDD3oM1YaJIPDJW3iMQhum5Hb/L4VUIi7kdqsy6urK00wRwlpBklmH5dCf0mbda1OC0L5M/ik7hdTqnvhyvPIYtOWRLmJrugy35Mfd8OPXqTLorTSUklFvNdpVlh66ra3EQvgLJ2tBCEYyW5tGlmiVv5hy4ccanUUo3edlFfVJctahy1xKRlG3qcBIU83OpEdh7t8qsoL6SKQ9RiRxdp/KZcJok1Tfh1Up2V6yAxKAvgslUo92PKZM4plruh7GSZJVGrWFykcZhtPabl1DJsmdQnVc5xd0UGtQkaatOMfS7KONFzido545decr5nPx22MR9irUde5ZMBvo+QaI+ht2IREl/xdWyUxyG9IuX0bOT8W5zxRcR7ZfMj9U8696uc7s6YtdjcQM+hKV+XdpH4+5bTQocO1b8vlJdeQnVqVP8+f32D+JQOE/E4JNEqxG0RKGp5Ks83RkV6NCXuZMfke2bgsOWZYBlklCWJt3Yy9AaoaUXSKXE6KblLTZdkWN8nWIDa5+SBciGop/dnFW6WLuIShmyD1HLQ9mUjGzpx/14RbXT/Pmq/iixwwv49O5BZx+FXJ+7GpUTup8krrnFIO1Jk1aTx4xep2rwO1b9PvKaJmnXlyldGxrziWno3uboPRy2AeLf24siBvvw+BnayTNGp/73f1BBTiWjljC6rsS8nZfgySaqch9qUComWWWKc5xLdeMYdZ8jFS/jpKBtzyoirfDLA9xHi7jGuujLl3lT1brh4+59yQ37+qmJ5GyoP7xHi768UV61yyyxp2dXqp7nEqN64JNf/oS9B0SMSLercNZeH1XsGpZP8yq1kkWcEYkiwCpHpxFy/j5zn0BYFQ9zJjtj3muZbvaonb8QkynOorRPn+n0Uyn3XSvWjk5L+q5zbV5d5+Ov3moVkrt+rLa/mzKp6E1Pcyq8WTtT1e3qNIJnr99LRoTpf7fZV7z6TFyaeFSI7ZNxCTmJ11J2HvX5PGj51f9DcraLee8hs93hXfNX7bDTEXdME1++ZAleLOnLpJLL54lX5FvH12Oqn7GTVJZGLTq1i9M7ZODANV8qWc/itn1Q5M4sXF7UJYq9ki55L2VySaTzV0tM8b6XeoRW/riUo8OEbn6HWOok6Mgrg+wjqHpO3pKSklKRY++yj5mm3uIag71DLmJYpfUVxlUj0+EGbaYVJvGNTnpzQUEGbe9LCKpIgNUx+QkawW9RbteX6H7kWKN937XLWm5fSIfR+3WjUuWdkzC6yNDtdHQ1mdZry8UHk6aacpZXKsaTH5ai3VKyVTzrGXWWCstZk3tIdvOJLiqrNxQ8sjLLUtLwSpR8muJz2GnNxpTyZuJNV64lShpHbnYqqWki3xtFwyE4WW71FS7z/Xxpeq97bT6t9EuWZcNVEYu7Pj4K+YCdyUx5dclFRSkuqPLiv9q7i3J+vvU++ll0RqRAiPdqF8k3dQrNF2ejxK7+6M5NtWrRDfL18Q6V6fz4909Owlg7IeVL6mQbNjkGP/CItfkbmgjJxnJbaEvUObblBjNx/Kt5A7ozaIRMUcjKro7pW3c+bbZbywtxSm3rklDG3RHoY/7LrmHpQTpt7umk0u2WkSOmzIdHEWVPlERV5gyZs1iPdOLJsYt0Jumxr1c0nrW9HVUmpubbZKVeBy71V9G7ZuB1KdUlo0dG7QQk5TyrdRPGhngZLeRmtnNGqG/1yMiSx9ZMp56RMHHkcIzOv1GrvIPNqsFYW5y8SCyFlc0mm8VTuiRMfVqon89JWnPh1LUGBJ9H4DLHWI6/yyQDfR9A0kQxkY2hfoR/fEJGDNULU8RozvvrfKOSTe+qeHWFaXp58JEvrf4JHNskuPPTz99OystirQcM+f5+EFB1m+ohdFFTV8Z+/J9Beb9zJxvg+0gtRkJeqwxI765z5efK4TLsfgS3PxKtGoB2CeD1CepCUGe+GuKwcemdNnkl5M8lQz9/Hroi6kLQQ6F0CWjLn58mnlOJWfmVnzsyawX5xNM/fz8hiL/yqT2CTgiiN2XeGKeRkVod4Lt4uSfacSKsdgdnuyTyxHUUSa5rIo+T4I2ZBc/Lm08UR11cjTi3yhhjO94k3k1JBkvT98MvJkMzWT/7JeHXTJCB+WyEXQurmMnzjKdhKYkp76LqWqMCTacwTr/WIq3wywPcRYnyflSM+RW22ydaJkMAQkXOhUTdFx4xP9l3tK5PITqB5nRw56C6PXNTPnLPU3CTQM05q/Sezin4XXsaMvCK1X84Smbu1yVSovqBqRj7zfr3LHZG371HE13g1SGsypBRbrFELI75Er0L+GsHVGHkzl4z4SMJ+eVXiTjbG9+L6apacbJjFVfL3hfoK+W1WIrQY6Wlqpd0ftjyHXDX2/XoR4r9gJ+i0rpJfPkiWJ3fpbqU1Ug5ZEr1fT2gyL1Vu7RHfr1evLKRaCFE3fGXmLjPbPfQ0Y9zKH2n+qu2mxerWycqP8349zYvbxJ9k1Ly2TOMe2/5i+Z1lBFKM0W9Yc1TRVy6KZM0rIoVMG8FEhZzM6pBtt7FQnakI2c/3SJ+2WNTiEldK3O70BG+kuZffyBb5Otkty2rZuqxA11Ts5DkTrGlCj5IqvWNp5NaqGfllh5zKBT5pfV21JdFVQFthh/c9QfuSREpW3hITrZxJ+n7Y5WRIdusPU85JmpjgqC6OVGcCqdHrlIYkdXMZvvF0VGmaLLFG2D20UYpb1xIWeHKNecK1HmGVTwb4ftKQXomc4I3J8lvB1auqiUjm5eExTa34luYhXsUsT5Nk6KnGonyRnrRkGPrT5JCWPM6CycOHmnKS5RkPerKd9MuTX3KyQNHLo8g7L3IlLx7DbBpCEm/hlmGbv5hFYpD3RnaEGPeIoyXaM0ZRyMmsjvy44/wym3oJWWH47S6R5GgMQ61pXOTVH+IrShUY3X4oI6/LyCunhmGXU2VEW3+05RwHaa9INKOUzWXYcki6rg1DMvVCfsNm9lILvY9SQ6oWQwK+554h+69gWOi782J/9S55aOcgM87bkMaL5Ls7QxG3rzmxiL8tKXXlM+dUjOCQC4wdHWz9NMFVZy6Su/IzliqXycYF+J574Pux4twuXWObVVw7qp4ZvYw3Hr+vmBhufC9Cb9iMXN8BEwF8P5Eo972OqcIOB3zPPfB9CqAXX0bVPafnYCesay/Bie/JAsxU3p2X+IE0MC7A9xOErXhGjvLuvMgdvuMBfM89tgr6Ds4K+D59sJXLGz23gvnJkBHhrFoq7zzL6A2SE42rtkR6k+jCFaaEt9qBcWLSt3664DA/KpZz/pISS8zPK6QW+B4AAADgH/geAAAA4B/4HgAAAOAf+B4AAADgH/geAAAA4B/4HgAAAOAf+B4AAADgH/geAAAA4B/4HgAAAOAf+B4AAADgH/geAAAA4B/4HgAAAOAf+B4AAADgH/geAAAA4B/4HoAInZX3X0tZfYQOGy2t5vsfMHfS/wzJ0dVx5ki+Hncxjq6+v1IzVfpdiSRnN1qOrLp29VH695g5Ii73KrJyneZV47fYZC4j2I4pXcHRI+2E95tb6X8BSBXwPQARSFOr2FQS0lia3aR832l+QNaeLHhldsTi9LtkMSLLQIQkLpPG95oFHndSqMPOytXiSkkHK+Os2M7OkWzBztYJKsyEkN1A3h8ASDXwPQARWH2KDtZ2EGP7i6KwGeNSLzK+T0L/qlC1ZlUXifxBBjJLKA9MEnbtJMi8YgdGLa3yN+N7MjV6pBIhTmlQxJJkDp7EkdmFF0cbskfOLFjMyPFXhxJ18BRBO80I8RZPQ7zVjz9QC1OGEkPMKHF5AjBy4HsAIsQYkTS41BCkpZbOrkv9frlNF7un4qdiKy8LQzSQ2HZLI6sn2MVWW/xb+jRx863OKzJTETIXjUKYJYznj1jkcxXirMVFVZ2nLK00kIpT9OUD0uq0dpLZiCuiLDmBzktdEW0HPbY0FOhEtPZSRlY+IiilpC1hDeKYBLow99+vGVm7VNGrQz6NrJc0UJ0LHcisLLMumsVTiRSmOppI3DJR0RSgsiQSsTMiY8p/KB/FlicAowO+ByACaVupkBSoA9RWWBomWyThyDKkvVYbbtVeUdOJJjIacZLiA0L0V5iZSvJQSGgFssCKluIttjRHOgKZYOTTqFmLppTXLmo1lXHiTVYmMvF4KErWllK8r2gXTDuvIVdHmXh0GarLH7WymuEalClEiCpM7aRiyyQCGaKZzlAzGr48ARgl8D0AEWIaWUVyYmdLi9zii5+K/6FfibaUpuGWvqLC+ENCPTgQiZ5OlAiH0kA8i8hES0szQfIVBTrHqIlEz1r5KHrxIhNnSkODaLvILCToyBLi15n1il0X7RDtyNq/Y1ZHWbYEZcjMRfNfdvE0RBUmmdSQZaIQfQSgWeaYGUXGTFyeAIwK+B6ACFp5SMQXBgP5lmTr6EY/+Y4ambhGBoQjqzTTSeCqWBJ/FK0fOkFRJxq90TlGKTB61spH0asZ4zalNGIR5ygtIfmKOgX6dWbhGRMTtEO0Iyt/x12d+JtP/TozF+W/cRZPQ9QQMinpK8OUSQLfx5tR9JgEMnLiMzcAjAD4HoAIqgkkVD8RtE1zLLSx1n490kyTFpx1hoYY2RO002GcFL2EWrTCYyCLF/kogdXo39Gzo+ul/E0/ilqGOMuv/VY0sne1BaL+HeU57bJRtAvGlLP0t/Yr6t/qkmgXKVJQTNnS/8ZdvAjaSYlzT6pMxOmoi6ccHMSdEfkj+fIEYCTA9wBEIK22dGaVopWB1CIrSC2ydmSlrRddogwxr1YbbiIAFU1HUzs+hX6qGR41frRXor9Oh0epRUYUxmr1XLcyQc3yk0/pVxgFapZ8tVnzLAAZTYGqKF5pyGgXMjIXygOrV6s3K2hKKWoZJLQLpi0E9e94q6MxpWbzqd9lVlb9b/zFo8T3PSHyrVg9ixYnk6IfaxeAos5I8X1seYojs4cCAIwA+B4AvmBeyCOCDuJko1gcgEkEvgeAK6Ku/VPg+8kGvgc6AL4HgHvg+8kGvgc6AL4HAAAA+Ae+BwAAAPgHvgcAAAD4B74HAAAA+Ae+BwAAAPgHvgcAAAD4B74HAAAA+Ae+BwAAAPgHvgcAAAD4B74HAAAA+Ae+BwAAAPgHvgcAAAD4B74HAAAA+Ae+BwAAAPgHvgcAAAD4B74HAAAA+Ae+BwAAAPgHvgcAAAD4B74HAAAA+Ae+BwAAAPgHvgcAAAD4B74HAAAA+Ae+BwAAAPgHvgcAAAD4B74HAAAA+Ae+BwAAAPgHvgcAAAD4B74HAAAA+Ae+BwAAAPgHvgcAAAD4B74HAAAA+Ae+BwAAAPgHvgcAAAD4B74HAAAA+Ae+BwAAAPgHvgcAAAD4B74HAIyGcCAQ9AwE+/sCfb1i+vuDbnfI6wn5fOSjcCh0ORxWRg2T/4b8fvJR0OMJuFz+vj6ht9dPQr7l9dLRAADjCXwPAEhIcMDt73YGerqJp8PBoL+zY6D+RM/7O9vfWHth5V/P/fkPjfl59XPusd0x42jWdw9/5+u1N32p5obPH7j2yv2fn2Kd+s+uwx/Z165d/4//uOFjH9v4iU9smjLFPHXqu9ddZ7nppvdvvrl65syDublHHnzwxOOPnysra9u5s+/ECV9nJ5kROQiQjwbIoQNdFADA2IDvAQAi4VCQqN3f1Un66EGXa6DueMeGt84vf6Lh/nm2mdOJyK1XfXKkcR2SfP8P/zDSkMOC3d/97oF7761bvPj8m2+S44CA2x0cHBR6e3E+AIDRAd8DkKaE/X5/RztxPOlPe07Xt7/5+rnFj56457aPvn4do+1Rx3Woxv7aa4zLRx3zVVftmT79yEMPkSMAV2NjOBTy9/UFBgbo+gAAhgS+ByCNCPT1Cu1tIZ9vsNnevq686dGC4//1A0bSKUxqfR+bnd/85qH777+wfr2npSUkCP7eXrqeAIAY4HsAOCfo6hfaWklvfuBk3aWSF0796mc1X72GEfM4pb92fH2vzZYrrvjwzjsbi4tdDQ3hQADuB4ABvgeAT0g/nvTmfRcvtK59+XRebs0Nn2dkPAHprz04Yb7XZtOUKda77z5XVuZtbQ243QGPhxYKAGkMfA8AP5B+rdDqCAeDfdZq+5JFR36QwQh4gjNZvtfmvRtvPPrII90ffSRf76clBUD6Ad8DYHhEzbe1Es073zU3PvjbSenKx03/R5PvezWk018zd67j3XchfpCewPcAGBii+cvhcPd72xrz8w5ccwWj20lP/0cHml9/nfHupGfjxz9+cM6c9t27SdH5+/tpUQLAO/A9AMbD7+wKul2uQzVNjxbopzcfm/4aPfpeDenxH7rvvp6jR4MeT8jvp4ULAKfA9wAYB9If7Wj3d3ZcLF456dfmk4nOfa/mvRtvrF+2THA6cVc/4Bj4HgADEOjtCXk8PXt2n87LZZyq5/TX7DeE79VY7767c9++4OAg3uML+AO+B0DXkN48Mf2lkheO3PyfjE31n/6DBvO9nO1f+UpjcbH4Dn9c3QccAd8DoFP8XZ2DF5rP/fl/xd+eiVGpIdJ/0NpcXs7Y1CgxfexjRx580NPSgpP8gA/gewB0R6Cn233sSMNv5zL6NFwM7Xs1+3Nyeo8fxyN8wOjA9wDoiEBfX5/1g5M/v4sRp0HTd4AH38vZl53dZbX6XS66qQAwGvA9ALog0N/X+8GeE3f/N6NMQ6fvwIfc+F7Onltv7ayuhvWBEYHvAZhkAn29/Qf3n7jnNkaWHKRvP2++l7Nn+nTngQM4ww+MBXwPwKQR6OkZqD9R/4vZjCa5Sd/+D5rfeIORJTepvv32PpsNd/MBowDfAzAJiL9D39ba+OBvGUFyFr59L6dm7lxvayue3AP6B74HYEIJC0LY729+agmjRi7TZ/2guaKCESSXsS1aFPL78ZYeoGfgewAmjqBnoGPDW7U3fYnxIq/ps1anie9JzFOnNpeXBwYG6MYGQGfA9wBMBIG+Ps+pkyd+wtXt98MmrXwvZ8+tt/adOIGL+kCHwPcAjDPhcNjvtxcuZFyYDun7MO18L+foww+LP7gXDtN9AAAdAN8DMI4E+/t7dlkO/edXGBGmSfo+3Hc+LX1PsvXqqx3btuGZPaAf4HsAxgXSpw/09zXm5zEKTKuIvn/zTUaEaZWDc+YQ5YcEge4WAEwe8D0AqScwOBjo7z8x+3bGf+kW+J5k05QpLSYTOvpg0oHvAUgxfq9n8+9/e27fHs/pesZ/6ZbeD/bC93JIRz/gduOKPphE4HsAUgbp1l86XLvyy9c+9qmPkwx2dlwoWsYoMK0C32tjnjq1bedO3LoPJgv4HoDUEA6FPix+Tja9nHd+lxcWBNtt0xkLpk96q+F7NkcffjgcDNKdBoAJBL4HIAW42tpemTFNK3s5TVW7PY2nGQumT3qr98D3sdn1ne+4m5oCHg/dewCYEOB7AMZEwOdr2lPFaF6bwY72lmeWMyJMk4i+X7eOsR0i53xFBc7tg4kEvgdg9IRDob0rnmIEz2RD3tyQ4LPdMYNxYTqkd18VfD9EDufn49w+mDDgewBGiafb+Wr2dMbucXNm1w7v2UbGhekQ+H7YvP/973tbW/FDO2ACgO8BGDGCZ+DS4UPLr7mK8foQ8ba3XXy+iNEh9+nd+z58P2w2TZnSsXcvHtAH4w18D8DIEAYGjrzxGqPzYbN+7pyQz1d3ZzZjRL4D3yefxhdegPLBuALfAzACQoGA5c8LGZcnmQbLdm/TWcaIfEf0/VtvMWJDEuVwfj7evAvGD/gegGQJ+HwVOXcxFh9RvO2tF1c9y0iR4/Tu2Q3fjyjVM2cGvV66wwGQUuB7AJJioLOj5OZvMf4ead6akxMaHKxLm1/BF33/9tuM0pChY7npJu/Fi3S3AyB1wPcADE9nw+miL32BkffocvrdrV77OcaLvKanahd8P4psufLKnqNH0dEHqQW+B2AYzu//kHH2GONpa730UjGjRi5DfH8Bvh9txJft9/fTvRCAMQPfAzAU9ebNjK3Hnoqcn4QGvSfuuY2xI3+B78eY8+vW4aZ9kCrgewDiEwoEal99mVF1qlK/dcvg+WbGjvyl5/2d8P0Yc/all/DaXZAS4HsA4hAY9FY/8zQj6dRmoPWSo3Q1I0jOIvp+/XpGYMhIc2r5cigfjB34HgAWYWCg6q9PMnpOecp/cnvI6z2ZcwfjSJ4C36cqJ5YswYl9MEbgewCiCArC+0sfY9w8Tjm55Z3BlvOMI3lKz+4dLfB9ilK3eDGUD8YCfA9AhJDfP2GylzPguNT6SgmjSW4C36c2UD4YC/A9AJRQMLDnr0sZH493Xrvjx0GP5+TP7mRMyUd6dlvg+9RGPLGPa/lgVMD3AIiEQ6GDpS8xMp6Y1L1j8l1sYUzJR3p2wfepT/2yZVA+GAXwPQAitg1vMxqeyLgvXWwt+zsjSw7STXxvMjG6Qsaehueew4l9MFLgewAuN1XtZgQ8wXn1xz8Megbq7/0J40ujp3vne/D9OMW+di3evgdGBHwP0h3H0cOMfSclNtNbPscl69R/ZpRp6MD345pWiwXv2AfJA9+DtMZ59gzj3UmMu+VC2+trGGUaOt07t8P345qeo0fprgzAcMD3IH1xd7Q/fV1qfvUuJXllxi3BgYH63HsYaxo33Tvg+/HNliuv9ODHc0FywPcgTQkMDo799+xTnmNvVQhtrfs/N4URp0HTvePdlg0bGEUhqY3lpptwVh8kA3wP0pGgIFTk3MW4VidxXTjf9sZaRpwGTbcFvp+IVM+cGRIEunMDkAD4HqQdPrd724KHGMvqJ6W3fC844D71yxzGnUYMfD9hOZSfjyf0wNDA9yC9CAx6j1SUM4rVW4688brQ3rb/C//C6NNw6bZsg+8nLKdXroTywRDA9yC9cBzRxdN3w6b/fHP7unJGn4ZL93vbWjZuZLSEjF869uwJBwJ0XwcgGvgepBGe7u7l11zFmFWfKcn8VtDtPvWrnzEGNVac8P3EZtOUKd7WVrq7AxANfA/ShXA4tCY7i9GqnnP4tVeFzo4D1/xfRqIGivO9rfD9BOf9m28Oh0J0pwdAA3wP0oKAz1e17AlGqPpPX7O9Y/2bjEQNFOf2rRfh+wkP7t0DcYHvQVpw9v1djEoNkdXf/kbQ7To9717Go0aJc3vlxXfeYWyETEDOV1QEPB669wMgAd8D/nG1tjIeNVBqX33Z39V14F8/w6jUEHG+C99PWtxNTbQCACAB3wPOCYdCL0//PiNRY6XX3tS54S1GpYaI810zfD9Z2fXtb+NCPtAC3wOe8XsGqv76JKNPw+WF//xa0OU6/Ztcxqb6j3MbfD+ZOVpQ4O/tpZUBpD3wPeCZ8/utjDsNmpqX/+bvdh68biojVJ3HuW0LfD+5adu583I4TOsDSG/ge8Atfq9n5Q3XMuI0bnqaznZuMjFC1Xm6iO83bWIMhExkzFOnBtxuWiVAegPfAz7xe72bf/87RpmGzvNfvyHg6m/47VzGqXpO11b4fvJzYM4cPJ4HCPA94JNz+/YyvuQgB0peDPT0HLz+c4xWdZuurZvhez2kxWTCD+gB+B5wiN/jMcp7c0ea7jONXVveYbSq28D3OsmmT30KN+4B+B7wRlAQti9cwGiSmzxz4xcD/X0N9/2aMas+01UJ3+slOKsP4HvAG5cOH2IcyVmsLxYH+nprvvwFRq46TFflJvheP7m0ZQvu1U9n4HvAFaFg8NmvXc8Ikr84Gxu6tm5m5KrDdJk3Xdy8mbEOMlnZevXVIb+fVhWQfsD3gB+I7K2rnmfUyGVW3nBNoK+vMT+P8ave0mV+B77XVfAGnnQGvgf80HvhPONFjvPh888E+vtrbryGUayu0rUFvtdd+k6coBUGpBnwPeCEoOBbe9t/MVLkO10Np5zvVjKK1VW6tmyE7/WWqltvDQwM0GoD0gn4HnBC404Lo0Pu8/R1nw/09TY+MJ+xrH7StXnjpS1bGN8gk57m8vIwLuSnH/A94IFQIMDTq3OTz75nng66XR997V8Z0eoknZs3wPc6jHnqVNy4l4bA98Dw+L1eoj1GhOmTzlP13ZZtjGh1Evhetzm+aJG/v59WIZAewPfA8HicXYwC0yorrp3q7+098z+/Y1yrh3Ru2nDJbGZMg+gk3tZWWoVAegDfA2MTGBzc+sj/MApMt+xdsSw4MPDR169jdDvp6dxkgu91m5pf/lLAs3npBHwPjE3P+WZGfumZ9pN13TvfY3Q76YHvdR48m5dWwPfAwAR8vrd/8TPGfOmZv37hSn9Pz5mC+xnjTm4631kP3+s51bffjpfqpw/wPTAwnadPMdpL51Q99UTI46n99+sZ6U5i4Hv9x3ngAK1OgHfge2BUSOf+tVk/ZpyX5mmvs/Xs3sFIdxLTufFt+F7n2TN9ut/lopUKcA18D4xKW52NsR3y1Gf/xd/TffaR3zPenayIvq+sZASD6C2d+/bRSgW4Br4HhiQwOJhub89NMrufWBIa9Nb+x5cZ9U5KOje8Bd/rP3tuvRVd/HQAvgeGBJ37IdJ6/GjPnt2Meicl8L1R0mW10qoF+AW+B8ZDGHCX330HIzlEzdLPfMrf3X32Dw8y9p34dMD3Bsm+7GzcqM898D0wHh24LX+47Fzy55DPd+ibX2UEPMHpMK2D742S3uPHaQUDnALfA4Ph7ek2/SqX0RsSG8eRw737qhgBT3DgewNlf04OXrfHN/A9MBh9ly4yYkPi5okrPil0O5sefYhx8ESmY/2bl7ZuZbyC6DaelhZazQCPwPfASPjc7u1//AMjNiRR3vvzwpAgHPrWvzEanrAQ3zvge+PkyIMP4kfzOAa+B0Yi4PORbitjNWSIXDxU2/vBXkbDE5aOtyvgewPF9LGPBb1eWtkAd8D3wEgce/tNxmfI0Hl8yicEZ1fTHx9mTDwxge8Nl9MrV4YDAVrfAF/A98AwBP3Cixk3MT5Dhs32hQvCfv/h79zEyHgC0vHWG/C9sbL9K18JDg7SKgf4Ar4HhgHv2Bl1LtQc7LN+wMh4AtJOfL9tG2MUROfp2LuXVjnAF/A9MAZBQdj0u3mMxpDkI3R1nfvTAsbH4x343oix3n23Hw/m8Qh8D4yBz+1iBIaMKFsXPBQOBg9/7xuMksc17evKHe++y+gE0X8Ep5NWPMAR8D0wBsfXr2MEhow05/d/2H/Qyih5XEN83wrfGzD1y5eH/H5a9wAvwPfAAAQF4cVvf4OxFzKK+Lo6zy1+lLHy+KV93evwvRHz3o03Bj0eWv0AL8D3wAA4m84y3kJGl8qHfh8OhY7c/J+MmMcp7W/C90ZNz+HDtPoBXoDvgd4J+v27HitkvIWMOvYP9vV/dIAR8zil/c3X4HuD5tD99+Nde5wB3wPdEw4vv+YqRlrIWOLr7LD/5Y+Mm8cj7RXwvVGzacoUUvVoHQRcAN8DvXOh5gCjK2SM2fz735Gm/MgPMhg9pzxtFWtbt29nRIIYJe27d9NKCLgAvge6JjDo3XRfHqMrZOxp2lvVf6iG0XPK0/YGfG/gHJwzBw/i8wR8D3RNOBRa+plPMa5CUpLBjnb7Y39iDJ3awPeGzsaPf5xUQFoVgfGB74GuuXiolrEUkqps+l0eKeGjt3ybkXQK0/ZGGXxv6LTt3CnXRMAB8D3QL+FweNsfChhLISnM2fd3uY4cYiSdwrSVw/fGTs3cuf6+PlohgcGB74F+CYdCuDN/vDPY3t78xGLG06lKW/mrre+9xygEMVA2TZkSDgZphQQGB74H+qWz4TQjJyTl2ZA393I4fDTru4yqU5K219fA90ZP90cf0QoJDA58D/RL9bNPM3JCxiNndu5wHzvCqDolge85yNFHHgng3bpcAN8DnYJ35k9kBtvbmpf+hbH12NP2Gnxv+Lz31a8G3G5aLYGRge+BTvF0OxknIeOX9XPvvRwKHfthJiPsMab1tVfgew7ibW2l1RIYGfge6JSTWzYxTkLGNY2W7W7bMUbYY0zrWvieh9jLymi1BEYGvgd6JODzvf2LnzNCQsY73rbW88seY5w9lrSufbnNYmHkgRgu1rvvxov2OAC+B3okFAziSbyJz1tzcsLB4LEffZ/R9qgD3/MR8am8QIBWTmBY4HugR7rOnmFUhExMTr+7deCEjdH2qNNa9ve2HTsYeSBGjKuhgVZOYFjge6BHrKueZzyETFg8rY7zy59gzD26wPfc5PQzz9DKCQwLfA90h8/lWndvDiMhZMJSkXNXOBA4nj2Nkfco0vpqKXzPRz68805cwjc68D3QHUG//+kvfo6REDKRqd+6ZaD+BCPvUaR1DXzPSbZccUVIEGgVBcYEvge6w9XWxugHmfh4HJcuPL2U8fdIA9/zFE9LC62iwJjA90B3NFi2M+5BJj7lP7k97Pfb/vtWRuEjSuuav8H33OTCW2/RKgqMCXwPdMf2Rxcw7kEmJSe3vOM5Xc8ofERpfeVvbTt3MtpADJpD990XGBigtRQYEPge6IuAz1d6SyYjHmSyMnDp4oWVyxiLJx/HKyXwPTfZ+c1v4rfwDQ18D/RFOBRilINMYl67IzvsF2y3/ZAReZJxvPwSfM9TSPWkFRUYEPge6Iu+SxcZ5SCTm7p3TJ7G04zIkwx8z1lcjY20ogIDAt8DfXFmp4XxDTLpGbjY0vLsCsblycTxd/ieq5x/4w1aUYEBge+Bvtj1eCEjG2TS8+qPfxgSfHV3/IjR+bBx/H11265djDMQ4+bIQw8FvV5aV4HRgO+Bjgj4fK/d8WNGNogeYjO95T3byOh82MD3nGXP9Ol4y55xge+BjggKQtH11zCmQXQSd8uFi8UrGaMPHUfpi/A9TzFfdVVwcJBWV2A04HugI/weD+MYRD95Zca0kM9Xd2c2I/Uhcgm+5y4Bt5tWV2A04HugIzobTjGOQXSVY29VeJvOMlIfIpf+tqodvucrfSdO0OoKjAZ8D3TEqW2VjGAQvcV1/vzFF59jvJ4o8D1/aTGZaHUFRgO+Bzpi3zMrGLsgekvpLZmhwcETP/lvRu1xc6nkhfbduxlhIIZO3eLF4UCA1lhgKOB7oBfCweCG38xl7ILoMEfeeN1rP8eoPW7ge/5y4N57/f39tNICQwHfA70Q8PlemTGNUQuiz/Q324nLGbvH5tJLxfA9Z9n93e/ikTyDAt8DvRD0+1d++VrGK4g+87fvfyvk9Z645zZG8ExE37//PiMMxNAxT52KV+4YFPge6AX8Uo6xcvi1ssHzzYzgmVx86Xn4nr+Eg0FaaYGhgO+BXhjs72OMgug8/fZzjtLVjOO1ubgavucwvs5OWmmBoYDvgV7oOd/M6ATReVZ/5z+CXs/JnDsYzau5+OJz8D1/wSP4BgW+B3rh4qFaRieI/lP76suDLecZzauB77lM286dtNICQwHfA72Al+0YNH3nmlpf+RtjejkXVz3bXlXF2AIxes6VldFKCwwFfA/0wsHSlxiRIIbIqv/8t6Bn4OTP7mRkTwLfc5kTjz9OKy0wFPA90AuWPy9kRIIYJTUv/813qYWRPcnFVc/A9/zlyIMP4pE8IwLfA10QFISN83/NWAQxUHqbzrSWvcz6/gX4nsMcnDPH73LRqguMA3wPdIHgdlfk3MUoBDFQnr/py8GBgfp7fxLt+5XwPX+pnjkTr9gzIvA90AWD/f1rsrMYhSDGyoGS1T7HJevU/y/i+2L4nsO8f/PNAnxvQOB7oAtI/77k5m8x/kAMl54zjW2vr4n4/vmVHXv2MLZAjB7LTTf5+/po1QXGAb4HusDv9RZ/46uMPBDD5Zkbvxh0u+tz71F8XwTf85d3r7su4HbTqguMA3wPdEHA51t5A34sh4fsf7FYaGvd/7kpxPctzz8N3/MX8SdzPB5adYFxgO+BLgj6/cuvuYoxB2LQdDecbntjrej75+B7DrNpypSQz0erLjAO8D3QBaFg8Kmpn2a0gRg0RV/6QsDlOvXLnJbnVsD3/GXjJz4R8vtp1QXGAb4HuiAcCj1xxScZbSDGzYfFzwod7ReLV3bs3cvYAjF6TB/7GKmwtOoC4wDfA30QDj825ROMMxBDx3m6fqDuOHzPYf7xH0mFpTUXGAf4HugFxhaI0bP8mqtCPp/Q3c3aAjF+aKUFhgKbDegFxhYIBzm1rdJ96RKjCoSD0EoLDAU2G9AHOJ/PaTxdXTXz5jG2QIwdnM83JvA90AW4X4/X7Fm+tLuujhUGYuTgfj2DAt8DXRAKBPA8Hpcpuv5q0hfc/uUvM85AjBs8j2dQ4HugCwK+Qbxvh9ec3LLJ8d57jDMQ4wbv2zEo8D3QBcKAG+/T5TWv/OgWX18f4wzEuMH7dA0KfA90ga+/H7+Xw3HabMcbi4sZbSAGjfh7OS4XrbrAOMD3QBcM9vWVZOL3cLnNO7/9teviRUYbiEGD38M1KPA90AWD/X1rsrMYSSA8xdPtrPnVrxhzIEbM+zff7O/tpVUXGAf4HugCn9tVkXMXYwiEp+x9ell3nY0xB2LEVM+cCd8bEfge6ILA4ODG+b9iDIHwlJVfvjYcCr17/fWMPBDD5cCcOf7+flp1gXGA74FeePfRRxhDIJylvnKLY/t2Rh6I4XLkwQeDXi+tt8A4wPdAL1hfeI7RA8JZ1mRnDfb1MvJADJcTjz+O9+kaEfge6IW6jSZGDwh/aTtR1/j884w/EGPl3Kuv0koLDAV8D/RCs/UDxg0If9l0X57rYgvjD8RYadu5k1ZaYCjge6AXus40Mm5AuIy3p+fg3LmMQhADpe/ECVppgaGA74Fe8HQ7GTEgXGbfyhVOGx7MM3B8nZ200gJDAd8DvRAKBhkxIFzmmRu/GA4G373uOsYiiFFCNh+ttMBQwPdAL/i9XvxkTprk1LZKx7ZtjEUQQ0T8sRw8jGdM4HugF7y9va/MmMaIAeEyr/73Dwd7exiRIIbI7u9+Fy/XMyjwPdAL3t6eDXlzGTEgvKa9/kTDs88yLkH0nwP33ouX6xkU+B7ohVAw8P7SxxgrILxmc/58V8sFxiWI/lO3eHE4EKCVFhgK+B7oiPrKzYwVEI4z2Nt7MDeX0Qmi87SYTLS6AqMB3wMd0dnYwCgB4TjVzxY5jx9jdILoPH11dbS6AqMB3wMd4fd4GCUgHOfZr30pFAhs+9d/ZYyC6DkBt5tWV2A04HugI4KCUHT91YwVEI5zevu2S1u3MkZBdBvzZz4THByk1RUYDfge6Ai/1/vaHT9mlIBwnLW3/cjbgwfzDJM906cLeBjPsMD3QF9Y/vQoowSE73Scqm945hnGK4g+c+Shh/CyHeMC3wN9cWpbJeMDhO9seeB3/RfwYJ4xcn7dOlpRgQGB74G+6Gm2Mz5AuM9gf9+BOXMYtSA6jKuxkVZUYEDge6AvwqEQIwOE+3xY/Izz2FFGLYgOQ6onrajAgMD3QF8IbnfpLd9jfIDwnee+fkPI7996zTWMXRBdZec3v+nv66MVFRgQ+B7oC7/Xu/XhBxkfINynwbL9UmUlIxhEVzl03314+N7QwPdAd9hMbzEyQLjPa3dke7u7GcEgusqFt9+mVRQYE/ge6I6e882MDJB0SGfD6dMrVzKOQfQTT0sLraLAmMD3QHcEBeHpL36OkQHCfcz/k99/4TzjGEQn2XzFFSFBoFUUGBP4HugOYcC97t7ZjAyQdIjP5Trw858zpkH0kA/vvNOPN+sZHPge6JFDa19lTICkQ6yrnu86eoQxDaKHNBYX08oJDAt8D/RI74XzjAmQdMjz//6VoCBs/cIXGNkgkx7X6dO0cgLDAt8DPRIOhZZfcxUjAyQd0rjTctFsZmSDTG42TZkSDgRo5QSGBb4HeiQUCLz9i58zJkDSIa/fOdPb7WR8g0xurHffjYv3HADfA53SYNnOmABJk3Q1Npx6+mlGOcgk5tyrr9JqCYwMfA90ire3h9EAkiapLHig/3wzoxxkEuNtbaXVEhgZ+B7olKAgvPjtbzAmQNIjnxDc7v0//SljHWRS8t6NN+I1unwA3wP98sHzK2NMgKRF9q9+oevIYUY8yKTk6COPBDweWieBkYHvgX7pamxgNICkSV74j68FBV/lZz/LuAeZ+DhramiFBAYHvgf6BU/lpXPO7t55ccsWxj3IBEd8Eg+/ec8L8D3QL0Gfb8uD9zMaQNIk5T+53ePsYvSDTHBq5s7Fb95zA3wPdM2Fg/sZDSDpE+fZM6eWL2cMhExk2nbupFURGB/4HuiacCi09DOfYjSApEm2PvI/fc12xkDIhGXj//k/OJnPE/A90DVBQagseIDRAJImefzT/6/gGbDm5DAeQiYmB+bMwcl8noDvgd5xHDvKaABJnxwoebHz0CHGQ8jEpM1ioZUQcAF8D/RPGHfpp21WffPrAd+g+aqrGBUh451NU6ZcDodpFQRcAN8DA7BnxTJGA0j65GzV7oubNzM2QsY7h+67z9/fT2sg4AL4HhiAnmY74wAkffLGPbM8XXgwb6LTc/QorX6AF+B7YACCfj/epZ/O6T7XVP/XvzJCQsYv7914YxDv0OUO+B4YA5vpbcYBSPpk2x8K+ux4MG/iUr98ecjvp3UP8AJ8D4yBz+1iHICkT5644p/9Xq/1nnsYLSHjFMHppBUPcAR8D4xBwOfbkDeX0QCSPqn5e0nnoVpGS8h4xHr33f7eXlrxAEfA98Aw4EH8dM6L3/r3wODgliuvZOSEpDyd1dW0ygG+gO+BYQgKwosZNzEaQNInTXurWt55h5ETktps/8pXgoODtMoBvoDvgWEIB4OHXy9jHICkTypy7hro7GT8hKQ2jcXF4UCAVjnAF/A9MBKBwcEnrvgkowEkfdJjP1f/1FOMopBUxfSxjwW9XlrZAHfA98BICJ6BnUv+zDgASZ+8++gjvefOMZZCUpUjDz6Id+pxDHwPDIa7vY1xAJI+efLKTwUGBz+86y5GVEhK4mlpodUM8Ah8DwyG4PFsyPslowEkffLRK6WdtR8xokLGnv05OXgMj2/ge2A8nGfPMA5A0ierv/Mffq938xVXMLpCxpje48dpBQOcAt8D4+H3esrvvp3RAJI+se/b27JxI6MrZCzZl53t7+ujFQxwCnwPDEmr7TjjACR98ubP7h7o6GCMhYwlXVYrrVqAX+B7YEhIF3/tbf/FaABJn/Scbz65dCkjLWR02XPrrX6Xi1YtwC/wPTAqlw7XMg5A0ifb//iH3qYmxlvI6NKxdy+tVIBr4HtgVISBgdfu+DGjASRN8tRVnw74fB/eeSejLmSk2TN9Ojr3aQJ8DwzMxcOHGA0g6ZPaV1/u+KiGsRcy0jgPHKDVCfAOfA8MzGBf75s//QmjASRN8tL3vun3ePBg3lhSffvtuC0/fYDvgbFpq7MxGkDSJ/YPqls2bGAchiSfvro6WpFAGgDfA2Pj7mjfdF8eowEkTbLu3tlkB2AchiSZmrlz8UK9tAK+B4bH1epgNICkT3ovnD/55JOMyZBk4m1tpVUIpAfwPTA83p6e95c+xmgASZO896dHe8+eZUyGDBvbokX4Kbx0A74HPBD0+1fecC1jAiQdsuyzVwT9wgd33MH4DBki5qlTQ34/rTwgbYDvAQ+EAv76rVsYEyBpkkNr13TUHGSUhgyR8xUV4UCAVh6QNsD3gBP8Xi/esJueKbn5W8LAwOZ/+RfGakjc7Ln11sDAAK02IJ2A7wE/4Hdy0zbnrR9eWL+eERsSN30nTtAKA9IM+B7wgzDg3v3EXxgTIOmQt3J/6m5vY8SGxOboww/jGby0Bb4HXBEKBJ792vWMDJB0SN/FlhOPPcboDdFm69VX4za9dAa+B7xxbm8VYwIkHWJZ/Mees2cYwyHaOLZtuxwO03oC0g/4HvCGz+XaOP9XjAwQ7vPXz18ZCgQ+uO02RnKInINz5uBV+WkOfA84ZLC/b/k1VzE+QLjP4fK1HQcPMJ5DSDZNmQLZA/gecAjp4p80b2ZkgHCfv/3gO4LbjQfzYtNiMoUEgVYPkK7A94BPfP39OKufhrlwwHrh7bcZ26V5cCYfyMD3gFv8Hg9esptuefuXP3e3tTLCS+eYp04NuN20SoD0Br4HPHOh5gDjA4T79DsunViyhNFe2qZt507ckw9k4HvAM36vd++KZYwPEL6z4y9/6jnTyGgvPYO36wAt8D3gnHAo9PL0HzBKQDjO8quvCgWD1TNnMvJLt+z69rfJzk+rAQDwPUgHXK2tjBIQvnPkjdfbD+xn/JducTc10QoAgAR8D9KCM7t3MkpAOE7pLd/zuVzp/GBec0VFwOOhez8AEvA9SAsCg4O78FM66ZQLNQfOv/UWY8E0yeH8fDyAB2KB70G6EA6F1mRnMVZAeM36X81xtToYEaZD3r/5Zly2B3GB70EaMdDVhffspk+I7+v+8hdGh3xn05Qp3tZWursDEA18D9KLlo8OMlZAeM2uxxb3NDYwRuQ77bt3hwMBuq8DEA18D9ILn6v/0GuvMmJAuMyKaz8bDoX2ZWczUuQ1p1euxGV7MATwPUg7BLd7+x8XMG5AuMzRdW+077cyXuQyuEcPDAt8D9KRUMBfkXMX4waEv/w962Zffz/3D+ZVz5yJn78DwwLfgzQl4POVZH6L0QPCXy7W1jS/+SYjSJ5iuemmoNdLd2sAEgPfg/TF3dH+9HVfYPSAcBbTvF+4HJcYR3KTLVde6bl4ke7QAAwJfA/Sms7Tpxg9IPzF1dZWt3gxY0o+0nP0KH7+DiQJfA/SnWbrB4weEM6y+4m/dDecZkzJQdp27sSZfJA88D0Al09u2cQYAuEpT3/x86QTvO9HP2J8aeicX7fO399P92AAkgC+B0DkozV/ZySB8JRjb7/Z/uGHjDKNm7MvvYQftgcjBb4HQCQUCFQ/8zQjCYSbvPzDHwz29fHxYF798uUCZA9GDnwPAMU/6K3665OMJxBucvFQbXNFBeNOw+XEkiXo2YPRAd8DEEEYGHh/6WOMJxA+suE3c/svGfvBvLrFi/ESPTBq4HsAoggKApTPa9wd7bY//5mRqFEC2YMxAt8DwBIK+Pcsf4pRBcJByJFc92lDPpgnnsaH7MHYgO8BiEMoGKz5ewljC8ToKfrS1ZfD4T0zZjA21Xnqly3DNXswduB7AOITDoXqNq5nhIEYPTbTW20ffsAIVc85s3o17sYHKQG+B2Aomva8zwgDMXRe+dEtg729RnkwT3ypDmQPUgR8D8AwOI4dYZyBGDqXjhy2v/EGY1Ydpm3HDrxBD6QQ+B6A4XE2nS36En5Jj5O889tf919sYeSqq2y58sqew4fxbnyQWuB7AJLC3dFRcjN+L5+TDHR22hYtYiyrk1huugk/cQvGA/gegGQJDA5W5NzFmAMxYqqWPeE8dYoRrR5SPXMmuvVgnIDvARgBQb//3f99mJEHYrisvOHacCi0Z/p0RreTm8P5+SFBoLsaAKkGvgdgZAgD7qNvljP+QAyXuo3r2z6oZow7iWksLsYbdcC4At8DMGICg95LRw4tv+YqRiGIgbImO8vb07P5059mvDvx2TRlSsfevZA9GG/gewBGicfpfDV7OmMRxEBxHDtqLy9n7DvBef/73/e2toYDAbpXATBuwPcAjJ5wKLTzL39iLIIYJZvuy+trmcwH8w7n54eDQbozATDOwPcAjAm/x3N6+zZGJIhR4nF2HV+4kNHwxOT8m2/i3XlgIoHvARgroYC/r+XCy9N/wLgE0X/2LF/qrD/JmHi8s+s733E3NQU8HroDATAhwPcApIZwKPTeov9ldILoPM985YuhYLDq1lsZJY9fjj78MM7hg0kBvgcgZXi7u8/s3rnyy9cyUkH0nBObNrZW72OsPB4xT53atmsXzuGDyQK+ByCVDPb3CW73xvm/ZqSC6Dav/vcPyYHaeD+YdzA3N+B2Xw6H6Y4CwIQD3wOQegb7+0+/9y4e0DdKWo8fs7/+OmPoVGXTlCkX1q/H4/Vg0oHvARgXgn6/z+VCR98Q2Zw/v6/lAuPplIR064npQ34/3S0AmDzgewDGEWFgoPmD6ue+dj0jGERv8XZ3H3/0UcbWY8nWq692bNuGbj3QD/A9AONOKBDY/eQSRjCIrrL36WXOkyl7MO/oww+jTw/0BnwPwEQgDLi7zp5Ze/t/MZpBdJJnv/olclhWdcstjLlHmj1ZWX0nTqBbD3QIfA/AxOH3eE5s2ogH9vSZk1s2te7dy/g7+ZinTj3/5puBgQG6sQHQGfA9ABOK4PEE/f5djxcyskEmPWW3/cjjdI7uwTzbokUhvx8/ewP0DHwPwCTg7e11d3Rsuu83jHKQyU1bne3c2rWMy4dOzdy53tZWf38/3bQA6BX4HoBJQ3C7u881vfnTnzDWQSYrWx74Xd+F84zRE+WD228XL9XjfXnAIMD3AEwyfq+341T9a3f8mHEPMinx9vQc+8MfGLUz2TN9uvPAAdyUB4wFfA+ALgj4fO0n6tbehhv4Jzn7Vi7vOnmCEbyaPVlZndXVfpeLbjYAjAN8D4COINbvqD9ZfvftjISQCctz/3ZD0C+8//3vM6bfl53dZbXC9MC4wPcA6A6/1+s8e8b0q1xGRcjEpL5yS+ueParp9//0p73Hj+PsPTA68D0AOkVwu90d7VXLnnziik8yQkLGNa/dke3p6tpy5ZVHHnzQ09KCO/IAH8D3AOiaUCAQFISTW95ZlXEToyVknEKKeqCrMzA4iKfsAE/A9wAYAyL+9vqTm3//O0ZOSArz9i9+dunIYXKARQsdAI6A7wEwEuLP7Lpdx99688Vvf4NxFTLqkMI88sZrPpcr4PPRggaAO+B7AAwJ6YN2nWl8b9H/Lr/mKsZeSJIhRWf580Jn01l06EE6AN8DYGD8Hs/lcNj+wb6N83+99DOfYnyGxA0pqI3zf3Wh5iApuiB+tRakDfA9ADzgc/WHQ6HzB6yb8+cvvxo9/jghvflN9/3mbNVuUlA+3IgH0g/4HgCuCPh8xGftJ0+8v/QxXOMnIYWw67HFrcePkmLxdDtpMQGQfsD3AHBLYHDQ3dlxfP26t3/xs7Tq9JOu/Nu/+PnJze8MdHX6vV6ctAeAAN8DwD8+tzsUCHScrreuen7dvbNXfPFzjCA5yNNf/BxZtUNrX+2xnwsFg7jTHgAG+B6ANCIoCN7eHtLf7XdcOrXVvPXhB0tv+R4jTgOl9JZMsgonNm3ou9hCVkoYGKDrCQCIAb4HIH0Jh8N+rzccCvVeOH96+1bLnx597Y4fF11/NaNVnaTo+mvI4u16vLDBsr235QJZbL/Hg3P1ACQJfA8AiEAMGvD5SEe5vf5EfeXmvSuWbcib+8qMaStvuJax77hm5ZevJTPd8Ju5VU89cXr7NufZM/Jl+KCAs/QAjBL4HgAwFMSygcHBoCCQ/vRgX2+3/VzLRwfrzZv2v7Rq+8IFG+f/qiLnrjXZWSWZ3yr+xlfJYcHya656auqnxd/4mfIJWd6PT/kE+S8ZSD4iIiejldz8rVezp5Mvbpz/6+1//MP+1S+c2Lzx/AEr8bq3pzscDJI5Dvb1+fDjswCkDvgeADB6iJh9/f2D/X2C2+33iucGyPFBKBgkBweXw2E6UjhM/hsKBAK+QWHA7XP1k6+Qf4WBAbzYDoAJA74HAAAA+Ae+BwAAAPgHvgcAAAD4B74HAAAA+Ae+BwAAAPgHvgcAAAD4B74HAAAA+Ae+BwAAAPgHvgcAAAD4B74HAAAA+Ae+BwAAAPgHvgcAAAD4B74HAAAA+Ae+BwAAAPgHvgcAAAD4B74HAAAA+Ae+BwAAAPgHvgcAAAD4B74HAAAA+Ae+BwAAAPgHvgcAAAD4B74HAAAA+Ae+BwAAAPgHvgcAAAD4B74HAAAA+Ae+BwAAAPgHvgcAAAD4B74HAAAA+Ae+B3rk9MqVOzMyNvzTP5GQP8h/6Qcgdbjb23f+5U+rvvn1xz/9/yz73P99/c6Zx9evo5+BUeG72GL/yx8Pf/cm69R/Pvilz578+V1dW96hnwEw2cD3QF+4m5p2ZWSs/4d/YEIGko/oSGDMnNm1Y8W/fvaxT32cyYZ5v6RjjCtBwdXrcnno//jAub3ywBc/Y73qk0zO/M99dAwAJhX4HuiLuLKXQz6iI8XBUVVaUiKn3Gw9ZncF6Qd6xGGtKC0xHXOJf/farRvlJa8wH3NKH8cQdNkqyQhVDvr/sdLZcHrpZ6Ywplez+fe/o+PF4rKZlHKuqLQ2dNDBI6bDXJCRkbHKRv87ZhzVFSWlJptUoiJBl73GTAqZLGdVCx1G0awCCd0KY8Z9/CijeW2aFj1Cx4slVUU6dpw2c7lUJtVxqo/goJ+ScrY2p6bQwAQD3wMdcXrlSsbxTBKf2LcVE39omV3WoE/lBxvKZosLWFBJ7O60LMjMmJadOzc3ZwYZllm4O6Yl9dhNi7LEL2QUp0qPG/LmMo5nYq/eS0dlkD0dIaf4mEA/GhGp9X1jWY64MAVmWZaehrL5maQws+fkkoKtqJMGqkSvgrQVUsCpuT9lHM/EdeQQHZVhbEXq2JiX8ZA5BevQW1U4LUPcFedkk7LLWWWLWgjBVkJ22hk5pDyzyWgZOWWN9BNgIOB7oCN2Ju7cyyEj0FFZJN/Thk+wPkn+I7f+Yr+f9PCcdaS3J/X/gs6GHSbandrRQPsxYh/LZHM6bZWkm0i6WTaneqzgUvvfJmuL1AaqQzZa7aqdlb5RSbm5Vuz9CA3bS0oqG2Jb7oa1OZmzZmWrpul10nk5zPnEUaXRCnRai0g7O7ugYC5Zo9T43u/xMHaPzbY/FNCxGbSedkh/L64Sy8Blr5WKjsRUQ+3jOmYq2WhzeRxice2Rzk24GixiKZlqGy2F6nTI4Gar3MfV9iylTSYOrKisFctZaLCUlpjrY0pUPH6iJSr7XlTgtAIz061XaTblpk7zMv6uTsbusWl+spCOzZCgSB17pEKT9it6EkKz4znkSyEdVUWzMjJmFRSRgXIJB+k+TPZDm3qqQN4EYmGaLPXiijv3V5SUWx2aA2LHZrL3zSqrF/+2ryMllGeKLkDB6aSb5pBY1Qq2p7IAwcQA3wMdseGf/okRPBMyAh2VRfL9/aaGXpero6HiIdJTKaoV1SAOz11QIPf/LKSNIv2YmTn5S4qLF+eK/Zi1DeK3pTY3a0ZW1uzc3JlkcEZOuV0c7rEVi33xrByx/51ZVCPQIVKPXOzozFha1SsphzS7M/KLSosWzs5auIO0zrYSsRvEGlqoK8mZVmCplFpMjXIEl8uxozAzI6ekjvGZYKs02z1OM1mjFPnecewoY/fYlM2cQcdm0MpJsBaRv+VjrMay3Jm5C1eUFD2QpZ6lcFaScQsKFojlKR7H0BMbYrc7Z2amOFSajnCsmGydzJm5cs8y60npAKJeLNGsB4pKVizMmbHQQgq5rkT9igbBVpqTucBiXkU+k31vN5FjoxVWR6PFFPcSyTGx8Beuq62tqbWl6Lx0/4EPGbvHpj73Hjo2Q4IitZE1mltQIJaYJFd5x5P2sfwZ8ukrZ9WyHPHMj7Q35paTEnaYxdKWd1cyPLdC7IW7LIvEvwufKy6cn52zhuzwTssCcar0dIiErZR8URkiGb1of+zB6mWh12lbIx5OWTTfBUYBvgc6Yqy+V8nOK6G9TGk46e01axov2q3RnBKQ29xFFrH517S5rt1iL3RptfLdYPQQyUm56+2XXVXi0HnFtXIjKE+/1+EgltIinhTNLKh0yMpRfS+27ASyzPvpkBh05vt5haSzKKk9I2+j3K2UPiVo7CX5PiNnVS3tF0rCzl0nHUg1m/LoaK6qxeSvpVapw9qwRixRUzMt57xVteLJD2XirhYHc11ZPn4yO+QylHUlb/HMLHIAIR265ZENpOVYsThUIac0+sT1qEiB72OKVFqjzILNdkFaZalAMouPiX9LPs4sEa9TaPZhQqO0Q8ol3GtZSD5aYRUuSwejswrNjdLBjVyAgsPhiFpvucBzVpprq01L1YOMKOSdMCNjDpnU2MsMTALwPdARYz2fL/Xvnc21ZWIvJ6dCvJ1fGv5crTwSQag3Fc6TL4dLaHyfv1m+Hy7ShmosQokaEnGb0FCeL000M3tBWW18awu2VTkZ8ytsTperWjyiyF/f4JKbTY/TfqzWUponLrR8voEllb5Pwfl8iazZ+UWV9IKIo7q4QJIrJeL7fCJjGVn/1FhyIYujRRkrMo6noUKSH+m8FqyRrB+L1OXNK7c5e13WlWTUfFOjSwhKE5xnspOvBO0VpK8/q4wpU0EudpetbB4ZtVA6nzAmUnA+X0JbpNKeVlyrrLjU/45CKskEpScS+cixe2mueLYpI2tekbkpgaqDjqoVeWKJz8ivWFtEZqZMJ4LgcjTUWE1Piqdj4txoAnQPfA90xFjv14tu+BbuIP+Thkv6kZD7OsVWseet+YrU5iod7shw+/pcUReaW5OihkhX3CMT77Vb10jWly9ps0iTjSbqKnKwVrsK0aTS94Sx3q8XKU8J+fTGQyY7UYlmBGkrRI6WhP3iUQ49SyyfRBFHk06/K0qWriJHTONqtpZJ1o9vF+k0STRkdtKVFLoJpHKbVpKo3GqfE78iXuUZM2O9X48pUrK7SL5Xh0o7Xk7ZMZf4HKMUqd8ftdvLJUzLitmdBIdto2T9mKOfWOzr84Y6DGJ2e2Ac4HugL0b7PJ7U8Mk3LskXOLX9+0jbJMmA+L7D5aguEi/qD+l7+Yx95oIya01t7Y6Kkj3Oyy3iiWh5iHml2NERL+o7a02VtfYOl6ujain57gJiEJd1VX7ukiiVCEpLrenf28wrTBYy8Rrav89cKd51QBrn2hqb5oRrin0/+ufx4srJaREHEt/3OhvWF4j9UGkExvf0u7OLzMrKyqOJt9dlZBastdbWmMWbE6UbL5w1JnONnXTcnbvFEhXPLfdaix/ILRSP4RTkh/ilaPr34h2RZOsXVdbWVoqbWC5SVxMpZPG2P+eekpJKMq9aq+y/eSblBMSYGP3zeMn5Xn4GYdZic4O4m9lrN1ZJZ+3l3V4sUmu987JQW0TWSCph61pxQ0iXBuyWcktDCyklm3i2Qzr6sW9cmPtAWfSVDJf9WEPDsVpL+UKx+OTLHGRHrKkVd0SntazULNYC2r9XruMAQwHfA30x2vftSA2fQtbshWWHNPLWNKaO7Qul08QZWYvMltJZw/g+cqJePLFcVC12eRy7i/LE4wlxSOFGsU972VlVKA8hdplZUCHeQ26vENWVoGcZuX5vq5hNJ0+WKG+F2S5dxhb7naQfFjmJnWLfE0b5vp34chJspeLNj2Ttc0stpkUJfB8p/Kz8crN4Ll2ejnomWSy9QpN0wtm5u1Apl8zsBRUNpFiaKkR5M88vKERdZwk6LMvk5cnIekD6LumT3k/vz4iecqKLL6NhlO/bSdL32h1PLKgy+SP7RunISSkZob5CubCSlbfKKl0HsZWpl1pm5BXtJp52VT1JhjAnNpQaNCNnYblNcyu+dNM+2cPViQxxhQXoG/ge6JHT4/o+3aAg3wOVPAK90q6BXgTWwEyW9D5jRklE9KjiKe5Z4n3U40uK36ebZKkmHi22RC97ogd55JPYyaGdkXT5QHpuQoGZcoqYiPfpCjEFGFukcXdO7TCyc8pP9GmJ2WPFiwja48643wLGAb4HQGeID5pXWDXdYjBWOmorSi1xXoYAhkJo2FFSkfCZEWA84HsAAACAf+B7AAAAgH/gewAAAIB/4HsAAACAf+B7AAAAgH/gewAAAIB/4HsAAACAf+B7AAAAgH/gewAAAIB/4HsAAACAf+B7AAAAgH/gewAAAIB/4HsAAACAf+B7AAAAgH/gewAAAIB/4HsAAACAf+B7AAAAgH/gewAAAIB/4HsAAACAf+B7AAAAgH/gewAAAIB/4HsAAACAf+B7AAAAgH/gewAAAIB/4HsAAACAf+B7AAAAgH/06vujpfdpePzdVjp8/CBzfPmo9Ffr9sfofJUhUbS++zj76cQvLQAAADASdOz7eK5NlqOlpSP9dpTvH9/eJv0pi1xdkrbtRPURnR8tpX+PcWkBAACAccZovheNG0flYp9bM/7Rl9mRyAjabjf5LzuVuL4nkDk+tl2xuma4FvgeAACAvjGQ76XT7KJ6yWdqn1v6W+5zi3+KPhbV/hg95S5KXemUS+fhZWFLk2KmH5ljtO/V4eQPKv4YIt8FAAAA9Ighrt9L9o1yqqpkMjTiZrVbr+2+a/v6TC8/isj0paMBFWWm4uFCIqnHLi0AAACgJwzTv2dUrVicjKfaPKJ5je+j5U0YwtkR30f37+VuvXaRpHMGkanFLC0AAACgK9LB98l1uCNzZL5CPpD+G3vrgPqVmKUFAAAAdIVxrt9H7psjKA4W/4jve/XggPydlIwjc4z2vUbz5CAjalLqV2KXFgAAANATBrpfTxqooEieDIrje/V8u/xf0dMK0hDpJD8z/cgcpU8jRJ0e0E5KRPW9hoS3CAAAAACThF59DwAAAIDUAd8DAAAA/APfAwAAAPwD3wMAAAD8A98DAAAA/APfAwAAAPwD3wMAAAD8A98DAAAA/APfAwAAALxz+fL/Dy14l2DafN6OAAAAAElFTkSuQmCC)"
      ]
    },
    {
      "cell_type": "markdown",
      "metadata": {
        "id": "jpCvkn6bv2Lh"
      },
      "source": [
        "Dos 16556 alunos participantes da pesquisa, 1514 são classificados como Obesos (VB17006), segundo questionário levando em conta dados de peso e altura. O que representa pouco mais de 9% dos entrevistados. A maioria dos entrevistados está dentro do peso (eutrofia): 69,3%. Outros 18,29% estão em sobrepeso e 3,23% está com déficit de peso. "
      ]
    },
    {
      "cell_type": "code",
      "metadata": {
        "colab": {
          "base_uri": "https://localhost:8080/"
        },
        "id": "a_cd72AIs78Q",
        "outputId": "9dbf3c38-e66b-4fba-ae30-04c9ae9fd612"
      },
      "source": [
        "### Valores em porcentagem do gráfico acima. \r\n",
        "dados['Nutricional'].value_counts(normalize=True)*100"
      ],
      "execution_count": null,
      "outputs": [
        {
          "output_type": "execute_result",
          "data": {
            "text/plain": [
              "Eutrofia           69.334380\n",
              "Sobrepeso          18.289442\n",
              "Obesidade           9.144721\n",
              "Déficit de peso     3.231457\n",
              "Name: Nutricional, dtype: float64"
            ]
          },
          "metadata": {
            "tags": []
          },
          "execution_count": 13
        }
      ]
    },
    {
      "cell_type": "code",
      "metadata": {
        "id": "Hoi_olzZmw-B",
        "colab": {
          "base_uri": "https://localhost:8080/",
          "height": 524
        },
        "outputId": "69e01e51-8ac1-405f-be85-4613ff18fef6"
      },
      "source": [
        "### Como estão distribuidos, por raças, os 1514 alunos (obesos) participantes da pesquisa?\r\n",
        "dados_obeso = dados.query('VB17006 == \"4\" & VB03006A < 9')\r\n",
        "dados_obeso"
      ],
      "execution_count": null,
      "outputs": [
        {
          "output_type": "execute_result",
          "data": {
            "text/html": [
              "<div>\n",
              "<style scoped>\n",
              "    .dataframe tbody tr th:only-of-type {\n",
              "        vertical-align: middle;\n",
              "    }\n",
              "\n",
              "    .dataframe tbody tr th {\n",
              "        vertical-align: top;\n",
              "    }\n",
              "\n",
              "    .dataframe thead th {\n",
              "        text-align: right;\n",
              "    }\n",
              "</style>\n",
              "<table border=\"1\" class=\"dataframe\">\n",
              "  <thead>\n",
              "    <tr style=\"text-align: right;\">\n",
              "      <th></th>\n",
              "      <th>ANOPESQ</th>\n",
              "      <th>PAIS</th>\n",
              "      <th>REGEOGR</th>\n",
              "      <th>VB00004</th>\n",
              "      <th>VB01001</th>\n",
              "      <th>VB01002</th>\n",
              "      <th>VB01003</th>\n",
              "      <th>VB01004</th>\n",
              "      <th>VB01005</th>\n",
              "      <th>VB01006</th>\n",
              "      <th>VB01007</th>\n",
              "      <th>VB01008A</th>\n",
              "      <th>VB01010A</th>\n",
              "      <th>VB01011</th>\n",
              "      <th>VB01012</th>\n",
              "      <th>VB01013</th>\n",
              "      <th>VB01014</th>\n",
              "      <th>VB01015A</th>\n",
              "      <th>VB01016</th>\n",
              "      <th>VB01017</th>\n",
              "      <th>VB01018</th>\n",
              "      <th>VB01019</th>\n",
              "      <th>VB01020A</th>\n",
              "      <th>VB01021</th>\n",
              "      <th>VB01022</th>\n",
              "      <th>VB01023</th>\n",
              "      <th>VB01024</th>\n",
              "      <th>VB01025</th>\n",
              "      <th>VB01026</th>\n",
              "      <th>VB02001</th>\n",
              "      <th>VB02002</th>\n",
              "      <th>VB02004A</th>\n",
              "      <th>VB02010</th>\n",
              "      <th>VB02011</th>\n",
              "      <th>VB02013</th>\n",
              "      <th>VB02017A</th>\n",
              "      <th>VB02018A</th>\n",
              "      <th>VB02019A</th>\n",
              "      <th>VB02020A</th>\n",
              "      <th>VB02021</th>\n",
              "      <th>...</th>\n",
              "      <th>VB12003</th>\n",
              "      <th>VB13001</th>\n",
              "      <th>VB13002A</th>\n",
              "      <th>VB13004A</th>\n",
              "      <th>VB13005</th>\n",
              "      <th>VB13006</th>\n",
              "      <th>VB13007</th>\n",
              "      <th>VB13008</th>\n",
              "      <th>VB13009</th>\n",
              "      <th>VB14001</th>\n",
              "      <th>VB14002</th>\n",
              "      <th>VB16001A01</th>\n",
              "      <th>VB16001A02</th>\n",
              "      <th>VB16001A03</th>\n",
              "      <th>VB16001A04</th>\n",
              "      <th>VB16001A05</th>\n",
              "      <th>VB16001A06</th>\n",
              "      <th>VB16001A07</th>\n",
              "      <th>VB16001A08</th>\n",
              "      <th>VB17001</th>\n",
              "      <th>VB17002</th>\n",
              "      <th>VB17003</th>\n",
              "      <th>VB17004</th>\n",
              "      <th>VB17005</th>\n",
              "      <th>VB17006</th>\n",
              "      <th>ESTRATO_EXP</th>\n",
              "      <th>ESTRATOGEOREG</th>\n",
              "      <th>PESO</th>\n",
              "      <th>V0006</th>\n",
              "      <th>V0007</th>\n",
              "      <th>V0008</th>\n",
              "      <th>V0041</th>\n",
              "      <th>aluno</th>\n",
              "      <th>escola</th>\n",
              "      <th>turma</th>\n",
              "      <th>Raça</th>\n",
              "      <th>Nutricional</th>\n",
              "      <th>Região</th>\n",
              "      <th>Sexo</th>\n",
              "      <th>Administração</th>\n",
              "    </tr>\n",
              "  </thead>\n",
              "  <tbody>\n",
              "    <tr>\n",
              "      <th>4</th>\n",
              "      <td>2015</td>\n",
              "      <td>76</td>\n",
              "      <td>1</td>\n",
              "      <td>1</td>\n",
              "      <td>1</td>\n",
              "      <td>1</td>\n",
              "      <td>13</td>\n",
              "      <td>9</td>\n",
              "      <td>7</td>\n",
              "      <td>1</td>\n",
              "      <td>2</td>\n",
              "      <td>5</td>\n",
              "      <td>4</td>\n",
              "      <td>2</td>\n",
              "      <td>-1</td>\n",
              "      <td>2</td>\n",
              "      <td>1</td>\n",
              "      <td>1</td>\n",
              "      <td>1</td>\n",
              "      <td>1</td>\n",
              "      <td>2</td>\n",
              "      <td>5</td>\n",
              "      <td>1</td>\n",
              "      <td>4</td>\n",
              "      <td>1</td>\n",
              "      <td>2</td>\n",
              "      <td>2</td>\n",
              "      <td>6</td>\n",
              "      <td>5</td>\n",
              "      <td>6</td>\n",
              "      <td>3</td>\n",
              "      <td>5</td>\n",
              "      <td>2</td>\n",
              "      <td>6</td>\n",
              "      <td>2</td>\n",
              "      <td>1</td>\n",
              "      <td>5</td>\n",
              "      <td>1</td>\n",
              "      <td>5</td>\n",
              "      <td>1</td>\n",
              "      <td>...</td>\n",
              "      <td>4</td>\n",
              "      <td>1</td>\n",
              "      <td>3</td>\n",
              "      <td>2</td>\n",
              "      <td>2</td>\n",
              "      <td>2</td>\n",
              "      <td>13</td>\n",
              "      <td>1</td>\n",
              "      <td>-1</td>\n",
              "      <td>1</td>\n",
              "      <td>2</td>\n",
              "      <td>1</td>\n",
              "      <td>1</td>\n",
              "      <td>1</td>\n",
              "      <td>1</td>\n",
              "      <td>1</td>\n",
              "      <td>1</td>\n",
              "      <td>1</td>\n",
              "      <td>1</td>\n",
              "      <td>789.0</td>\n",
              "      <td>1675.0</td>\n",
              "      <td>78.9</td>\n",
              "      <td>167.5</td>\n",
              "      <td>2</td>\n",
              "      <td>4</td>\n",
              "      <td>1223</td>\n",
              "      <td>1</td>\n",
              "      <td>299.735235</td>\n",
              "      <td>1</td>\n",
              "      <td>2</td>\n",
              "      <td>4</td>\n",
              "      <td>1</td>\n",
              "      <td>5</td>\n",
              "      <td>1</td>\n",
              "      <td>296</td>\n",
              "      <td>Branca</td>\n",
              "      <td>Obesidade</td>\n",
              "      <td>Norte</td>\n",
              "      <td>Masculino</td>\n",
              "      <td>Particular</td>\n",
              "    </tr>\n",
              "    <tr>\n",
              "      <th>5</th>\n",
              "      <td>2015</td>\n",
              "      <td>76</td>\n",
              "      <td>1</td>\n",
              "      <td>1</td>\n",
              "      <td>2</td>\n",
              "      <td>4</td>\n",
              "      <td>14</td>\n",
              "      <td>12</td>\n",
              "      <td>6</td>\n",
              "      <td>1</td>\n",
              "      <td>1</td>\n",
              "      <td>7</td>\n",
              "      <td>3</td>\n",
              "      <td>2</td>\n",
              "      <td>-1</td>\n",
              "      <td>1</td>\n",
              "      <td>1</td>\n",
              "      <td>1</td>\n",
              "      <td>1</td>\n",
              "      <td>1</td>\n",
              "      <td>2</td>\n",
              "      <td>4</td>\n",
              "      <td>1</td>\n",
              "      <td>4</td>\n",
              "      <td>1</td>\n",
              "      <td>2</td>\n",
              "      <td>2</td>\n",
              "      <td>5</td>\n",
              "      <td>3</td>\n",
              "      <td>7</td>\n",
              "      <td>7</td>\n",
              "      <td>8</td>\n",
              "      <td>3</td>\n",
              "      <td>8</td>\n",
              "      <td>1</td>\n",
              "      <td>5</td>\n",
              "      <td>6</td>\n",
              "      <td>1</td>\n",
              "      <td>4</td>\n",
              "      <td>1</td>\n",
              "      <td>...</td>\n",
              "      <td>4</td>\n",
              "      <td>1</td>\n",
              "      <td>2</td>\n",
              "      <td>2</td>\n",
              "      <td>1</td>\n",
              "      <td>1</td>\n",
              "      <td>1</td>\n",
              "      <td>1</td>\n",
              "      <td>2</td>\n",
              "      <td>1</td>\n",
              "      <td>2</td>\n",
              "      <td>2</td>\n",
              "      <td>2</td>\n",
              "      <td>1</td>\n",
              "      <td>2</td>\n",
              "      <td>2</td>\n",
              "      <td>2</td>\n",
              "      <td>1</td>\n",
              "      <td>2</td>\n",
              "      <td>729.0</td>\n",
              "      <td>1605.0</td>\n",
              "      <td>72.9</td>\n",
              "      <td>160.5</td>\n",
              "      <td>2</td>\n",
              "      <td>4</td>\n",
              "      <td>1223</td>\n",
              "      <td>1</td>\n",
              "      <td>355.170081</td>\n",
              "      <td>1</td>\n",
              "      <td>2</td>\n",
              "      <td>4</td>\n",
              "      <td>1</td>\n",
              "      <td>6</td>\n",
              "      <td>1</td>\n",
              "      <td>296</td>\n",
              "      <td>Parda</td>\n",
              "      <td>Obesidade</td>\n",
              "      <td>Norte</td>\n",
              "      <td>Feminino</td>\n",
              "      <td>Particular</td>\n",
              "    </tr>\n",
              "    <tr>\n",
              "      <th>8</th>\n",
              "      <td>2015</td>\n",
              "      <td>76</td>\n",
              "      <td>1</td>\n",
              "      <td>1</td>\n",
              "      <td>1</td>\n",
              "      <td>4</td>\n",
              "      <td>13</td>\n",
              "      <td>8</td>\n",
              "      <td>7</td>\n",
              "      <td>1</td>\n",
              "      <td>1</td>\n",
              "      <td>7</td>\n",
              "      <td>5</td>\n",
              "      <td>2</td>\n",
              "      <td>-1</td>\n",
              "      <td>2</td>\n",
              "      <td>1</td>\n",
              "      <td>1</td>\n",
              "      <td>1</td>\n",
              "      <td>1</td>\n",
              "      <td>2</td>\n",
              "      <td>3</td>\n",
              "      <td>2</td>\n",
              "      <td>4</td>\n",
              "      <td>1</td>\n",
              "      <td>2</td>\n",
              "      <td>2</td>\n",
              "      <td>5</td>\n",
              "      <td>3</td>\n",
              "      <td>2</td>\n",
              "      <td>1</td>\n",
              "      <td>5</td>\n",
              "      <td>3</td>\n",
              "      <td>6</td>\n",
              "      <td>2</td>\n",
              "      <td>1</td>\n",
              "      <td>4</td>\n",
              "      <td>1</td>\n",
              "      <td>-1</td>\n",
              "      <td>2</td>\n",
              "      <td>...</td>\n",
              "      <td>4</td>\n",
              "      <td>1</td>\n",
              "      <td>1</td>\n",
              "      <td>1</td>\n",
              "      <td>3</td>\n",
              "      <td>2</td>\n",
              "      <td>7</td>\n",
              "      <td>1</td>\n",
              "      <td>-1</td>\n",
              "      <td>2</td>\n",
              "      <td>2</td>\n",
              "      <td>1</td>\n",
              "      <td>2</td>\n",
              "      <td>2</td>\n",
              "      <td>2</td>\n",
              "      <td>2</td>\n",
              "      <td>2</td>\n",
              "      <td>2</td>\n",
              "      <td>2</td>\n",
              "      <td>783.0</td>\n",
              "      <td>1700.0</td>\n",
              "      <td>78.3</td>\n",
              "      <td>170.0</td>\n",
              "      <td>2</td>\n",
              "      <td>4</td>\n",
              "      <td>1223</td>\n",
              "      <td>1</td>\n",
              "      <td>299.735235</td>\n",
              "      <td>1</td>\n",
              "      <td>2</td>\n",
              "      <td>4</td>\n",
              "      <td>1</td>\n",
              "      <td>9</td>\n",
              "      <td>1</td>\n",
              "      <td>296</td>\n",
              "      <td>Parda</td>\n",
              "      <td>Obesidade</td>\n",
              "      <td>Norte</td>\n",
              "      <td>Masculino</td>\n",
              "      <td>Particular</td>\n",
              "    </tr>\n",
              "    <tr>\n",
              "      <th>14</th>\n",
              "      <td>2015</td>\n",
              "      <td>76</td>\n",
              "      <td>1</td>\n",
              "      <td>1</td>\n",
              "      <td>1</td>\n",
              "      <td>4</td>\n",
              "      <td>14</td>\n",
              "      <td>10</td>\n",
              "      <td>6</td>\n",
              "      <td>1</td>\n",
              "      <td>2</td>\n",
              "      <td>7</td>\n",
              "      <td>2</td>\n",
              "      <td>2</td>\n",
              "      <td>-1</td>\n",
              "      <td>2</td>\n",
              "      <td>1</td>\n",
              "      <td>1</td>\n",
              "      <td>1</td>\n",
              "      <td>1</td>\n",
              "      <td>2</td>\n",
              "      <td>2</td>\n",
              "      <td>2</td>\n",
              "      <td>4</td>\n",
              "      <td>1</td>\n",
              "      <td>2</td>\n",
              "      <td>2</td>\n",
              "      <td>5</td>\n",
              "      <td>3</td>\n",
              "      <td>3</td>\n",
              "      <td>2</td>\n",
              "      <td>1</td>\n",
              "      <td>8</td>\n",
              "      <td>1</td>\n",
              "      <td>8</td>\n",
              "      <td>1</td>\n",
              "      <td>1</td>\n",
              "      <td>6</td>\n",
              "      <td>-1</td>\n",
              "      <td>2</td>\n",
              "      <td>...</td>\n",
              "      <td>4</td>\n",
              "      <td>1</td>\n",
              "      <td>2</td>\n",
              "      <td>1</td>\n",
              "      <td>1</td>\n",
              "      <td>2</td>\n",
              "      <td>13</td>\n",
              "      <td>1</td>\n",
              "      <td>-1</td>\n",
              "      <td>2</td>\n",
              "      <td>2</td>\n",
              "      <td>2</td>\n",
              "      <td>2</td>\n",
              "      <td>2</td>\n",
              "      <td>2</td>\n",
              "      <td>1</td>\n",
              "      <td>2</td>\n",
              "      <td>2</td>\n",
              "      <td>2</td>\n",
              "      <td>855.0</td>\n",
              "      <td>1773.0</td>\n",
              "      <td>85.5</td>\n",
              "      <td>177.3</td>\n",
              "      <td>2</td>\n",
              "      <td>4</td>\n",
              "      <td>1223</td>\n",
              "      <td>1</td>\n",
              "      <td>355.170081</td>\n",
              "      <td>1</td>\n",
              "      <td>2</td>\n",
              "      <td>4</td>\n",
              "      <td>1</td>\n",
              "      <td>15</td>\n",
              "      <td>1</td>\n",
              "      <td>296</td>\n",
              "      <td>Parda</td>\n",
              "      <td>Obesidade</td>\n",
              "      <td>Norte</td>\n",
              "      <td>Masculino</td>\n",
              "      <td>Particular</td>\n",
              "    </tr>\n",
              "    <tr>\n",
              "      <th>15</th>\n",
              "      <td>2015</td>\n",
              "      <td>76</td>\n",
              "      <td>1</td>\n",
              "      <td>1</td>\n",
              "      <td>2</td>\n",
              "      <td>4</td>\n",
              "      <td>14</td>\n",
              "      <td>9</td>\n",
              "      <td>6</td>\n",
              "      <td>1</td>\n",
              "      <td>1</td>\n",
              "      <td>7</td>\n",
              "      <td>5</td>\n",
              "      <td>2</td>\n",
              "      <td>-1</td>\n",
              "      <td>1</td>\n",
              "      <td>1</td>\n",
              "      <td>1</td>\n",
              "      <td>1</td>\n",
              "      <td>1</td>\n",
              "      <td>2</td>\n",
              "      <td>5</td>\n",
              "      <td>1</td>\n",
              "      <td>4</td>\n",
              "      <td>1</td>\n",
              "      <td>1</td>\n",
              "      <td>2</td>\n",
              "      <td>5</td>\n",
              "      <td>1</td>\n",
              "      <td>1</td>\n",
              "      <td>2</td>\n",
              "      <td>6</td>\n",
              "      <td>3</td>\n",
              "      <td>4</td>\n",
              "      <td>4</td>\n",
              "      <td>1</td>\n",
              "      <td>2</td>\n",
              "      <td>3</td>\n",
              "      <td>-1</td>\n",
              "      <td>2</td>\n",
              "      <td>...</td>\n",
              "      <td>4</td>\n",
              "      <td>1</td>\n",
              "      <td>2</td>\n",
              "      <td>1</td>\n",
              "      <td>2</td>\n",
              "      <td>2</td>\n",
              "      <td>1</td>\n",
              "      <td>1</td>\n",
              "      <td>1</td>\n",
              "      <td>2</td>\n",
              "      <td>2</td>\n",
              "      <td>2</td>\n",
              "      <td>2</td>\n",
              "      <td>2</td>\n",
              "      <td>2</td>\n",
              "      <td>2</td>\n",
              "      <td>2</td>\n",
              "      <td>1</td>\n",
              "      <td>2</td>\n",
              "      <td>944.0</td>\n",
              "      <td>1654.0</td>\n",
              "      <td>94.4</td>\n",
              "      <td>165.4</td>\n",
              "      <td>2</td>\n",
              "      <td>4</td>\n",
              "      <td>1223</td>\n",
              "      <td>1</td>\n",
              "      <td>355.170081</td>\n",
              "      <td>1</td>\n",
              "      <td>2</td>\n",
              "      <td>4</td>\n",
              "      <td>1</td>\n",
              "      <td>16</td>\n",
              "      <td>1</td>\n",
              "      <td>296</td>\n",
              "      <td>Parda</td>\n",
              "      <td>Obesidade</td>\n",
              "      <td>Norte</td>\n",
              "      <td>Feminino</td>\n",
              "      <td>Particular</td>\n",
              "    </tr>\n",
              "    <tr>\n",
              "      <th>...</th>\n",
              "      <td>...</td>\n",
              "      <td>...</td>\n",
              "      <td>...</td>\n",
              "      <td>...</td>\n",
              "      <td>...</td>\n",
              "      <td>...</td>\n",
              "      <td>...</td>\n",
              "      <td>...</td>\n",
              "      <td>...</td>\n",
              "      <td>...</td>\n",
              "      <td>...</td>\n",
              "      <td>...</td>\n",
              "      <td>...</td>\n",
              "      <td>...</td>\n",
              "      <td>...</td>\n",
              "      <td>...</td>\n",
              "      <td>...</td>\n",
              "      <td>...</td>\n",
              "      <td>...</td>\n",
              "      <td>...</td>\n",
              "      <td>...</td>\n",
              "      <td>...</td>\n",
              "      <td>...</td>\n",
              "      <td>...</td>\n",
              "      <td>...</td>\n",
              "      <td>...</td>\n",
              "      <td>...</td>\n",
              "      <td>...</td>\n",
              "      <td>...</td>\n",
              "      <td>...</td>\n",
              "      <td>...</td>\n",
              "      <td>...</td>\n",
              "      <td>...</td>\n",
              "      <td>...</td>\n",
              "      <td>...</td>\n",
              "      <td>...</td>\n",
              "      <td>...</td>\n",
              "      <td>...</td>\n",
              "      <td>...</td>\n",
              "      <td>...</td>\n",
              "      <td>...</td>\n",
              "      <td>...</td>\n",
              "      <td>...</td>\n",
              "      <td>...</td>\n",
              "      <td>...</td>\n",
              "      <td>...</td>\n",
              "      <td>...</td>\n",
              "      <td>...</td>\n",
              "      <td>...</td>\n",
              "      <td>...</td>\n",
              "      <td>...</td>\n",
              "      <td>...</td>\n",
              "      <td>...</td>\n",
              "      <td>...</td>\n",
              "      <td>...</td>\n",
              "      <td>...</td>\n",
              "      <td>...</td>\n",
              "      <td>...</td>\n",
              "      <td>...</td>\n",
              "      <td>...</td>\n",
              "      <td>...</td>\n",
              "      <td>...</td>\n",
              "      <td>...</td>\n",
              "      <td>...</td>\n",
              "      <td>...</td>\n",
              "      <td>...</td>\n",
              "      <td>...</td>\n",
              "      <td>...</td>\n",
              "      <td>...</td>\n",
              "      <td>...</td>\n",
              "      <td>...</td>\n",
              "      <td>...</td>\n",
              "      <td>...</td>\n",
              "      <td>...</td>\n",
              "      <td>...</td>\n",
              "      <td>...</td>\n",
              "      <td>...</td>\n",
              "      <td>...</td>\n",
              "      <td>...</td>\n",
              "      <td>...</td>\n",
              "      <td>...</td>\n",
              "    </tr>\n",
              "    <tr>\n",
              "      <th>16503</th>\n",
              "      <td>2015</td>\n",
              "      <td>76</td>\n",
              "      <td>5</td>\n",
              "      <td>1</td>\n",
              "      <td>2</td>\n",
              "      <td>1</td>\n",
              "      <td>16</td>\n",
              "      <td>10</td>\n",
              "      <td>4</td>\n",
              "      <td>1</td>\n",
              "      <td>2</td>\n",
              "      <td>7</td>\n",
              "      <td>3</td>\n",
              "      <td>2</td>\n",
              "      <td>-1</td>\n",
              "      <td>2</td>\n",
              "      <td>1</td>\n",
              "      <td>1</td>\n",
              "      <td>1</td>\n",
              "      <td>1</td>\n",
              "      <td>1</td>\n",
              "      <td>3</td>\n",
              "      <td>2</td>\n",
              "      <td>6</td>\n",
              "      <td>1</td>\n",
              "      <td>2</td>\n",
              "      <td>2</td>\n",
              "      <td>5</td>\n",
              "      <td>3</td>\n",
              "      <td>7</td>\n",
              "      <td>1</td>\n",
              "      <td>7</td>\n",
              "      <td>4</td>\n",
              "      <td>8</td>\n",
              "      <td>1</td>\n",
              "      <td>5</td>\n",
              "      <td>6</td>\n",
              "      <td>1</td>\n",
              "      <td>-1</td>\n",
              "      <td>2</td>\n",
              "      <td>...</td>\n",
              "      <td>3</td>\n",
              "      <td>2</td>\n",
              "      <td>-1</td>\n",
              "      <td>3</td>\n",
              "      <td>2</td>\n",
              "      <td>2</td>\n",
              "      <td>-1</td>\n",
              "      <td>1</td>\n",
              "      <td>2</td>\n",
              "      <td>2</td>\n",
              "      <td>2</td>\n",
              "      <td>2</td>\n",
              "      <td>2</td>\n",
              "      <td>2</td>\n",
              "      <td>2</td>\n",
              "      <td>1</td>\n",
              "      <td>2</td>\n",
              "      <td>2</td>\n",
              "      <td>2</td>\n",
              "      <td>932.0</td>\n",
              "      <td>1595.0</td>\n",
              "      <td>93.2</td>\n",
              "      <td>159.5</td>\n",
              "      <td>2</td>\n",
              "      <td>4</td>\n",
              "      <td>5223</td>\n",
              "      <td>5</td>\n",
              "      <td>341.360173</td>\n",
              "      <td>1</td>\n",
              "      <td>2</td>\n",
              "      <td>4</td>\n",
              "      <td>1</td>\n",
              "      <td>16504</td>\n",
              "      <td>369</td>\n",
              "      <td>340</td>\n",
              "      <td>Branca</td>\n",
              "      <td>Obesidade</td>\n",
              "      <td>Centro-Oeste</td>\n",
              "      <td>Feminino</td>\n",
              "      <td>Particular</td>\n",
              "    </tr>\n",
              "    <tr>\n",
              "      <th>16525</th>\n",
              "      <td>2015</td>\n",
              "      <td>76</td>\n",
              "      <td>5</td>\n",
              "      <td>1</td>\n",
              "      <td>1</td>\n",
              "      <td>1</td>\n",
              "      <td>12</td>\n",
              "      <td>4</td>\n",
              "      <td>9</td>\n",
              "      <td>1</td>\n",
              "      <td>2</td>\n",
              "      <td>2</td>\n",
              "      <td>4</td>\n",
              "      <td>2</td>\n",
              "      <td>-1</td>\n",
              "      <td>2</td>\n",
              "      <td>2</td>\n",
              "      <td>1</td>\n",
              "      <td>1</td>\n",
              "      <td>1</td>\n",
              "      <td>2</td>\n",
              "      <td>5</td>\n",
              "      <td>2</td>\n",
              "      <td>2</td>\n",
              "      <td>1</td>\n",
              "      <td>2</td>\n",
              "      <td>2</td>\n",
              "      <td>3</td>\n",
              "      <td>3</td>\n",
              "      <td>1</td>\n",
              "      <td>1</td>\n",
              "      <td>1</td>\n",
              "      <td>1</td>\n",
              "      <td>7</td>\n",
              "      <td>2</td>\n",
              "      <td>1</td>\n",
              "      <td>2</td>\n",
              "      <td>1</td>\n",
              "      <td>1</td>\n",
              "      <td>1</td>\n",
              "      <td>...</td>\n",
              "      <td>3</td>\n",
              "      <td>1</td>\n",
              "      <td>7</td>\n",
              "      <td>2</td>\n",
              "      <td>3</td>\n",
              "      <td>5</td>\n",
              "      <td>13</td>\n",
              "      <td>1</td>\n",
              "      <td>-1</td>\n",
              "      <td>1</td>\n",
              "      <td>1</td>\n",
              "      <td>2</td>\n",
              "      <td>1</td>\n",
              "      <td>2</td>\n",
              "      <td>2</td>\n",
              "      <td>2</td>\n",
              "      <td>1</td>\n",
              "      <td>2</td>\n",
              "      <td>1</td>\n",
              "      <td>558.0</td>\n",
              "      <td>1512.0</td>\n",
              "      <td>55.8</td>\n",
              "      <td>151.2</td>\n",
              "      <td>2</td>\n",
              "      <td>4</td>\n",
              "      <td>5121</td>\n",
              "      <td>5</td>\n",
              "      <td>323.598680</td>\n",
              "      <td>1</td>\n",
              "      <td>1</td>\n",
              "      <td>2</td>\n",
              "      <td>-1</td>\n",
              "      <td>16526</td>\n",
              "      <td>370</td>\n",
              "      <td>442</td>\n",
              "      <td>Branca</td>\n",
              "      <td>Obesidade</td>\n",
              "      <td>Centro-Oeste</td>\n",
              "      <td>Masculino</td>\n",
              "      <td>Pública</td>\n",
              "    </tr>\n",
              "    <tr>\n",
              "      <th>16533</th>\n",
              "      <td>2015</td>\n",
              "      <td>76</td>\n",
              "      <td>5</td>\n",
              "      <td>1</td>\n",
              "      <td>2</td>\n",
              "      <td>4</td>\n",
              "      <td>13</td>\n",
              "      <td>7</td>\n",
              "      <td>7</td>\n",
              "      <td>1</td>\n",
              "      <td>1</td>\n",
              "      <td>5</td>\n",
              "      <td>3</td>\n",
              "      <td>2</td>\n",
              "      <td>-1</td>\n",
              "      <td>2</td>\n",
              "      <td>1</td>\n",
              "      <td>1</td>\n",
              "      <td>1</td>\n",
              "      <td>1</td>\n",
              "      <td>1</td>\n",
              "      <td>2</td>\n",
              "      <td>2</td>\n",
              "      <td>2</td>\n",
              "      <td>1</td>\n",
              "      <td>2</td>\n",
              "      <td>2</td>\n",
              "      <td>5</td>\n",
              "      <td>3</td>\n",
              "      <td>7</td>\n",
              "      <td>7</td>\n",
              "      <td>7</td>\n",
              "      <td>8</td>\n",
              "      <td>5</td>\n",
              "      <td>8</td>\n",
              "      <td>1</td>\n",
              "      <td>1</td>\n",
              "      <td>6</td>\n",
              "      <td>4</td>\n",
              "      <td>1</td>\n",
              "      <td>...</td>\n",
              "      <td>1</td>\n",
              "      <td>2</td>\n",
              "      <td>-1</td>\n",
              "      <td>2</td>\n",
              "      <td>4</td>\n",
              "      <td>3</td>\n",
              "      <td>13</td>\n",
              "      <td>1</td>\n",
              "      <td>1</td>\n",
              "      <td>1</td>\n",
              "      <td>2</td>\n",
              "      <td>2</td>\n",
              "      <td>2</td>\n",
              "      <td>2</td>\n",
              "      <td>2</td>\n",
              "      <td>1</td>\n",
              "      <td>2</td>\n",
              "      <td>2</td>\n",
              "      <td>2</td>\n",
              "      <td>851.0</td>\n",
              "      <td>1618.0</td>\n",
              "      <td>85.1</td>\n",
              "      <td>161.8</td>\n",
              "      <td>2</td>\n",
              "      <td>4</td>\n",
              "      <td>5121</td>\n",
              "      <td>5</td>\n",
              "      <td>289.864054</td>\n",
              "      <td>1</td>\n",
              "      <td>1</td>\n",
              "      <td>2</td>\n",
              "      <td>-1</td>\n",
              "      <td>16534</td>\n",
              "      <td>370</td>\n",
              "      <td>442</td>\n",
              "      <td>Parda</td>\n",
              "      <td>Obesidade</td>\n",
              "      <td>Centro-Oeste</td>\n",
              "      <td>Feminino</td>\n",
              "      <td>Pública</td>\n",
              "    </tr>\n",
              "    <tr>\n",
              "      <th>16536</th>\n",
              "      <td>2015</td>\n",
              "      <td>76</td>\n",
              "      <td>5</td>\n",
              "      <td>1</td>\n",
              "      <td>2</td>\n",
              "      <td>3</td>\n",
              "      <td>14</td>\n",
              "      <td>9</td>\n",
              "      <td>6</td>\n",
              "      <td>1</td>\n",
              "      <td>2</td>\n",
              "      <td>2</td>\n",
              "      <td>4</td>\n",
              "      <td>1</td>\n",
              "      <td>1</td>\n",
              "      <td>2</td>\n",
              "      <td>1</td>\n",
              "      <td>2</td>\n",
              "      <td>2</td>\n",
              "      <td>2</td>\n",
              "      <td>1</td>\n",
              "      <td>2</td>\n",
              "      <td>2</td>\n",
              "      <td>2</td>\n",
              "      <td>1</td>\n",
              "      <td>2</td>\n",
              "      <td>2</td>\n",
              "      <td>5</td>\n",
              "      <td>3</td>\n",
              "      <td>8</td>\n",
              "      <td>2</td>\n",
              "      <td>6</td>\n",
              "      <td>5</td>\n",
              "      <td>8</td>\n",
              "      <td>4</td>\n",
              "      <td>1</td>\n",
              "      <td>6</td>\n",
              "      <td>1</td>\n",
              "      <td>4</td>\n",
              "      <td>1</td>\n",
              "      <td>...</td>\n",
              "      <td>4</td>\n",
              "      <td>1</td>\n",
              "      <td>1</td>\n",
              "      <td>2</td>\n",
              "      <td>3</td>\n",
              "      <td>2</td>\n",
              "      <td>5</td>\n",
              "      <td>1</td>\n",
              "      <td>1</td>\n",
              "      <td>1</td>\n",
              "      <td>2</td>\n",
              "      <td>2</td>\n",
              "      <td>2</td>\n",
              "      <td>2</td>\n",
              "      <td>1</td>\n",
              "      <td>2</td>\n",
              "      <td>2</td>\n",
              "      <td>2</td>\n",
              "      <td>2</td>\n",
              "      <td>731.0</td>\n",
              "      <td>1555.0</td>\n",
              "      <td>73.1</td>\n",
              "      <td>155.5</td>\n",
              "      <td>2</td>\n",
              "      <td>4</td>\n",
              "      <td>5121</td>\n",
              "      <td>5</td>\n",
              "      <td>319.915182</td>\n",
              "      <td>1</td>\n",
              "      <td>1</td>\n",
              "      <td>2</td>\n",
              "      <td>-1</td>\n",
              "      <td>16537</td>\n",
              "      <td>370</td>\n",
              "      <td>442</td>\n",
              "      <td>Amarela</td>\n",
              "      <td>Obesidade</td>\n",
              "      <td>Centro-Oeste</td>\n",
              "      <td>Feminino</td>\n",
              "      <td>Pública</td>\n",
              "    </tr>\n",
              "    <tr>\n",
              "      <th>16545</th>\n",
              "      <td>2015</td>\n",
              "      <td>76</td>\n",
              "      <td>5</td>\n",
              "      <td>1</td>\n",
              "      <td>2</td>\n",
              "      <td>1</td>\n",
              "      <td>13</td>\n",
              "      <td>9</td>\n",
              "      <td>7</td>\n",
              "      <td>1</td>\n",
              "      <td>2</td>\n",
              "      <td>5</td>\n",
              "      <td>3</td>\n",
              "      <td>1</td>\n",
              "      <td>2</td>\n",
              "      <td>1</td>\n",
              "      <td>1</td>\n",
              "      <td>1</td>\n",
              "      <td>1</td>\n",
              "      <td>1</td>\n",
              "      <td>1</td>\n",
              "      <td>4</td>\n",
              "      <td>2</td>\n",
              "      <td>2</td>\n",
              "      <td>1</td>\n",
              "      <td>2</td>\n",
              "      <td>2</td>\n",
              "      <td>1</td>\n",
              "      <td>1</td>\n",
              "      <td>2</td>\n",
              "      <td>8</td>\n",
              "      <td>1</td>\n",
              "      <td>8</td>\n",
              "      <td>1</td>\n",
              "      <td>4</td>\n",
              "      <td>5</td>\n",
              "      <td>5</td>\n",
              "      <td>1</td>\n",
              "      <td>1</td>\n",
              "      <td>1</td>\n",
              "      <td>...</td>\n",
              "      <td>2</td>\n",
              "      <td>2</td>\n",
              "      <td>-1</td>\n",
              "      <td>3</td>\n",
              "      <td>2</td>\n",
              "      <td>3</td>\n",
              "      <td>-1</td>\n",
              "      <td>1</td>\n",
              "      <td>1</td>\n",
              "      <td>1</td>\n",
              "      <td>2</td>\n",
              "      <td>1</td>\n",
              "      <td>2</td>\n",
              "      <td>2</td>\n",
              "      <td>2</td>\n",
              "      <td>2</td>\n",
              "      <td>2</td>\n",
              "      <td>2</td>\n",
              "      <td>2</td>\n",
              "      <td>825.0</td>\n",
              "      <td>1585.0</td>\n",
              "      <td>82.5</td>\n",
              "      <td>158.5</td>\n",
              "      <td>2</td>\n",
              "      <td>4</td>\n",
              "      <td>5121</td>\n",
              "      <td>5</td>\n",
              "      <td>289.864054</td>\n",
              "      <td>1</td>\n",
              "      <td>1</td>\n",
              "      <td>2</td>\n",
              "      <td>-1</td>\n",
              "      <td>16546</td>\n",
              "      <td>370</td>\n",
              "      <td>442</td>\n",
              "      <td>Branca</td>\n",
              "      <td>Obesidade</td>\n",
              "      <td>Centro-Oeste</td>\n",
              "      <td>Feminino</td>\n",
              "      <td>Pública</td>\n",
              "    </tr>\n",
              "  </tbody>\n",
              "</table>\n",
              "<p>1507 rows × 186 columns</p>\n",
              "</div>"
            ],
            "text/plain": [
              "       ANOPESQ  PAIS  REGEOGR  ...        Região       Sexo  Administração\n",
              "4         2015    76        1  ...         Norte  Masculino     Particular\n",
              "5         2015    76        1  ...         Norte   Feminino     Particular\n",
              "8         2015    76        1  ...         Norte  Masculino     Particular\n",
              "14        2015    76        1  ...         Norte  Masculino     Particular\n",
              "15        2015    76        1  ...         Norte   Feminino     Particular\n",
              "...        ...   ...      ...  ...           ...        ...            ...\n",
              "16503     2015    76        5  ...  Centro-Oeste   Feminino     Particular\n",
              "16525     2015    76        5  ...  Centro-Oeste  Masculino        Pública\n",
              "16533     2015    76        5  ...  Centro-Oeste   Feminino        Pública\n",
              "16536     2015    76        5  ...  Centro-Oeste   Feminino        Pública\n",
              "16545     2015    76        5  ...  Centro-Oeste   Feminino        Pública\n",
              "\n",
              "[1507 rows x 186 columns]"
            ]
          },
          "metadata": {
            "tags": []
          },
          "execution_count": 14
        }
      ]
    },
    {
      "cell_type": "code",
      "metadata": {
        "colab": {
          "base_uri": "https://localhost:8080/",
          "height": 391
        },
        "id": "uvZ94hlhwesR",
        "outputId": "7d4dd79c-6b74-4ae3-8bcf-5695f18cc533"
      },
      "source": [
        "### Gráfico mostrando distribuição por raças dos alunos considerados obesos.\r\n",
        "dados_obeso['Raça'].value_counts().plot(kind='bar', figsize=(12,6), grid = False, rot=0, color ='green')\r\n",
        "plt.title('Distribuição de raças entre os alunos pesquisados')\r\n",
        "plt.xlabel('')\r\n",
        "plt.ylabel('Quantidade de alunos')\r\n",
        "plt.show()"
      ],
      "execution_count": null,
      "outputs": [
        {
          "output_type": "display_data",
          "data": {
            "image/png": "[encoded data removed]",
            "text/plain": [
              "<Figure size 864x432 with 1 Axes>"
            ]
          },
          "metadata": {
            "tags": [],
            "needs_background": "light"
          }
        }
      ]
    },
    {
      "cell_type": "code",
      "metadata": {
        "colab": {
          "base_uri": "https://localhost:8080/"
        },
        "id": "xuDEfDBrwrfs",
        "outputId": "645f2be6-8f48-4ef3-8d53-94e617018d30"
      },
      "source": [
        "### Valores em porcentagem do gráfico acima. \r\n",
        "dados_obeso['Raça'].value_counts(normalize=True)*100"
      ],
      "execution_count": null,
      "outputs": [
        {
          "output_type": "execute_result",
          "data": {
            "text/plain": [
              "Branca           42.402123\n",
              "Parda            38.752488\n",
              "Preta            11.147976\n",
              "Indigena          4.114134\n",
              "Amarela           3.384207\n",
              "Não Informado     0.199071\n",
              "Name: Raça, dtype: float64"
            ]
          },
          "metadata": {
            "tags": []
          },
          "execution_count": 16
        }
      ]
    },
    {
      "cell_type": "markdown",
      "metadata": {
        "id": "eq5lIrq6wyAk"
      },
      "source": [
        "Verifica-se distribuição similar entre o total de alunos pesquisados e somente os obesos em relação as raças... "
      ]
    },
    {
      "cell_type": "markdown",
      "metadata": {
        "id": "HozEM0pGy-jQ"
      },
      "source": [
        "...no entanto, quando se analisa em que região está mais localizado os obesos, constata-se que a região Sul  possui o maior número de obesos mesmo sendo a 4ª região em relação ao número de alunos entrevistados. "
      ]
    },
    {
      "cell_type": "code",
      "metadata": {
        "colab": {
          "base_uri": "https://localhost:8080/",
          "height": 230
        },
        "id": "CzT96iqhyMId",
        "outputId": "8daead2d-c4fd-4127-a3a2-5939797c5cce"
      },
      "source": [
        "###Plotagem dos 2 gráficos\r\n",
        "\r\n",
        "ax = plt.figure(figsize=(18, 10))\r\n",
        "s1 = plt.subplot(2, 2, 1)\r\n",
        "#Gastos Total do governo federal\r\n",
        "s1 = dados['Região'].value_counts().plot(kind='bar', figsize=(12,6), grid = False, rot=0, color ='red')\r\n",
        "plt.title('Distribuição por regiões')\r\n",
        "plt.xlabel('')\r\n",
        "plt.ylabel('Quantidade de alunos')\r\n",
        "\r\n",
        "\r\n",
        "\r\n",
        "#Internações no Brasil\r\n",
        "\r\n",
        "s2 = plt.subplot(2, 2, 2)\r\n",
        "s2 = dados_obeso['Região'].value_counts().plot(kind='bar', figsize=(12,6), grid = False, rot=0, color ='red')\r\n",
        "plt.title('Distribuição por regiões')\r\n",
        "plt.xlabel('')\r\n",
        "plt.ylabel('Quantidade de alunos/obesos')\r\n",
        "\r\n",
        "\r\n"
      ],
      "execution_count": null,
      "outputs": [
        {
          "output_type": "execute_result",
          "data": {
            "text/plain": [
              "Text(0, 0.5, 'Quantidade de alunos/obesos')"
            ]
          },
          "metadata": {
            "tags": []
          },
          "execution_count": 17
        },
        {
          "output_type": "display_data",
          "data": {
            "image/png": "[encoded data removed]",
            "text/plain": [
              "<Figure size 864x432 with 2 Axes>"
            ]
          },
          "metadata": {
            "tags": [],
            "needs_background": "light"
          }
        }
      ]
    },
    {
      "cell_type": "markdown",
      "metadata": {
        "id": "0s9nJHv_ivsy"
      },
      "source": [
        "Os entrevistados, em relação ao gênero, estão distribuidos quase que igualitariamente: 50% para cada sexo. No entanto...\r\n",
        "\r\n"
      ]
    },
    {
      "cell_type": "code",
      "metadata": {
        "colab": {
          "base_uri": "https://localhost:8080/"
        },
        "id": "JAK-iL70xe69",
        "outputId": "5314c0a9-9f2c-4d5b-b3fe-47cf952f7573"
      },
      "source": [
        "### Pode-se considerar 50% para cada gênero os alunos entrevistados. \r\n",
        "dados['Sexo'].value_counts(normalize=True)*100"
      ],
      "execution_count": null,
      "outputs": [
        {
          "output_type": "execute_result",
          "data": {
            "text/plain": [
              "Masculino    50.054361\n",
              "Feminino     49.945639\n",
              "Name: Sexo, dtype: float64"
            ]
          },
          "metadata": {
            "tags": []
          },
          "execution_count": 18
        }
      ]
    },
    {
      "cell_type": "markdown",
      "metadata": {
        "id": "HgfIj9UYi-Qh"
      },
      "source": [
        "...os obesos, em maior proporção, são as crianças do sexo masculino: 56% dentre os obesos. "
      ]
    },
    {
      "cell_type": "code",
      "metadata": {
        "colab": {
          "base_uri": "https://localhost:8080/"
        },
        "id": "zyxnTKVCreq5",
        "outputId": "e07b9c44-5748-4bdd-c167-bbb13dfffc8e"
      },
      "source": [
        "dados_obeso['Sexo'].value_counts(normalize=True)*100"
      ],
      "execution_count": null,
      "outputs": [
        {
          "output_type": "execute_result",
          "data": {
            "text/plain": [
              "Masculino    56.071666\n",
              "Feminino     43.928334\n",
              "Name: Sexo, dtype: float64"
            ]
          },
          "metadata": {
            "tags": []
          },
          "execution_count": 19
        }
      ]
    },
    {
      "cell_type": "markdown",
      "metadata": {
        "id": "m3JetLY1jLzh"
      },
      "source": [
        "Em geral, os alunos mais novos (entre 11 e 16 anos) são maioria na pesquisa. Compreendem um universo de 85% dos entrevistados. "
      ]
    },
    {
      "cell_type": "code",
      "metadata": {
        "colab": {
          "base_uri": "https://localhost:8080/"
        },
        "id": "gMWmAkKp2hLu",
        "outputId": "5cdaf308-8d66-410c-ed76-e543e5a770c7"
      },
      "source": [
        "### Proporção de alunos por idade\r\n",
        "dados['VB01003'].value_counts(normalize=True)*100"
      ],
      "execution_count": null,
      "outputs": [
        {
          "output_type": "execute_result",
          "data": {
            "text/plain": [
              "12    15.909640\n",
              "13    15.468712\n",
              "15    14.647258\n",
              "16    13.711041\n",
              "14    12.883547\n",
              "11    12.515100\n",
              "17     9.283643\n",
              "18     3.400580\n",
              "19     2.180478\n",
              "Name: VB01003, dtype: float64"
            ]
          },
          "metadata": {
            "tags": []
          },
          "execution_count": 20
        }
      ]
    },
    {
      "cell_type": "markdown",
      "metadata": {
        "id": "7bTTay12joLh"
      },
      "source": [
        "As crianças de 11 anos ou menos são 12,5% dos entrevistados. Porém, ao analisar somente os obesos, verifica-se que essas faixa etária compreende 18,36% dos obesos. Ao juntar com os alunos de 12 e 13 anos, resulta em mais de metade dos obesos nessas três faixas etárias. Dado que levanta preocupação. \r\n",
        "52% dos obesos são de 13 anos ou menos. "
      ]
    },
    {
      "cell_type": "code",
      "metadata": {
        "colab": {
          "base_uri": "https://localhost:8080/"
        },
        "id": "DE95tDHt2Xet",
        "outputId": "2bb2e195-f1c2-4155-ce67-00910a777d54"
      },
      "source": [
        "### Proporção de obesos por idade.\r\n",
        "dados_obeso['VB01003'].value_counts(normalize=True)*100"
      ],
      "execution_count": null,
      "outputs": [
        {
          "output_type": "execute_result",
          "data": {
            "text/plain": [
              "12    18.579960\n",
              "11    18.314532\n",
              "13    15.461181\n",
              "14    12.342402\n",
              "15    12.076974\n",
              "16     9.754479\n",
              "17     7.896483\n",
              "18     2.986065\n",
              "19     2.587923\n",
              "Name: VB01003, dtype: float64"
            ]
          },
          "metadata": {
            "tags": []
          },
          "execution_count": 21
        }
      ]
    },
    {
      "cell_type": "markdown",
      "metadata": {
        "id": "CXnK33qtrZs0"
      },
      "source": [
        "Somente na raça Indigena o número de obesos do sexo feminino sobrepõe aos obesos do sexo masculino. \r\n"
      ]
    },
    {
      "cell_type": "code",
      "metadata": {
        "colab": {
          "base_uri": "https://localhost:8080/",
          "height": 408
        },
        "id": "eZqLCzDtri6e",
        "outputId": "e9a06580-9b5b-4000-8f25-b67713544c1e"
      },
      "source": [
        "### Relação entre sexo e raça e quantidade de alunos, obesos, na pesquisa. \r\n",
        "dados_obeso[['Sexo','Raça']].value_counts().plot(kind='barh', figsize=(12,6), grid = False, rot=0, color ='green')\r\n",
        "plt.title('Sexo/Raça')\r\n",
        "plt.xlabel('Quantidade de alunos obesos')\r\n",
        "plt.ylabel('Sexo x Raça')\r\n",
        "plt.show()"
      ],
      "execution_count": null,
      "outputs": [
        {
          "output_type": "display_data",
          "data": {
            "image/png": "[encoded data removed]",
            "text/plain": [
              "<Figure size 864x432 with 1 Axes>"
            ]
          },
          "metadata": {
            "tags": [],
            "needs_background": "light"
          }
        }
      ]
    },
    {
      "cell_type": "markdown",
      "metadata": {
        "id": "bhxlLTR3w78s"
      },
      "source": [
        "Em relação as escolas públicas e particulares, 70% dos alunos obesos estudam em escolas públicas. \r\n",
        "\r\n",
        "\r\n"
      ]
    },
    {
      "cell_type": "code",
      "metadata": {
        "colab": {
          "base_uri": "https://localhost:8080/",
          "height": 408
        },
        "id": "oQ-NkCXrx5uJ",
        "outputId": "d967a7ab-a1e8-467c-e320-5d83ba4e778a"
      },
      "source": [
        "dados_obeso['Administração'].value_counts().plot(kind='bar', figsize=(12,6), grid = False, rot=0, color ='c')\r\n",
        "plt.title('Distribuição dos alunos obesos em escolas ')\r\n",
        "plt.xlabel('Tipo de escola')\r\n",
        "plt.ylabel('Quantidade de alunos obesos')\r\n",
        "plt.show()"
      ],
      "execution_count": null,
      "outputs": [
        {
          "output_type": "display_data",
          "data": {
            "image/png": "[encoded data removed]",
            "text/plain": [
              "<Figure size 864x432 with 1 Axes>"
            ]
          },
          "metadata": {
            "tags": [],
            "needs_background": "light"
          }
        }
      ]
    },
    {
      "cell_type": "code",
      "metadata": {
        "colab": {
          "base_uri": "https://localhost:8080/"
        },
        "id": "5GTSYp6bzifY",
        "outputId": "e7d519cd-3f3c-47c7-f479-21d561e88b60"
      },
      "source": [
        "### Proporção de obesos entre escolas públicas e particulares.\r\n",
        "dados_obeso['Administração'].value_counts(normalize=True)*100"
      ],
      "execution_count": null,
      "outputs": [
        {
          "output_type": "execute_result",
          "data": {
            "text/plain": [
              "Pública       69.542137\n",
              "Particular    30.457863\n",
              "Name: Administração, dtype: float64"
            ]
          },
          "metadata": {
            "tags": []
          },
          "execution_count": 24
        }
      ]
    },
    {
      "cell_type": "markdown",
      "metadata": {
        "id": "TPMXECHjnSRR"
      },
      "source": [
        "A variável VB03006A (aborda sobre a quantidade de dias de atividade fisica, fora a Educação Fisica na escola), onde 1 é não praticou atividade, 2 é 1 dia, 3 são 2 dias, 4 são 3 dias, 5 são 4 dias, 6 são 5 dias, 7 são 5 dias mais o sábado, e 8 são 5 dias mais sábado e domingo.\r\n",
        "\r\n",
        "Analisando o comportamento dos alunos obesos e dos alunos saudáveis em relação a essa variável, constata-se que o comportamento dos dois grupos, obesos e saudáveis, é bastante similar. Em ambos, proximo de 30% dos alunos não praticam nenhuma atividade física na semana. As outras opções de resposta no questionário também possuem resultados semelhantes. \r\n"
      ]
    },
    {
      "cell_type": "code",
      "metadata": {
        "colab": {
          "base_uri": "https://localhost:8080/"
        },
        "id": "ZFr4I8QY54WX",
        "outputId": "68ba4054-d793-4102-8248-1b523c0a3549"
      },
      "source": [
        "### Atividade fisica semanal de alunos obesos. \r\n",
        "dados_obeso['VB03006A'].value_counts(normalize=True)*100"
      ],
      "execution_count": null,
      "outputs": [
        {
          "output_type": "execute_result",
          "data": {
            "text/plain": [
              "1    31.320504\n",
              "4    12.342402\n",
              "8    12.276045\n",
              "2    11.944260\n",
              "3    11.877903\n",
              "6     8.228268\n",
              "5     6.569343\n",
              "7     5.441274\n",
              "Name: VB03006A, dtype: float64"
            ]
          },
          "metadata": {
            "tags": []
          },
          "execution_count": 25
        }
      ]
    },
    {
      "cell_type": "code",
      "metadata": {
        "colab": {
          "base_uri": "https://localhost:8080/",
          "height": 408
        },
        "id": "ct3426x-DHnc",
        "outputId": "41714bea-abda-4522-c033-629461f50441"
      },
      "source": [
        "### Exploração gráfica sobre a variável atividade física na semana.\r\n",
        "variável = ('Nenhum dia nos últimos 7 dias (0 dia)', '1 dia nos últimos 7 dias','2 dias nos últimos 7 dias','3 dias nos últimos 7 dias','4 dias nos últimos 7 dias','5 dias nos últimos 7 dias','5 dias mais sábado, nos últimos 7 dias','5 dias mais sábado e domingo, nos últimos 7 dias')\r\n",
        "\r\n",
        "plt.figure(figsize=(12,6))\r\n",
        "plt.title(\"Atividade física nos últimos 7 dias -  Alunos obesos\", fontsize= 18, pad=20)\r\n",
        "ax = sns.histplot(data = dados_obeso,\r\n",
        "                  x = 'VB03006A',\r\n",
        "                  hue='VB03006A',\r\n",
        "                  legend=True,\r\n",
        "                  palette='plasma')\r\n",
        "\r\n",
        "ax.set_ylabel('Quantidade de alunos obesos', fontsize=14)\r\n",
        "ax.set_xlabel('', fontsize=14)\r\n",
        "ax.legend(variável[::-1],loc='upper right')\r\n",
        "ax.grid(True)\r\n",
        "ax = ax"
      ],
      "execution_count": null,
      "outputs": [
        {
          "output_type": "display_data",
          "data": {
            "image/png": "[encoded data removed]",
            "text/plain": [
              "<Figure size 864x432 with 1 Axes>"
            ]
          },
          "metadata": {
            "tags": [],
            "needs_background": "light"
          }
        }
      ]
    },
    {
      "cell_type": "code",
      "metadata": {
        "id": "muvzguOVGC0d"
      },
      "source": [
        "### Criação de um dataframe com dados de apenas alunos considerados saudáveis segundo a variável nutricional. \r\n",
        "dados_saudáveis = dados.query('VB17006 == \"2\" & VB03006A < 9')"
      ],
      "execution_count": null,
      "outputs": []
    },
    {
      "cell_type": "code",
      "metadata": {
        "colab": {
          "base_uri": "https://localhost:8080/"
        },
        "id": "RfknmFNV6MJR",
        "outputId": "3d83ea50-d8f3-4138-841c-9dbd32ebc510"
      },
      "source": [
        "### Atividade física de alunos saudáveis. \r\n",
        "dados_saudáveis['VB03006A'].value_counts(normalize=True)*100"
      ],
      "execution_count": null,
      "outputs": [
        {
          "output_type": "execute_result",
          "data": {
            "text/plain": [
              "1    34.128440\n",
              "2    12.608126\n",
              "3    12.477064\n",
              "8    11.655745\n",
              "4     9.785933\n",
              "6     8.588903\n",
              "5     6.256007\n",
              "7     4.499782\n",
              "Name: VB03006A, dtype: float64"
            ]
          },
          "metadata": {
            "tags": []
          },
          "execution_count": 28
        }
      ]
    },
    {
      "cell_type": "code",
      "metadata": {
        "id": "u-6HGoTtcDmx",
        "colab": {
          "base_uri": "https://localhost:8080/",
          "height": 408
        },
        "outputId": "37f7c8c9-d56f-402f-a239-32cbef59edc1"
      },
      "source": [
        "### Exploração gráfica sobre a variável atividade física na semana.\r\n",
        "variável = ('Nenhum dia nos últimos 7 dias (0 dia)', '1 dia nos últimos 7 dias','2 dias nos últimos 7 dias','3 dias nos últimos 7 dias','4 dias nos últimos 7 dias','5 dias nos últimos 7 dias','5 dias mais sábado, nos últimos 7 dias','5 dias mais sábado e domingo, nos últimos 7 dias')\r\n",
        "\r\n",
        "plt.figure(figsize=(15,6))\r\n",
        "plt.title(\"Atividade física nos últimos 7 dias - Alunos saudáveis\", fontsize= 18, pad=20)\r\n",
        "ax = sns.histplot(data = dados_saudáveis,\r\n",
        "                  x = 'VB03006A',\r\n",
        "                  hue='VB03006A',\r\n",
        "                  legend=True,\r\n",
        "                  palette='plasma')\r\n",
        "\r\n",
        "ax.set_ylabel('Quantidade de alunos saudáveis', fontsize=14)\r\n",
        "ax.set_xlabel('', fontsize=14)\r\n",
        "ax.legend(variável[::-1],loc='upper right')\r\n",
        "ax.grid(True)\r\n",
        "ax = ax"
      ],
      "execution_count": null,
      "outputs": [
        {
          "output_type": "display_data",
          "data": {
            "image/png": "[encoded data removed]",
            "text/plain": [
              "<Figure size 1080x432 with 1 Axes>"
            ]
          },
          "metadata": {
            "tags": [],
            "needs_background": "light"
          }
        }
      ]
    },
    {
      "cell_type": "markdown",
      "metadata": {
        "id": "DkAxwLir95yO"
      },
      "source": [
        "A variável VB02022 questiona: NOS ÚLTIMOS 7 DIAS, em quantos dias você comeu alimentos industrializados/ultraprocessados salgados, como hambúrguer, presunto, mortadela, salame, linguiça, salsicha, macarrão instantâneo, salgadinho de pacote, biscoitos salgados? (Quanto maior o número da resposta, maior a quantidade de dias ingerindo esses produtos, sendo 1 = nenhum dia, 2 = 1 dia; seguindo até chegar a  8 = 7 dias. \r\n",
        "\r\n",
        "No grupo dos obesos, a maioria não come com frequência esse tipo de produto. O que pode gerar resultados positivos a longo prazo. No entanto, no grupo dos saudáveis, a resposta 8 (Todos os dias dos últimos 7 dias) é a que aparece com maior frequência. Considerando as respostas dos alunos como absoluta verdade, é um dado preoucupante. "
      ]
    },
    {
      "cell_type": "code",
      "metadata": {
        "id": "FJUuO1vKLO5u"
      },
      "source": [
        "### Exclusão de valores 99, que indica \"não informado\". São valores pequenos em relação ao total e dispersam a apresentação do gráfico.\r\n",
        "dados_obeso2 = dados.query('VB17006 == 4 & VB02022 < 9')\r\n",
        "dados_saudaveis = dados.query('VB17006 == 2')\r\n",
        "dados_saudaveis2 = dados.query('VB17006 == 2 & VB02022 < 9')"
      ],
      "execution_count": null,
      "outputs": []
    },
    {
      "cell_type": "code",
      "metadata": {
        "colab": {
          "base_uri": "https://localhost:8080/",
          "height": 409
        },
        "id": "bnuUIMsb9e81",
        "outputId": "7863c26c-b630-411c-dbd5-dba330e496ce"
      },
      "source": [
        "### Exploração gráfica sobre a variável alimentação.\r\n",
        "variável = ('0 dia', '1 dia','2 dias','3 dias','4 dias','5 dias','6 dias','7 dias')\r\n",
        "plt.figure(figsize=(15,6))\r\n",
        "plt.title(\"Alimentação com produtos industrializados ou processados nos últimos 7 dias (alunos obesos)\", fontsize= 18, pad=20)\r\n",
        "ax = sns.histplot(data = dados_obeso2,\r\n",
        "                  x = 'VB02022',\r\n",
        "                  hue='VB02022',\r\n",
        "                  legend=True,\r\n",
        "                  palette='plasma')\r\n",
        "\r\n",
        "ax.set_ylabel('Quantidade de alunos obesos', fontsize=14)\r\n",
        "ax.set_xlabel('', fontsize=14)\r\n",
        "ax.legend(variável[::-1],loc='upper center')\r\n",
        "ax.grid(True)\r\n",
        "ax = ax"
      ],
      "execution_count": null,
      "outputs": [
        {
          "output_type": "display_data",
          "data": {
            "image/png": "[encoded data removed]",
            "text/plain": [
              "<Figure size 1080x432 with 1 Axes>"
            ]
          },
          "metadata": {
            "tags": [],
            "needs_background": "light"
          }
        }
      ]
    },
    {
      "cell_type": "code",
      "metadata": {
        "colab": {
          "base_uri": "https://localhost:8080/",
          "height": 409
        },
        "id": "pdlxnSAEJ5TM",
        "outputId": "3714b119-86c5-402a-bb7f-cf423212c2cd"
      },
      "source": [
        "### Exploração gráfica sobre a variável alimentação.\r\n",
        "dados_saudáveis2 = dados.query('VB17006 == \"2\" & VB02022 < 9')\r\n",
        "variável = ('0 dia', '1 dia','2 dias','3 dias','4 dias','5 dias','6 dia','7 dias')\r\n",
        "plt.figure(figsize=(15,6))\r\n",
        "plt.title(\"Alimentação com produtos industrializados ou processados nos últimos 7 dias  (alunos saudáveis)\", fontsize= 18, pad=20)\r\n",
        "ax = sns.histplot(data = dados_saudáveis2,\r\n",
        "                  x = 'VB02022',\r\n",
        "                  hue='VB02022',\r\n",
        "                  legend=True,\r\n",
        "                  palette='plasma')\r\n",
        "\r\n",
        "ax.set_ylabel('Quantidade de alunos saudáveis', fontsize=14)\r\n",
        "ax.set_xlabel('', fontsize=14)\r\n",
        "ax.legend(variável[::-1],loc='upper center')\r\n",
        "ax.grid(True)\r\n",
        "ax = ax"
      ],
      "execution_count": null,
      "outputs": [
        {
          "output_type": "display_data",
          "data": {
            "image/png": "[encoded data removed]",
            "text/plain": [
              "<Figure size 1080x432 with 1 Axes>"
            ]
          },
          "metadata": {
            "tags": [],
            "needs_background": "light"
          }
        }
      ]
    },
    {
      "cell_type": "markdown",
      "metadata": {
        "id": "GXua9RsSXNlK"
      },
      "source": [
        "##5. Hipótese estatística sobre obesidade"
      ]
    },
    {
      "cell_type": "markdown",
      "metadata": {
        "id": "2_UKLx2bTiVh"
      },
      "source": [
        "Praticar atividade física (VB03006A), segundo as respostas dos alunos no questionário, tem influenciado na questão da obesidade? Comparando os dois grupos (saudáveis e obesos), existe signicativa diferença comportamental entre eles? Quem pratica mais atividade fisica é mais propicio a ser saudável segundo os dois grupos? Na teoria sim, porém, a análise gráfica não confirmou isso. A média dos dias de atividades fisica dos obesos está sutilmente maior que a dos alunos saudáveis.\r\n",
        "\r\n",
        "Problema:\r\n",
        "\r\n",
        "Duas amostras aleatórias, uma de 500 saudáveis e outra com 500 obesos, foram selecionadas em nosso dataset. Com o objetivo de comprovar tal desigualdade, será testada a igualdade das médias entre estas duas amostras com um nível de significância de 5%."
      ]
    },
    {
      "cell_type": "markdown",
      "metadata": {
        "id": "eD07YY93xV6s"
      },
      "source": [
        "Neste tipo de teste (teste para duas amostras)se deseja decidir se uma amostra é diferente da outra."
      ]
    },
    {
      "cell_type": "code",
      "metadata": {
        "id": "1YDyvy_8r9cN"
      },
      "source": [
        "### Seleção das amostras\r\n",
        "saudáveis = dados.query('VB17006 == 2 & VB03006A < 9').sample(n = 500, random_state = 101).VB03006A\r\n",
        "obesos = dados.query('VB17006 == 4 & VB03006A < 9').sample(n = 500, random_state = 101).VB03006A"
      ],
      "execution_count": null,
      "outputs": []
    },
    {
      "cell_type": "code",
      "metadata": {
        "id": "YQ8eyFmosv1z",
        "colab": {
          "base_uri": "https://localhost:8080/"
        },
        "outputId": "dc971b50-a22b-4104-aa17-b0236f20a5a9"
      },
      "source": [
        "media_amostra_saudáveis = saudáveis.mean()\r\n",
        "media_amostra_saudáveis"
      ],
      "execution_count": null,
      "outputs": [
        {
          "output_type": "execute_result",
          "data": {
            "text/plain": [
              "3.466"
            ]
          },
          "metadata": {
            "tags": []
          },
          "execution_count": 37
        }
      ]
    },
    {
      "cell_type": "code",
      "metadata": {
        "id": "U7OxNgW_svdB",
        "colab": {
          "base_uri": "https://localhost:8080/"
        },
        "outputId": "cf112869-28f4-4e84-ed53-4f19159d336d"
      },
      "source": [
        "desvio_padrao_amostra_saudáveis = saudáveis.std()\r\n",
        "desvio_padrao_amostra_saudáveis"
      ],
      "execution_count": null,
      "outputs": [
        {
          "output_type": "execute_result",
          "data": {
            "text/plain": [
              "2.492643283962264"
            ]
          },
          "metadata": {
            "tags": []
          },
          "execution_count": 38
        }
      ]
    },
    {
      "cell_type": "code",
      "metadata": {
        "id": "mUb7W4t5s8YT",
        "colab": {
          "base_uri": "https://localhost:8080/"
        },
        "outputId": "2b98df52-4576-4f8a-ba19-64bf14619639"
      },
      "source": [
        "media_amostra_obesos = obesos.mean()\r\n",
        "media_amostra_obesos"
      ],
      "execution_count": null,
      "outputs": [
        {
          "output_type": "execute_result",
          "data": {
            "text/plain": [
              "3.634"
            ]
          },
          "metadata": {
            "tags": []
          },
          "execution_count": 39
        }
      ]
    },
    {
      "cell_type": "code",
      "metadata": {
        "id": "ndeKG24NtA9W",
        "colab": {
          "base_uri": "https://localhost:8080/"
        },
        "outputId": "5fb5b3d5-ba71-47d4-dc92-da11a09e92e8"
      },
      "source": [
        "desvio_padrao_amostra_obesos = obesos.std()\r\n",
        "desvio_padrao_amostra_obesos"
      ],
      "execution_count": null,
      "outputs": [
        {
          "output_type": "execute_result",
          "data": {
            "text/plain": [
              "2.425656946735571"
            ]
          },
          "metadata": {
            "tags": []
          },
          "execution_count": 40
        }
      ]
    },
    {
      "cell_type": "code",
      "metadata": {
        "id": "O7TyYVxntFCb"
      },
      "source": [
        "significancia = 0.05\r\n",
        "confianca = 1 - significancia\r\n",
        "n_saudáveis = 500\r\n",
        "n_obesos = 500\r\n",
        "D_0 = 0"
      ],
      "execution_count": null,
      "outputs": []
    },
    {
      "cell_type": "markdown",
      "metadata": {
        "id": "od6-lwjo8uhQ"
      },
      "source": [
        "### - Formulação das hipóteses $H_0$ e $H_1$\r\n"
      ]
    },
    {
      "cell_type": "markdown",
      "metadata": {
        "id": "d0ZLJV_391a-"
      },
      "source": [
        "### $\\mu_1 \\Rightarrow$ Média dos dias de atividades fisica (na semana) dos alunos obesos\r\n",
        "### $\\mu_2 \\Rightarrow$ Média dos dias de atividades fisica (na semana) dos alunos saudáveis \r\n",
        "\r\n",
        "### $\r\n",
        "\\begin{cases}\r\n",
        "H_0: \\mu_1 -\\mu_2 \\leq 0\\\\\r\n",
        "H_1: \\mu_1 -\\mu_2 > 0\r\n",
        "\\end{cases}\r\n",
        "$"
      ]
    },
    {
      "cell_type": "markdown",
      "metadata": {
        "id": "LlStDSR-LgOl"
      },
      "source": [
        ""
      ]
    },
    {
      "cell_type": "markdown",
      "metadata": {
        "id": "NeagCZJ7-UZF"
      },
      "source": [
        "Como hipótese nula temos que os obesos praticam menos atividades fisica que os saudáveis.  "
      ]
    },
    {
      "cell_type": "markdown",
      "metadata": {
        "id": "hIkM_p7f-upn"
      },
      "source": [
        "### - Escolha da distribuição amostral adequada\r\n",
        "<img src='https://caelum-online-public.s3.amazonaws.com/1229-estatistica-parte3/01/img003.png' width=70%>\r\n"
      ]
    },
    {
      "cell_type": "markdown",
      "metadata": {
        "id": "5dLAgQJ7_At9"
      },
      "source": [
        "A amostra é maior que 30, e o desvio padrão populacional não é conhecido. "
      ]
    },
    {
      "cell_type": "markdown",
      "metadata": {
        "id": "vvHbWVb9_Kwd"
      },
      "source": [
        "### - Fixação da significância do teste ($\\alpha$)"
      ]
    },
    {
      "cell_type": "code",
      "metadata": {
        "id": "xcZfNDm8tOs8",
        "colab": {
          "base_uri": "https://localhost:8080/"
        },
        "outputId": "5871e637-2b96-42aa-dff5-dfd456a9ef0e"
      },
      "source": [
        "probabilidade = significancia\r\n",
        "probabilidade"
      ],
      "execution_count": null,
      "outputs": [
        {
          "output_type": "execute_result",
          "data": {
            "text/plain": [
              "0.05"
            ]
          },
          "metadata": {
            "tags": []
          },
          "execution_count": 42
        }
      ]
    },
    {
      "cell_type": "code",
      "metadata": {
        "id": "Gy-IkRRRtTqA",
        "colab": {
          "base_uri": "https://localhost:8080/"
        },
        "outputId": "22aa5d12-9cc4-47c8-b95f-b9bc641b3cfc"
      },
      "source": [
        "z_alpha = norm.ppf(probabilidade)\r\n",
        "z_alpha.round(2)"
      ],
      "execution_count": null,
      "outputs": [
        {
          "output_type": "execute_result",
          "data": {
            "text/plain": [
              "-1.64"
            ]
          },
          "metadata": {
            "tags": []
          },
          "execution_count": 43
        }
      ]
    },
    {
      "cell_type": "markdown",
      "metadata": {
        "id": "aGIfuuWH_zWO"
      },
      "source": [
        "### - Cálculo da estatística-teste e verificação desse valor com as áreas de aceitação e rejeição do teste\r\n",
        "\r\n",
        "# $$z = \\frac{(\\bar{x_1} - \\bar{x_2})-D_0}{\\sqrt{\\frac{s_1^2}{n_1} + \\frac{s_2^2}{n_2}}}$$"
      ]
    },
    {
      "cell_type": "code",
      "metadata": {
        "id": "vAj_TEK9tyKo",
        "colab": {
          "base_uri": "https://localhost:8080/"
        },
        "outputId": "9d437325-3cac-4422-a907-411398a89eee"
      },
      "source": [
        "numerador = (media_amostra_obesos - media_amostra_saudáveis) - D_0\r\n",
        "\r\n",
        "denominador = np.sqrt((desvio_padrao_amostra_obesos ** 2 / n_obesos) + (desvio_padrao_amostra_saudáveis ** 2 / n_saudáveis))\r\n",
        "\r\n",
        "z = numerador / denominador\r\n",
        "\r\n",
        "z"
      ],
      "execution_count": null,
      "outputs": [
        {
          "output_type": "execute_result",
          "data": {
            "text/plain": [
              "1.080075136546634"
            ]
          },
          "metadata": {
            "tags": []
          },
          "execution_count": 44
        }
      ]
    },
    {
      "cell_type": "markdown",
      "metadata": {
        "id": "LJlrK0GXBIqu"
      },
      "source": [
        "###  - Aceitação ou rejeição da hipótese nula"
      ]
    },
    {
      "cell_type": "markdown",
      "metadata": {
        "id": "uDJehQg0BP-b"
      },
      "source": [
        "<img src='https://caelum-online-public.s3.amazonaws.com/1229-estatistica-parte3/01/img014.png' width=90%>"
      ]
    },
    {
      "cell_type": "markdown",
      "metadata": {
        "id": "R5mMDQY1BdBQ"
      },
      "source": [
        "### <font color='red'>Critério do valor crítico</font>\r\n",
        "\r\n",
        "> ### Teste Unicaudal\r\n",
        "> ### Rejeitar $H_0$ se $z \\geq z_{\\alpha}$"
      ]
    },
    {
      "cell_type": "code",
      "metadata": {
        "id": "wesFI5fHt3rc",
        "colab": {
          "base_uri": "https://localhost:8080/"
        },
        "outputId": "fe9e603f-7fd6-400d-9534-48c31fad4cb2"
      },
      "source": [
        "z >= z_alpha"
      ],
      "execution_count": null,
      "outputs": [
        {
          "output_type": "execute_result",
          "data": {
            "text/plain": [
              "True"
            ]
          },
          "metadata": {
            "tags": []
          },
          "execution_count": 45
        }
      ]
    },
    {
      "cell_type": "markdown",
      "metadata": {
        "id": "xaSOG5mlBqsO"
      },
      "source": [
        "### <font color='green'>Conclusão: Com um nível de confiança de 95% rejeita-se $H_0$, isto é, concluí-se que a média dos dias de atividade física dos alunos obesos é maior que a média dos dias de atividade física dos saudáveis.</font>"
      ]
    },
    {
      "cell_type": "markdown",
      "metadata": {
        "id": "MjEynGKYX5cR"
      },
      "source": [
        "##6. Conclusão"
      ]
    },
    {
      "cell_type": "markdown",
      "metadata": {
        "id": "W1IJWDBfGnvx"
      },
      "source": [
        " - A grande maioria dos entrevistados são brancos ou \r\n",
        "pardos: 80,3% dos alunos.  \r\n",
        "\r\n",
        "- Ainda são maioria os alunos dentro do peso: 69.3%. No entanto, obesos e alunos com sobrepeso representam quase 30%. A obesidade no Brasil, segundo o IBGE/2016 é de 6,7%. Entre os alunos do PeNSE/2015 está em quase 10%.  \r\n",
        "\r\n",
        "\r\n",
        "- Sul e sudeste lideram o número de obesos. \r\n",
        "\r\n",
        "- O sexo masculino tem mais obesos (56%) que o sexo feminino (44%). \r\n",
        "\r\n",
        "- Em geral, os alunos mais novos (entre 11 e 16 anos) são maioria na pesquisa. Compreendem um universo de 85% dos entrevistados. \r\n",
        "\r\n",
        "- 52% dos obesos são de 13 anos ou menos. \r\n",
        "\r\n",
        "- Somente na raça Indigena o número de obesos do sexo feminino sobrepõe aos obesos do sexo masculino. \r\n",
        "\r\n",
        "\r\n",
        "- Em relação as escolas públicas e particulares, 70% dos alunos obesos estudam em escolas públicas. Se alimentar mal não é sinônimo de perda de peso. Comer muito é indicativo de ganho de peso. Comer pouco ou não ter alimento é indicativo de perda de peso. \r\n",
        "\r\n",
        "- Não se pode correlacionar somente atividade física com obesidade. Diversos fatores contribuem para a obesidade, como outras doenças, depressão, alimentação fora de hora, entre outros. Um dos fatores que talvez justifiquem a incoerência dos resultados sobre a variável atividade fisica, seja a veracidade das respostas dadas pelos alunos. Pode-se confiar 100% nas respostas de crianças e adolescentes? Existe uma orientação e norteamento sobre a pesquisa e a importância dela? O governo faz programas de conscientização ou somente aplica o questionário?\r\n",
        "\r\n",
        "\r\n",
        "- Existe um mundo de variáveis a serem exploradas no arquivo. Escolhi um tema, obesidade, mas uma pesquisa dessa dimensão pode gerar um enorme número de trabalhos e pesquisas. \r\n"
      ]
    }
  ]
}